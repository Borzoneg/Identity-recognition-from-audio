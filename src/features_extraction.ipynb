{
 "cells": [
  {
   "cell_type": "markdown",
   "metadata": {},
   "source": [
    "## Import"
   ]
  },
  {
   "cell_type": "code",
   "execution_count": 113,
   "metadata": {},
   "outputs": [],
   "source": [
    "import torch\n",
    "from torch import nn\n",
    "import torch.nn.functional as F\n",
    "from torch.utils.data import Dataset, DataLoader\n",
    "\n",
    "import matplotlib.pyplot as plt\n",
    "import numpy as np\n",
    "rng = np.random.default_rng(123456)\n",
    "\n",
    "import librosa\n",
    "import librosa.display\n",
    "import IPython.display as ipd\n",
    "\n",
    "from scipy.io import wavfile\n",
    "\n",
    "import os\n",
    "from sklearn import neighbors"
   ]
  },
  {
   "cell_type": "markdown",
   "metadata": {},
   "source": [
    "## AudioDataset class"
   ]
  },
  {
   "cell_type": "code",
   "execution_count": 122,
   "metadata": {},
   "outputs": [],
   "source": [
    "sliced_dataset = \"short_audio_dataset\"\n",
    "sliced_dataset_lenght = 16050\n",
    "# sliced_dataset = \"shorter_audio_dataset\"\n",
    "# sliced_dataset_lenght = 4013\n",
    "original_dataset = \"audio_dataset\"\n",
    "original_dataset_lenght = 80249\n",
    "\n",
    "class AudioDataset(Dataset):\n",
    "    def __init__(self, root_path=\"./data/\", drop_both=False, use_short=False, normalize=False, use_features=False):\n",
    "        root_folder = root_path + original_dataset if not use_short else root_path + sliced_dataset\n",
    "        self.use_features = use_features\n",
    "        self.max_length = original_dataset_lenght if not use_short else sliced_dataset_lenght\n",
    "        self.class_map = {\"esben\" : 0, \"peter\": 1, \"both\": 2}\n",
    "        self.data = []\n",
    "        self.wavs = []\n",
    "        self.labels = []\n",
    "        self.features_list = []\n",
    "        self.min_val = 10e10\n",
    "        self.max_val = 0\n",
    "        print(\"Start reading files\")\n",
    "        for subdir, dirs, files in os.walk(root_folder):\n",
    "            for file_name in files:\n",
    "                if drop_both and \"both\" in subdir:\n",
    "                   continue\n",
    "        \n",
    "                file_path = os.path.join(subdir, file_name)\n",
    "                self.sample_rate, wav = wavfile.read(file_path)\n",
    "                wav = wav.astype(np.float32)\n",
    "                \n",
    "                if wav.shape[0] > self.max_length:\n",
    "                    self.max_length = wav.shape[0]\n",
    "                    print(\"Found wav with more length than specified max one, new max is:\", wav.shape[0])\n",
    "                \n",
    "                wav = np.pad(wav, (0, self.max_length-wav.shape[0]))\n",
    "                features = np.transpose(self.feature_extraction(wav, self.sample_rate, normalize=normalize))\n",
    "                label_str = file_path.split('/')[-3][2:]\n",
    "                label = (np.int64(self.class_map[label_str]))\n",
    "                \n",
    "                self.max_val = np.max(wav) if np.max(wav) > self.max_val else self.max_val\n",
    "                self.min_val = np.min(wav) if np.min(wav) < self.min_val else self.min_val\n",
    "                \n",
    "                self.wavs.append(wav)\n",
    "                self.features_list.append(features)\n",
    "                self.labels.append(label)\n",
    "               \n",
    "        self.wavs = np.array(self.wavs)\n",
    "        self.mu  = self.wavs.mean()\n",
    "        self.std = np.std(self.wavs)\n",
    "        # self.wavs = torch.Tensor(self.wavs)\n",
    "        if normalize:\n",
    "            self.wavs = (self.wavs + np.abs(self.min_val)) / (np.abs(self.min_val) + self.max_val)\n",
    "            # self.wavs = torch.nn.functional.normalize(self.wavs, dim=1)\n",
    "        \n",
    "        print(\"=\"*40)\n",
    "        print(\"Loaded DATABASE from {}\\n{} total file\\nLongest file is {} long\\nMean: {}\\nStandard deviation: {}\\nNormalization: {}\".\n",
    "              format(root_folder, len(self.wavs), self.max_length, self.mu, self.std, normalize))\n",
    "        print(\"=\"*40)\n",
    "    \n",
    "    def feature_extraction(self, wav, sample_rate, n_mfcc=128, normalize=False):\n",
    "        # extract features from the audio\n",
    "        mfcc = np.mean(librosa.feature.mfcc(y=wav, sr=sample_rate, n_mfcc=n_mfcc).T, axis=0)\n",
    "        if normalize:\n",
    "            mfcc = (mfcc + np.abs(np.min(mfcc))) / (np.abs(np.min(mfcc)) + np.max(mfcc))\n",
    "        return mfcc\n",
    "\n",
    "    def __len__(self):\n",
    "        return len(self.wavs)\n",
    "    \n",
    "    def __getitem__(self, idx):\n",
    "        wav = self.wavs[idx]\n",
    "        label = self.labels[idx]\n",
    "        features = self.features_list[idx]\n",
    "        wav_tensor = torch.from_numpy(wav)\n",
    "        label_tensor = torch.Tensor(label)\n",
    "        features_tensor = torch.Tensor(features)\n",
    "        return wav_tensor, label_tensor\n"
   ]
  },
  {
   "cell_type": "markdown",
   "metadata": {},
   "source": [
    "## Loading data for training"
   ]
  },
  {
   "cell_type": "code",
   "execution_count": 124,
   "metadata": {},
   "outputs": [
    {
     "name": "stdout",
     "output_type": "stream",
     "text": [
      "Start reading files\n"
     ]
    },
    {
     "name": "stdout",
     "output_type": "stream",
     "text": [
      "========================================\n",
      "Loaded DATABASE from ../data/short_audio_dataset\n",
      "1000 total file\n",
      "Longest file is 16050 long\n",
      "Mean: -0.6988561153411865\n",
      "Standard deviation: 2332.389404296875\n",
      "Normalization: True\n",
      "========================================\n",
      "32767.0\n"
     ]
    }
   ],
   "source": [
    "audio_dataset = AudioDataset(root_path=\"../data/\", drop_both=True, use_short=True, normalize=True, use_features=True)\n",
    "dataset_len = len(audio_dataset)\n",
    "train_size, test_size, valid_size = int(dataset_len * 0.7), int(dataset_len * 0.2), int(dataset_len * 0.1)\n",
    "\n",
    "dataset_train, dataset_test, dataset_valid = torch.utils.data.random_split(audio_dataset, (train_size, test_size, valid_size))\n",
    "print(audio_dataset.max_val)\n",
    "kwargs = {'batch_size': 1, 'num_workers': 2}\n",
    "loader_train = torch.utils.data.DataLoader(dataset_train, **kwargs, shuffle=True)\n",
    "loader_test = torch.utils.data.DataLoader(dataset_test, **kwargs, shuffle=True)\n",
    "loader_valid = torch.utils.data.DataLoader(dataset_valid, **kwargs, shuffle=True)"
   ]
  },
  {
   "cell_type": "markdown",
   "metadata": {},
   "source": [
    "## Autoencoder class"
   ]
  },
  {
   "cell_type": "code",
   "execution_count": 130,
   "metadata": {},
   "outputs": [],
   "source": [
    "class AutoEncoder(nn.Module):\n",
    "    def __init__(self, wav_len):\n",
    "        super().__init__()\n",
    "        self.encoder = nn.Sequential(\n",
    "            nn.Linear(128, 256),\n",
    "            nn.ReLU(),\n",
    "            # nn.Linear(64, 16),\n",
    "            # nn.ReLU(),\n",
    "            # nn.Linear(16, 4),\n",
    "            # nn.ReLU()\n",
    "        )\n",
    "        self.decoder = nn.Sequential(\n",
    "            nn.Linear(256, 128),\n",
    "            nn.ReLU(),\n",
    "            # nn.Linear(16, 64),\n",
    "            # nn.ReLU(),\n",
    "            # nn.Linear(64, 128),\n",
    "            nn.Sigmoid()\n",
    "        )\n",
    "\n",
    "    def encode(self, x):\n",
    "        return self.encoder(x)\n",
    "\n",
    "    def decode(self, x):\n",
    "        return self.decoder(x)\n",
    "        \n",
    "    def forward(self, x):\n",
    "        return self.decode(self.encode(x))"
   ]
  },
  {
   "cell_type": "markdown",
   "metadata": {},
   "source": [
    "## Feature extraction function"
   ]
  },
  {
   "cell_type": "code",
   "execution_count": 131,
   "metadata": {},
   "outputs": [],
   "source": [
    "def feature_extraction(wav, sample_rate, n_mfcc=128, normalize=False):\n",
    "    # extract features from the audio\n",
    "    mfcc = np.mean(librosa.feature.mfcc(y=wav, sr=sample_rate, n_mfcc=n_mfcc).T, axis=0)\n",
    "    if normalize:\n",
    "        mfcc = (mfcc + np.abs(np.min(mfcc))) / (np.abs(np.min(mfcc)) + np.max(mfcc))\n",
    "    return mfcc"
   ]
  },
  {
   "cell_type": "markdown",
   "metadata": {},
   "source": [
    "## Training"
   ]
  },
  {
   "cell_type": "code",
   "execution_count": 132,
   "metadata": {},
   "outputs": [
    {
     "name": "stdout",
     "output_type": "stream",
     "text": [
      "Epoch 01/25 "
     ]
    },
    {
     "name": "stdout",
     "output_type": "stream",
     "text": [
      "loss: 0.5693 - rmse: 0.1455 - mae: 0.0848\n",
      "Epoch 02/25 loss: 0.4276 - rmse: 0.2248 - mae: 0.1850\n",
      "Epoch 03/25 loss: 0.4861 - rmse: 0.1777 - mae: 0.1283\n",
      "Epoch 04/25 loss: 0.4918 - rmse: 0.1495 - mae: 0.0693\n",
      "Epoch 05/25 loss: 0.5713 - rmse: 0.1268 - mae: 0.0869\n",
      "Epoch 06/25 loss: 0.5500 - rmse: 0.1281 - mae: 0.0799\n",
      "Epoch 07/25 loss: 0.5206 - rmse: 0.1336 - mae: 0.0725\n",
      "Epoch 08/25 loss: 0.5106 - rmse: 0.1308 - mae: 0.0554\n",
      "Epoch 09/25 loss: 0.5977 - rmse: 0.0985 - mae: 0.0461\n",
      "Epoch 10/25 loss: 0.5346 - rmse: 0.1213 - mae: 0.0661\n",
      "Epoch 11/25 loss: 0.3974 - rmse: 0.1573 - mae: 0.0894\n",
      "Epoch 12/25 loss: 0.5958 - rmse: 0.0987 - mae: 0.0428\n",
      "Epoch 13/25 loss: 0.5183 - rmse: 0.1301 - mae: 0.0755\n",
      "Epoch 14/25 loss: 0.5383 - rmse: 0.1197 - mae: 0.0564\n",
      "Epoch 15/25 loss: 0.5048 - rmse: 0.1298 - mae: 0.0571\n",
      "Epoch 16/25 loss: 0.6026 - rmse: 0.0967 - mae: 0.0412\n",
      "Epoch 17/25 loss: 0.5349 - rmse: 0.1201 - mae: 0.0536\n",
      "Epoch 18/25 loss: 0.5121 - rmse: 0.1242 - mae: 0.0547\n",
      "Epoch 19/25 loss: 0.6116 - rmse: 0.0911 - mae: 0.0447\n",
      "Epoch 20/25 loss: 0.6148 - rmse: 0.0943 - mae: 0.0601\n",
      "Epoch 21/25 loss: 0.4837 - rmse: 0.1312 - mae: 0.0516\n",
      "Epoch 22/25 loss: 0.6005 - rmse: 0.0941 - mae: 0.0438\n",
      "Epoch 23/25 loss: 0.4654 - rmse: 0.1343 - mae: 0.0539\n",
      "Epoch 24/25 loss: 0.5690 - rmse: 0.1059 - mae: 0.0419\n",
      "Epoch 25/25 loss: 0.4937 - rmse: 0.1238 - mae: 0.0499\n"
     ]
    }
   ],
   "source": [
    "model = AutoEncoder(audio_dataset.max_length)\n",
    "opt = torch.optim.Adam(model.parameters())\n",
    "\n",
    "for epoch in range(25):\n",
    "    print(f'Epoch {epoch+1:02}/25', end=' ')\n",
    "    for x, _ in loader_train:  \n",
    "        x = np.transpose(feature_extraction(x.numpy(), audio_dataset.sample_rate, normalize=True))\n",
    "        x = torch.Tensor(x)\n",
    "        x_rec = model(x) \n",
    "        loss = F.binary_cross_entropy(x_rec, x)\n",
    "        \n",
    "        opt.zero_grad()\n",
    "        loss.backward()\n",
    "        opt.step()\n",
    "\n",
    "        mse = F.mse_loss(x_rec, x)\n",
    "        mae = F.l1_loss(x_rec, x)\n",
    "        \n",
    "    print(f'loss: {loss.item():.4f} - rmse: {np.sqrt(mse.item()):.4f} - mae: {mae.item():.4f}')"
   ]
  },
  {
   "cell_type": "code",
   "execution_count": 118,
   "metadata": {},
   "outputs": [],
   "source": [
    "def knn_param_search(train_data, train_labels, test_data, test_labels, \n",
    "                     metrics=('manhattan', 'euclidean', 'chebyshev'), \n",
    "                     ks=(1, 3, 5, 10, 25, 50, 100, 250), \n",
    "                     n_train=None, n_test=None, algorithm='brute'):\n",
    "  \"\"\"\n",
    "  Takes a dataset and plots knn classification accuracy \n",
    "  for different hyper parameters.\n",
    "\n",
    "  n_train and n_test allows to subsample the dataset for faster iteration\n",
    "  \"\"\"\n",
    "  x_train = np.array(train_data)\n",
    "  y_train = np.array(train_labels)\n",
    "  x_test = np.array(test_data)\n",
    "  y_test = np.array(test_labels)\n",
    "  \n",
    "  # subsample the dataset\n",
    "  if n_train:\n",
    "    x_train, y_train = x_train[:n_train], y_train[:n_train]\n",
    "  if n_test:\n",
    "    x_test, y_test = x_test[:n_test], y_test[:n_test]\n",
    "\n",
    "  for metric in metrics:\n",
    "    print(f'Metric: {metric}')\n",
    "    for k in ks:\n",
    "        print(f'\\tk: {k:3d} Training', end='')\n",
    "        classifier = neighbors.KNeighborsClassifier(k, algorithm=algorithm, metric=metric)\n",
    "        classifier = classifier.fit(x_train, y_train)\n",
    "\n",
    "        labels = classifier.predict(x_test)\n",
    "        \n",
    "        correct = labels == np.array(y_test)\n",
    "        print(f'\\r\\tk: {k:3d} Accuracy: {correct.mean() * 100:.2f} %')"
   ]
  },
  {
   "cell_type": "markdown",
   "metadata": {},
   "source": [
    "##### Call the KNN Algorithm "
   ]
  },
  {
   "cell_type": "code",
   "execution_count": 119,
   "metadata": {},
   "outputs": [
    {
     "name": "stdout",
     "output_type": "stream",
     "text": [
      "Metric: manhattan\n",
      "\tk:   1 Accuracy: 100.00 %\n",
      "\tk:   3 Accuracy: 67.40 %\n",
      "\tk:   5 Accuracy: 58.10 %\n",
      "\tk:  10 Accuracy: 52.40 %\n",
      "\tk:  25 Accuracy: 51.50 %\n",
      "\tk:  50 Accuracy: 60.90 %\n",
      "\tk: 100 Accuracy: 49.90 %\n",
      "\tk: 250 Accuracy: 50.00 %\n",
      "Metric: euclidean\n",
      "\tk:   1 Accuracy: 100.00 %\n",
      "\tk:   3 Accuracy: 75.20 %\n",
      "\tk:   5 Accuracy: 64.00 %\n",
      "\tk:  10 Accuracy: 56.40 %\n",
      "\tk:  25 Accuracy: 50.20 %\n",
      "\tk:  50 Accuracy: 69.40 %\n",
      "\tk: 100 Accuracy: 50.00 %\n",
      "\tk: 250 Accuracy: 50.00 %\n",
      "Metric: chebyshev\n",
      "\tk:   1 Accuracy: 100.00 %\n",
      "\tk:   3 Accuracy: 69.40 %\n",
      "\tk:   5 Accuracy: 65.90 %\n",
      "\tk:  10 Accuracy: 60.70 %\n",
      "\tk:  25 Accuracy: 56.60 %\n",
      "\tk:  50 Accuracy: 54.10 %\n",
      "\tk: 100 Accuracy: 52.20 %\n",
      "\tk: 250 Accuracy: 50.90 %\n"
     ]
    }
   ],
   "source": [
    "knn_param_search(dataset_train.dataset.wavs, \n",
    "                 dataset_train.dataset.labels, \n",
    "                 dataset_valid.dataset.wavs, \n",
    "                 dataset_valid.dataset.labels,\n",
    "                )"
   ]
  }
 ],
 "metadata": {
  "kernelspec": {
   "display_name": "Python 3",
   "language": "python",
   "name": "python3"
  },
  "language_info": {
   "codemirror_mode": {
    "name": "ipython",
    "version": 3
   },
   "file_extension": ".py",
   "mimetype": "text/x-python",
   "name": "python",
   "nbconvert_exporter": "python",
   "pygments_lexer": "ipython3",
   "version": "3.10.12"
  }
 },
 "nbformat": 4,
 "nbformat_minor": 2
}
