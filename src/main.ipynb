{
 "cells": [
  {
   "cell_type": "markdown",
   "metadata": {},
   "source": [
    "## Import"
   ]
  },
  {
   "cell_type": "code",
   "execution_count": 1,
   "metadata": {},
   "outputs": [],
   "source": [
    "import torch\n",
    "from torch import nn\n",
    "import torch.nn.functional as F\n",
    "from torch.utils.data import Dataset, DataLoader\n",
    "\n",
    "import matplotlib.pyplot as plt\n",
    "import numpy as np\n",
    "rng = np.random.default_rng(123456)\n",
    "\n",
    "import librosa\n",
    "import librosa.display\n",
    "import IPython.display as ipd\n",
    "\n",
    "from scipy.io import wavfile\n",
    "\n",
    "import os\n",
    "from sklearn import neighbors"
   ]
  },
  {
   "cell_type": "markdown",
   "metadata": {},
   "source": [
    "## AudioDataset class"
   ]
  },
  {
   "cell_type": "code",
   "execution_count": 2,
   "metadata": {},
   "outputs": [],
   "source": [
    "sliced_dataset = \"short_audio_dataset\"\n",
    "sliced_dataset_lenght = 16050\n",
    "# sliced_dataset = \"shorter_audio_dataset\"\n",
    "# sliced_dataset_lenght = 4013\n",
    "original_dataset = \"audio_dataset\"\n",
    "original_dataset_lenght = 80249\n",
    "\n",
    "class AudioDataset(Dataset):\n",
    "    def __init__(self, root_path=\"./data/\", drop_both=False, use_short=False, normalize=False, use_features=False):\n",
    "        root_folder = root_path + original_dataset if not use_short else root_path + sliced_dataset\n",
    "        self.use_features = use_features\n",
    "        self.max_length = original_dataset_lenght if not use_short else sliced_dataset_lenght\n",
    "        self.class_map = {\"esben\" : 0, \"peter\": 1, \"both\": 2}\n",
    "        self.data = []\n",
    "        self.wavs = []\n",
    "        self.labels = []\n",
    "        self.features_list = []\n",
    "        self.min_val = 10e10\n",
    "        self.max_val = 0\n",
    "        print(\"Start reading files\")\n",
    "        for subdir, dirs, files in os.walk(root_folder):\n",
    "            for file_name in files:\n",
    "                if drop_both and \"both\" in subdir:\n",
    "                   continue\n",
    "        \n",
    "                file_path = os.path.join(subdir, file_name)\n",
    "                self.sample_rate, wav = wavfile.read(file_path)\n",
    "                wav = wav.astype(np.float32)\n",
    "                \n",
    "                if wav.shape[0] > self.max_length:\n",
    "                    self.max_length = wav.shape[0]\n",
    "                    print(\"Found wav with more length than specified max one, new max is:\", wav.shape[0])\n",
    "                \n",
    "                wav = np.pad(wav, (0, self.max_length-wav.shape[0]))\n",
    "                features = np.transpose(self.feature_extraction(wav, self.sample_rate, normalize=normalize))\n",
    "                label_str = file_path.split('/')[-3][2:]\n",
    "                label = (np.int64(self.class_map[label_str]))\n",
    "                \n",
    "                self.max_val = np.max(wav) if np.max(wav) > self.max_val else self.max_val\n",
    "                self.min_val = np.min(wav) if np.min(wav) < self.min_val else self.min_val\n",
    "                \n",
    "                self.wavs.append(wav)\n",
    "                self.features_list.append(features)\n",
    "                self.labels.append(label)\n",
    "               \n",
    "        self.wavs = np.array(self.wavs)\n",
    "        self.mu  = self.wavs.mean()\n",
    "        self.std = np.std(self.wavs)\n",
    "        # self.wavs = torch.Tensor(self.wavs)\n",
    "        if normalize:\n",
    "            self.wavs = (self.wavs + np.abs(self.min_val)) / (np.abs(self.min_val) + self.max_val)\n",
    "            # self.wavs = torch.nn.functional.normalize(self.wavs, dim=1)\n",
    "        \n",
    "        print(\"=\"*40)\n",
    "        print(\"Loaded DATABASE from {}\\n{} total file\\nLongest file is {} long\\nMean: {}\\nStandard deviation: {}\\nNormalization: {}\".\n",
    "              format(root_folder, len(self.wavs), self.max_length, self.mu, self.std, normalize))\n",
    "        print(\"=\"*40)\n",
    "    \n",
    "    def feature_extraction(self, wav, sample_rate, n_mfcc=128, normalize=False):\n",
    "        # extract features from the audio\n",
    "        mfcc = np.mean(librosa.feature.mfcc(y=wav, sr=sample_rate, n_mfcc=n_mfcc).T, axis=0)\n",
    "        if normalize:\n",
    "            mfcc = (mfcc + np.abs(np.min(mfcc))) / (np.abs(np.min(mfcc)) + np.max(mfcc))\n",
    "        return mfcc\n",
    "\n",
    "    def __len__(self):\n",
    "        return len(self.wavs)\n",
    "    \n",
    "    def __getitem__(self, idx):\n",
    "        wav = self.wavs[idx]\n",
    "        label = self.labels[idx]\n",
    "        wav_tensor = torch.from_numpy(wav)\n",
    "        label_tensor = torch.Tensor(label)\n",
    "        if self.use_features:\n",
    "            features = self.features_list[idx]\n",
    "            features_tensor = torch.Tensor(features)\n",
    "            return features_tensor, label_tensor\n",
    "        return wav_tensor, label_tensor\n"
   ]
  },
  {
   "cell_type": "markdown",
   "metadata": {},
   "source": [
    "## Loading data for training"
   ]
  },
  {
   "cell_type": "code",
   "execution_count": 3,
   "metadata": {},
   "outputs": [
    {
     "name": "stdout",
     "output_type": "stream",
     "text": [
      "Start reading files\n",
      "========================================\n",
      "Loaded DATABASE from ../data/short_audio_dataset\n",
      "1000 total file\n",
      "Longest file is 16050 long\n",
      "Mean: -0.6988561153411865\n",
      "Standard deviation: 2332.389404296875\n",
      "Normalization: True\n",
      "========================================\n"
     ]
    }
   ],
   "source": [
    "audio_dataset = AudioDataset(root_path=\"../data/\", drop_both=True, use_short=True, normalize=True, use_features=True)\n",
    "dataset_len = len(audio_dataset)\n",
    "train_size, test_size, valid_size = int(dataset_len * 0.7), int(dataset_len * 0.2), int(dataset_len * 0.1)\n",
    "\n",
    "dataset_train, dataset_test, dataset_valid = torch.utils.data.random_split(audio_dataset, (train_size, test_size, valid_size))\n",
    "\n",
    "kwargs = {'batch_size': 1, 'num_workers': 2}\n",
    "loader_train = torch.utils.data.DataLoader(dataset_train, **kwargs, shuffle=True)\n",
    "loader_test = torch.utils.data.DataLoader(dataset_test, **kwargs, shuffle=True)\n",
    "loader_valid = torch.utils.data.DataLoader(dataset_valid, **kwargs, shuffle=True)"
   ]
  },
  {
   "cell_type": "code",
   "execution_count": 4,
   "metadata": {},
   "outputs": [
    {
     "data": {
      "image/png": "[encoded data removed]",
      "text/plain": [
       "<Figure size 640x480 with 1 Axes>"
      ]
     },
     "metadata": {},
     "output_type": "display_data"
    }
   ],
   "source": [
    "for x, _ in loader_train:\n",
    "    plt.plot(np.arange(x.shape[1]), x.flatten())\n",
    "    plt.show()\n",
    "    break"
   ]
  },
  {
   "cell_type": "markdown",
   "metadata": {},
   "source": [
    "## Autoencoder class"
   ]
  },
  {
   "cell_type": "code",
   "execution_count": 8,
   "metadata": {},
   "outputs": [],
   "source": [
    "class AutoEncoder(nn.Module):\n",
    "    def __init__(self, input_len):\n",
    "        super().__init__()\n",
    "        self.encoder = nn.Sequential(\n",
    "            nn.Linear(input_len, 256),\n",
    "            nn.ReLU()\n",
    "        )\n",
    "        self.decoder = nn.Sequential(\n",
    "            nn.Linear(256, input_len),\n",
    "            nn.Sigmoid()\n",
    "        )\n",
    "\n",
    "    def encode(self, x):\n",
    "        return self.encoder(x)\n",
    "\n",
    "    def decode(self, x):\n",
    "        return self.decoder(x)\n",
    "        \n",
    "    def forward(self, x):\n",
    "        return self.decode(self.encode(x))"
   ]
  },
  {
   "cell_type": "markdown",
   "metadata": {},
   "source": [
    "## Training autoencoder"
   ]
  },
  {
   "cell_type": "code",
   "execution_count": 9,
   "metadata": {},
   "outputs": [
    {
     "name": "stdout",
     "output_type": "stream",
     "text": [
      "Epoch 01/25 loss: 0.0816 - rmse: 0.0161 - mae: 0.0156\n",
      "Epoch 02/25 loss: 0.1327 - rmse: 0.0061 - mae: 0.0038\n",
      "Epoch 03/25 loss: 0.1059 - rmse: 0.0063 - mae: 0.0034\n",
      "Epoch 04/25 loss: 0.1734 - rmse: 0.0060 - mae: 0.0034\n",
      "Epoch 05/25 loss: 0.1040 - rmse: 0.0038 - mae: 0.0022\n",
      "Epoch 06/25 loss: 0.1267 - rmse: 0.0055 - mae: 0.0031\n",
      "Epoch 07/25 loss: 0.1623 - rmse: 0.0047 - mae: 0.0024\n",
      "Epoch 08/25 loss: 0.1144 - rmse: 0.0079 - mae: 0.0045\n",
      "Epoch 09/25 loss: 0.1545 - rmse: 0.0042 - mae: 0.0023\n",
      "Epoch 10/25 loss: 0.0860 - rmse: 0.0050 - mae: 0.0028\n",
      "Epoch 11/25 loss: 0.1462 - rmse: 0.0042 - mae: 0.0024\n",
      "Epoch 12/25 loss: 0.1053 - rmse: 0.0054 - mae: 0.0034\n",
      "Epoch 13/25 loss: 0.1040 - rmse: 0.0032 - mae: 0.0018\n",
      "Epoch 14/25 loss: 0.1297 - rmse: 0.0045 - mae: 0.0022\n",
      "Epoch 15/25 loss: 0.0843 - rmse: 0.0028 - mae: 0.0018\n",
      "Epoch 16/25 loss: 0.1116 - rmse: 0.0040 - mae: 0.0022\n",
      "Epoch 17/25 loss: 0.1223 - rmse: 0.0032 - mae: 0.0021\n",
      "Epoch 18/25 loss: 0.1608 - rmse: 0.0053 - mae: 0.0031\n",
      "Epoch 19/25 loss: 0.1356 - rmse: 0.0031 - mae: 0.0022\n",
      "Epoch 20/25 loss: 0.1110 - rmse: 0.0050 - mae: 0.0027\n",
      "Epoch 21/25 loss: 0.1067 - rmse: 0.0029 - mae: 0.0019\n",
      "Epoch 22/25 "
     ]
    }
   ],
   "source": [
    "model = AutoEncoder(audio_dataset.max_length)\n",
    "opt = torch.optim.Adam(model.parameters())\n",
    "\n",
    "for epoch in range(25):\n",
    "    print(f'Epoch {epoch+1:02}/25', end=' ')\n",
    "    for x, _ in loader_train:  \n",
    "        x_rec = model(x) \n",
    "        loss = F.binary_cross_entropy(x_rec, x)\n",
    "        \n",
    "        opt.zero_grad()\n",
    "        loss.backward()\n",
    "        opt.step()\n",
    "\n",
    "        mse = F.mse_loss(x_rec, x)\n",
    "        mae = F.l1_loss(x_rec, x)\n",
    "        \n",
    "    print(f'loss: {loss.item():.4f} - rmse: {np.sqrt(mse.item()):.4f} - mae: {mae.item():.4f}')"
   ]
  },
  {
   "cell_type": "markdown",
   "metadata": {},
   "source": [
    "## Define knn function"
   ]
  },
  {
   "cell_type": "code",
   "execution_count": null,
   "metadata": {},
   "outputs": [],
   "source": [
    "def knn_param_search(train_data, train_labels, test_data, test_labels, \n",
    "                     metrics=('manhattan', 'euclidean', 'chebyshev'), \n",
    "                     ks=(1, 3, 5, 10, 25, 50, 100, 250), \n",
    "                     n_train=None, n_test=None, algorithm='brute'):\n",
    "  \"\"\"\n",
    "  Takes a dataset and plots knn classification accuracy \n",
    "  for different hyper parameters.\n",
    "\n",
    "  n_train and n_test allows to subsample the dataset for faster iteration\n",
    "  \"\"\"\n",
    "  x_train = np.array(train_data)\n",
    "  y_train = np.array(train_labels)\n",
    "  x_test = np.array(test_data)\n",
    "  y_test = np.array(test_labels)\n",
    "  \n",
    "  # subsample the dataset\n",
    "  if n_train:\n",
    "    x_train, y_train = x_train[:n_train], y_train[:n_train]\n",
    "  if n_test:\n",
    "    x_test, y_test = x_test[:n_test], y_test[:n_test]\n",
    "\n",
    "  for metric in metrics:\n",
    "    print(f'Metric: {metric}', end=' ')\n",
    "    for k in ks:\n",
    "        print(f'k: {k}', end=' ')\n",
    "        classifier = neighbors.KNeighborsClassifier(k, algorithm=algorithm, metric=metric)\n",
    "        classifier = classifier.fit(x_train, y_train)\n",
    "\n",
    "        labels = classifier.predict(x_test)\n",
    "        \n",
    "        correct = labels == np.array(y_test)\n",
    "        print(f'Accuracy: {correct.mean() * 100:.2f} %', end=' ')\n",
    "\n",
    "  return classifier"
   ]
  },
  {
   "cell_type": "markdown",
   "metadata": {},
   "source": [
    "## Call KNN"
   ]
  },
  {
   "cell_type": "code",
   "execution_count": null,
   "metadata": {},
   "outputs": [
    {
     "name": "stdout",
     "output_type": "stream",
     "text": [
      "Metric: euclidean k: 2 Accuracy: 79.80 % "
     ]
    }
   ],
   "source": [
    "classifier = knn_param_search(dataset_train.dataset.wavs, \n",
    "                              dataset_train.dataset.labels, \n",
    "                              dataset_test.dataset.wavs, \n",
    "                              dataset_test.dataset.labels,\n",
    "                              metrics=['euclidean'],\n",
    "                              ks=[2]\n",
    "                             )"
   ]
  },
  {
   "cell_type": "code",
   "execution_count": null,
   "metadata": {},
   "outputs": [
    {
     "name": "stdout",
     "output_type": "stream",
     "text": [
      " Accuracy: 79.80\n"
     ]
    }
   ],
   "source": [
    "predicted_labels = classifier.predict(dataset_valid.dataset.wavs)\n",
    "correct = predicted_labels == np.array(dataset_valid.dataset.labels)\n",
    "print(f' Accuracy: {correct.mean() * 100:.2f}')"
   ]
  }
 ],
 "metadata": {
  "kernelspec": {
   "display_name": "Python 3",
   "language": "python",
   "name": "python3"
  },
  "language_info": {
   "codemirror_mode": {
    "name": "ipython",
    "version": 3
   },
   "file_extension": ".py",
   "mimetype": "text/x-python",
   "name": "python",
   "nbconvert_exporter": "python",
   "pygments_lexer": "ipython3",
   "version": "3.10.12"
  }
 },
 "nbformat": 4,
 "nbformat_minor": 2
}
