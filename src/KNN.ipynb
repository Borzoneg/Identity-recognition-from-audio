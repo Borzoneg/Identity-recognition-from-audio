{
 "cells": [
  {
   "cell_type": "markdown",
   "metadata": {},
   "source": [
    "# K-nearest neigbours"
   ]
  },
  {
   "cell_type": "markdown",
   "metadata": {},
   "source": [
    "##### Imports"
   ]
  },
  {
   "cell_type": "code",
   "execution_count": 1,
   "metadata": {},
   "outputs": [],
   "source": [
    "import time\n",
    "import numpy as np\n",
    "import os\n",
    "from scipy.io import wavfile\n",
    "\n",
    "# sklearn\n",
    "from sklearn import neighbors\n",
    "from sklearn.metrics import confusion_matrix\n",
    "\n",
    "# visualization\n",
    "import matplotlib.pyplot as plt\n",
    "import seaborn\n",
    "\n",
    "# torch\n",
    "import torch\n",
    "from torchvision import datasets, transforms\n",
    "\n",
    "# Dataset\n",
    "from torch.utils.data import DataLoader, Dataset\n",
    "\n",
    "#Sklearn\n",
    "from sklearn.model_selection import train_test_split\n",
    "\n",
    "from audio_dataset import AudioDataset as AD\n"
   ]
  },
  {
   "cell_type": "markdown",
   "metadata": {},
   "source": [
    "##### AudioDataset class"
   ]
  },
  {
   "cell_type": "code",
   "execution_count": 9,
   "metadata": {},
   "outputs": [],
   "source": [
    "sliced_dataset = \"../data/short_audio_dataset\"\n",
    "sliced_dataset_lenght = 16050\n",
    "original_dataset = \"../data/audio_dataset\"\n",
    "original_dataset_lenght = 80249\n",
    "\n",
    "class AudioDataset(Dataset):\n",
    "    def __init__(self, drop_both=False, use_short=False):\n",
    "        root_folder = original_dataset if not use_short else sliced_dataset\n",
    "        max_length = original_dataset_lenght if not use_short else sliced_dataset_lenght\n",
    "        self.class_map = {\"both\": 0, \"esben\" : 1, \"peter\": 2}\n",
    "        self.data = []\n",
    "        self.labels = []\n",
    "        for subdir, dirs, files in os.walk(root_folder):\n",
    "            for file_name in files:\n",
    "                if \"both\" in subdir and drop_both:\n",
    "                   continue\n",
    "                file_path = os.path.join(subdir, file_name)\n",
    "                _, wav = wavfile.read(file_path)\n",
    "                if wav.shape[0] > max_length:\n",
    "                    max_length = wav.shape[0]\n",
    "                    print(\"Found wav with more length than specified max one, new max is:\", wav.shape[0])\n",
    "                wav = np.pad(wav, (0, max_length-wav.shape[0]))\n",
    "                label = file_path.split('/')[3][2:]\n",
    "                self.labels.append(label)\n",
    "                self.data.append(wav)\n",
    "        print(\"Max length of wav files:\", max_length)\n",
    "    \n",
    "\n",
    "    def __len__(self):\n",
    "        return len(self.data)\n",
    "    \n",
    "    def __getitem__(self, idx):\n",
    "        wav = self.data[idx]\n",
    "        label = self.labels[idx]\n",
    "        class_id = self.class_map[label]\n",
    "        wav_tensor = torch.from_numpy(wav)\n",
    "        class_id = torch.tensor([class_id])\n",
    "        return wav_tensor, class_id\n"
   ]
  },
  {
   "cell_type": "markdown",
   "metadata": {},
   "source": [
    "##### Initialize the Dataset"
   ]
  },
  {
   "cell_type": "code",
   "execution_count": 2,
   "metadata": {},
   "outputs": [
    {
     "name": "stdout",
     "output_type": "stream",
     "text": [
      "Start reading files\n",
      "========================================\n",
      "Loaded DATABASE from ../data/audio_dataset\n",
      "200 total file\n",
      "Longest file is 80249 long\n",
      "Mean: -0.6988648176193237\n",
      "Standard deviation: 2332.404541015625\n",
      "Normalization: True\n",
      "========================================\n"
     ]
    }
   ],
   "source": [
    "dataset = AD(drop_both=True, use_short=False, normalize=True)\n",
    "data_len = len(dataset)\n",
    "train_size, test_size, valid_size = int(data_len * 0.8), int(data_len * 0.1), int(data_len * 0.1)\n",
    "\n",
    "data_train, data_test, data_valid = torch.utils.data.random_split(dataset, (train_size, test_size, valid_size))"
   ]
  },
  {
   "cell_type": "markdown",
   "metadata": {},
   "source": [
    "##### Define knn algorithm"
   ]
  },
  {
   "cell_type": "code",
   "execution_count": 15,
   "metadata": {},
   "outputs": [],
   "source": [
    "def knn_param_search(train_data, train_labels, test_data, test_labels, \n",
    "                     metrics=('manhattan', 'euclidean', 'chebyshev'), \n",
    "                     ks=(1, 3, 5, 10, 25, 50, 100, 250), \n",
    "                     n_train=None, n_test=None, algorithm='brute'):\n",
    "  \"\"\"\n",
    "  Takes a dataset and plots knn classification accuracy \n",
    "  for different hyper parameters.\n",
    "\n",
    "  n_train and n_test allows to subsample the dataset for faster iteration\n",
    "  \"\"\"\n",
    "  x_train = np.array(train_data)\n",
    "  y_train = np.array(train_labels)\n",
    "  x_test = np.array(test_data)\n",
    "  y_test = np.array(test_labels)\n",
    "  \n",
    "  # subsample the dataset\n",
    "  if n_train:\n",
    "    x_train, y_train = x_train[:n_train], y_train[:n_train]\n",
    "  if n_test:\n",
    "    x_test, y_test = x_test[:n_test], y_test[:n_test]\n",
    "\n",
    "  for metric in metrics:\n",
    "    print(f'Metric: {metric}')\n",
    "    for k in ks:\n",
    "        print(f'\\tk: {k:3d} Training', end='')\n",
    "        classifier = neighbors.KNeighborsClassifier(k, algorithm=algorithm, metric=metric)\n",
    "        classifier = classifier.fit(x_train, y_train)\n",
    "\n",
    "        start = time.time()\n",
    "        print(f'\\r\\tk: {k:3d} Testing', end='')\n",
    "        labels = classifier.predict(x_test)\n",
    "        duration = time.time() - start\n",
    "\n",
    "        correct = labels == np.array(y_test)\n",
    "        print(f'\\r\\tk: {k:3d} Accuracy: {correct.mean() * 100:.2f} %, Duration: {duration:.2f} s')"
   ]
  },
  {
   "cell_type": "markdown",
   "metadata": {},
   "source": [
    "##### Call the KNN Algorithm "
   ]
  },
  {
   "cell_type": "code",
   "execution_count": 20,
   "metadata": {},
   "outputs": [],
   "source": [
    "train_data = []\n",
    "train_labels = []\n",
    "valid_data = []\n",
    "valid_labels = []\n",
    "for x,y in data_train:\n",
    "    train_data.append(x)\n",
    "    train_labels.append(y)\n",
    "for x,y in data_valid:\n",
    "    valid_data.append(x)\n",
    "    valid_labels.append(y)\n"
   ]
  },
  {
   "cell_type": "code",
   "execution_count": 18,
   "metadata": {},
   "outputs": [
    {
     "name": "stderr",
     "output_type": "stream",
     "text": [
      "/tmp/ipykernel_42433/2294672208.py:11: FutureWarning: The input object of type 'Tensor' is an array-like implementing one of the corresponding protocols (`__array__`, `__array_interface__` or `__array_struct__`); but not a sequence (or 0-D). In the future, this object will be coerced as if it was first converted using `np.array(obj)`. To retain the old behaviour, you have to either modify the type 'Tensor', or assign to an empty array created with `np.empty(correct_shape, dtype=object)`.\n",
      "  x_train = np.array(train_data)\n"
     ]
    },
    {
     "ename": "ValueError",
     "evalue": "setting an array element with a sequence. The requested array has an inhomogeneous shape after 1 dimensions. The detected shape was (160,) + inhomogeneous part.",
     "output_type": "error",
     "traceback": [
      "\u001b[0;31m---------------------------------------------------------------------------\u001b[0m",
      "\u001b[0;31mValueError\u001b[0m                                Traceback (most recent call last)",
      "\u001b[1;32m/home/gu/SDU/DNN/Identity-recognition-from-audio/src/KNN.ipynb Cell 12\u001b[0m line \u001b[0;36m1\n\u001b[0;32m----> <a href='vscode-notebook-cell:/home/gu/SDU/DNN/Identity-recognition-from-audio/src/KNN.ipynb#X13sZmlsZQ%3D%3D?line=0'>1</a>\u001b[0m knn_param_search(train_data, \n\u001b[1;32m      <a href='vscode-notebook-cell:/home/gu/SDU/DNN/Identity-recognition-from-audio/src/KNN.ipynb#X13sZmlsZQ%3D%3D?line=1'>2</a>\u001b[0m                  train_labels, \n\u001b[1;32m      <a href='vscode-notebook-cell:/home/gu/SDU/DNN/Identity-recognition-from-audio/src/KNN.ipynb#X13sZmlsZQ%3D%3D?line=2'>3</a>\u001b[0m                  valid_data, \n\u001b[1;32m      <a href='vscode-notebook-cell:/home/gu/SDU/DNN/Identity-recognition-from-audio/src/KNN.ipynb#X13sZmlsZQ%3D%3D?line=3'>4</a>\u001b[0m                  valid_labels,\n\u001b[1;32m      <a href='vscode-notebook-cell:/home/gu/SDU/DNN/Identity-recognition-from-audio/src/KNN.ipynb#X13sZmlsZQ%3D%3D?line=4'>5</a>\u001b[0m                  ks\u001b[39m=\u001b[39;49m[\u001b[39m3\u001b[39;49m]\n\u001b[1;32m      <a href='vscode-notebook-cell:/home/gu/SDU/DNN/Identity-recognition-from-audio/src/KNN.ipynb#X13sZmlsZQ%3D%3D?line=5'>6</a>\u001b[0m                 )\n",
      "\u001b[1;32m/home/gu/SDU/DNN/Identity-recognition-from-audio/src/KNN.ipynb Cell 12\u001b[0m line \u001b[0;36m1\n\u001b[1;32m      <a href='vscode-notebook-cell:/home/gu/SDU/DNN/Identity-recognition-from-audio/src/KNN.ipynb#X13sZmlsZQ%3D%3D?line=0'>1</a>\u001b[0m \u001b[39mdef\u001b[39;00m \u001b[39mknn_param_search\u001b[39m(train_data, train_labels, test_data, test_labels, \n\u001b[1;32m      <a href='vscode-notebook-cell:/home/gu/SDU/DNN/Identity-recognition-from-audio/src/KNN.ipynb#X13sZmlsZQ%3D%3D?line=1'>2</a>\u001b[0m                      metrics\u001b[39m=\u001b[39m(\u001b[39m'\u001b[39m\u001b[39mmanhattan\u001b[39m\u001b[39m'\u001b[39m, \u001b[39m'\u001b[39m\u001b[39meuclidean\u001b[39m\u001b[39m'\u001b[39m, \u001b[39m'\u001b[39m\u001b[39mchebyshev\u001b[39m\u001b[39m'\u001b[39m), \n\u001b[1;32m      <a href='vscode-notebook-cell:/home/gu/SDU/DNN/Identity-recognition-from-audio/src/KNN.ipynb#X13sZmlsZQ%3D%3D?line=2'>3</a>\u001b[0m                      ks\u001b[39m=\u001b[39m(\u001b[39m1\u001b[39m, \u001b[39m3\u001b[39m, \u001b[39m5\u001b[39m, \u001b[39m10\u001b[39m, \u001b[39m25\u001b[39m, \u001b[39m50\u001b[39m, \u001b[39m100\u001b[39m, \u001b[39m250\u001b[39m), \n\u001b[1;32m      <a href='vscode-notebook-cell:/home/gu/SDU/DNN/Identity-recognition-from-audio/src/KNN.ipynb#X13sZmlsZQ%3D%3D?line=3'>4</a>\u001b[0m                      n_train\u001b[39m=\u001b[39m\u001b[39mNone\u001b[39;00m, n_test\u001b[39m=\u001b[39m\u001b[39mNone\u001b[39;00m, algorithm\u001b[39m=\u001b[39m\u001b[39m'\u001b[39m\u001b[39mbrute\u001b[39m\u001b[39m'\u001b[39m):\n\u001b[1;32m      <a href='vscode-notebook-cell:/home/gu/SDU/DNN/Identity-recognition-from-audio/src/KNN.ipynb#X13sZmlsZQ%3D%3D?line=4'>5</a>\u001b[0m \u001b[39m  \u001b[39m\u001b[39m\"\"\"\u001b[39;00m\n\u001b[1;32m      <a href='vscode-notebook-cell:/home/gu/SDU/DNN/Identity-recognition-from-audio/src/KNN.ipynb#X13sZmlsZQ%3D%3D?line=5'>6</a>\u001b[0m \u001b[39m  Takes a dataset and plots knn classification accuracy \u001b[39;00m\n\u001b[1;32m      <a href='vscode-notebook-cell:/home/gu/SDU/DNN/Identity-recognition-from-audio/src/KNN.ipynb#X13sZmlsZQ%3D%3D?line=6'>7</a>\u001b[0m \u001b[39m  for different hyper parameters.\u001b[39;00m\n\u001b[1;32m      <a href='vscode-notebook-cell:/home/gu/SDU/DNN/Identity-recognition-from-audio/src/KNN.ipynb#X13sZmlsZQ%3D%3D?line=7'>8</a>\u001b[0m \n\u001b[1;32m      <a href='vscode-notebook-cell:/home/gu/SDU/DNN/Identity-recognition-from-audio/src/KNN.ipynb#X13sZmlsZQ%3D%3D?line=8'>9</a>\u001b[0m \u001b[39m  n_train and n_test allows to subsample the dataset for faster iteration\u001b[39;00m\n\u001b[1;32m     <a href='vscode-notebook-cell:/home/gu/SDU/DNN/Identity-recognition-from-audio/src/KNN.ipynb#X13sZmlsZQ%3D%3D?line=9'>10</a>\u001b[0m \u001b[39m  \"\"\"\u001b[39;00m\n\u001b[0;32m---> <a href='vscode-notebook-cell:/home/gu/SDU/DNN/Identity-recognition-from-audio/src/KNN.ipynb#X13sZmlsZQ%3D%3D?line=10'>11</a>\u001b[0m   x_train \u001b[39m=\u001b[39m np\u001b[39m.\u001b[39;49marray(train_data)\n\u001b[1;32m     <a href='vscode-notebook-cell:/home/gu/SDU/DNN/Identity-recognition-from-audio/src/KNN.ipynb#X13sZmlsZQ%3D%3D?line=11'>12</a>\u001b[0m   y_train \u001b[39m=\u001b[39m np\u001b[39m.\u001b[39marray(train_labels)\n\u001b[1;32m     <a href='vscode-notebook-cell:/home/gu/SDU/DNN/Identity-recognition-from-audio/src/KNN.ipynb#X13sZmlsZQ%3D%3D?line=12'>13</a>\u001b[0m   x_test \u001b[39m=\u001b[39m np\u001b[39m.\u001b[39marray(test_data)\n",
      "\u001b[0;31mValueError\u001b[0m: setting an array element with a sequence. The requested array has an inhomogeneous shape after 1 dimensions. The detected shape was (160,) + inhomogeneous part."
     ]
    }
   ],
   "source": [
    "knn_param_search(train_data, \n",
    "                 train_labels, \n",
    "                 valid_data, \n",
    "                 valid_labels,\n",
    "                 ks=[3]\n",
    "                )"
   ]
  },
  {
   "cell_type": "code",
   "execution_count": null,
   "metadata": {},
   "outputs": [],
   "source": []
  }
 ],
 "metadata": {
  "kernelspec": {
   "display_name": "Python 3",
   "language": "python",
   "name": "python3"
  },
  "language_info": {
   "codemirror_mode": {
    "name": "ipython",
    "version": 3
   },
   "file_extension": ".py",
   "mimetype": "text/x-python",
   "name": "python",
   "nbconvert_exporter": "python",
   "pygments_lexer": "ipython3",
   "version": "3.10.12"
  }
 },
 "nbformat": 4,
 "nbformat_minor": 2
}
