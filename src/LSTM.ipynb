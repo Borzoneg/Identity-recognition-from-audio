{
 "cells": [
  {
   "cell_type": "markdown",
   "metadata": {},
   "source": [
    "# LSTM\n",
    "Long Short-Term Memory"
   ]
  },
  {
   "cell_type": "code",
   "execution_count": 32,
   "metadata": {},
   "outputs": [],
   "source": [
    "import glob\n",
    "import os\n",
    "from pathlib import Path\n",
    "from scipy.io import wavfile\n",
    "\n",
    "import numpy as np\n",
    "import matplotlib.pyplot as plt\n",
    "import torch\n",
    "from torch import nn\n",
    "from torch.nn import functional as F\n",
    "# Dataset\n",
    "from torch.utils.data import DataLoader, Dataset, random_split\n",
    "from torch.nn import CrossEntropyLoss, LogSoftmax\n",
    "\n",
    "\n",
    "import librosa\n",
    "import librosa.display\n",
    "import IPython.display as ipd\n",
    "\n",
    "from tqdm.notebook import tqdm\n",
    "# from google_drive_downloader import GoogleDriveDownloader as gdd"
   ]
  },
  {
   "cell_type": "markdown",
   "metadata": {},
   "source": [
    "## AudioDataset Class"
   ]
  },
  {
   "cell_type": "code",
   "execution_count": 33,
   "metadata": {},
   "outputs": [],
   "source": [
    "sliced_dataset = \"short_audio_dataset\"\n",
    "sliced_dataset_lenght = 16050\n",
    "# sliced_dataset = \"shorter_audio_dataset\"\n",
    "# sliced_dataset_lenght = 4013\n",
    "original_dataset = \"audio_dataset\"\n",
    "original_dataset_lenght = 80249\n",
    "\n",
    "class AudioDataset(Dataset):\n",
    "    def __init__(self, root_path=\"./data/\", drop_both=False, use_short=False, normalize=False, use_features=False):\n",
    "        root_folder = root_path + original_dataset if not use_short else root_path + sliced_dataset\n",
    "        self.use_features = use_features\n",
    "        self.max_length = original_dataset_lenght if not use_short else sliced_dataset_lenght\n",
    "        self.class_map = {\"esben\" : 0, \"peter\": 1, \"both\": 2}\n",
    "        self.data = []\n",
    "        self.wavs = []\n",
    "        self.labels = []\n",
    "        self.features_list = []\n",
    "        self.min_val = 10e10\n",
    "        self.max_val = 0\n",
    "        print(\"Start reading files\")\n",
    "        for subdir, dirs, files in os.walk(root_folder):\n",
    "            for file_name in files:\n",
    "                if drop_both and \"both\" in subdir:\n",
    "                   continue\n",
    "        \n",
    "                file_path = os.path.join(subdir, file_name)\n",
    "                self.sample_rate, wav = wavfile.read(file_path)\n",
    "                wav = wav.astype(np.float32)\n",
    "                \n",
    "                if wav.shape[0] > self.max_length:\n",
    "                    self.max_length = wav.shape[0]\n",
    "                    print(\"Found wav with more length than specified max one, new max is:\", wav.shape[0])\n",
    "                \n",
    "                \n",
    "                features = np.transpose(self.feature_extraction(wav, self.sample_rate, normalize=normalize))\n",
    "                wav = np.pad(wav, (0, self.max_length-wav.shape[0]))\n",
    "                label_str = file_path.split('/')[-3][2:]\n",
    "                label = (np.int64(self.class_map[label_str]))\n",
    "                \n",
    "                self.max_val = np.max(wav) if np.max(wav) > self.max_val else self.max_val\n",
    "                self.min_val = np.min(wav) if np.min(wav) < self.min_val else self.min_val\n",
    "                \n",
    "                self.wavs.append(wav)\n",
    "                self.features_list.append(features)\n",
    "                self.labels.append(label)\n",
    "               \n",
    "        self.wavs = np.array(self.wavs)\n",
    "        self.mu  = self.wavs.mean()\n",
    "        self.std = np.std(self.wavs)\n",
    "        # self.wavs = torch.Tensor(self.wavs)\n",
    "        if normalize:\n",
    "            self.wavs = (self.wavs + np.abs(self.min_val)) / (np.abs(self.min_val) + self.max_val)\n",
    "            # self.wavs = torch.nn.functional.normalize(self.wavs, dim=1)\n",
    "        \n",
    "        print(\"=\"*40)\n",
    "        print(\"Loaded DATABASE from {}\\n{} total file\\nLongest file is {} long\\nMean: {}\\nStandard deviation: {}\\nNormalization: {}\".\n",
    "              format(root_folder, len(self.wavs), self.max_length, self.mu, self.std, normalize))\n",
    "        print(\"=\"*40)\n",
    "    \n",
    "    def feature_extraction(self, wav, sample_rate, n_mfcc=128, normalize=False):\n",
    "        # extract features from the audio\n",
    "        mfcc = np.mean(librosa.feature.mfcc(y=wav, sr=sample_rate, n_mfcc=n_mfcc).T, axis=0)\n",
    "        if normalize:\n",
    "            mfcc = (mfcc + np.abs(np.min(mfcc))) / (np.abs(np.min(mfcc)) + np.max(mfcc))\n",
    "        return mfcc\n",
    "\n",
    "    def __len__(self):\n",
    "        return len(self.wavs)\n",
    "    \n",
    "    def __getitem__(self, idx):\n",
    "        wav = self.wavs[idx]\n",
    "        label = self.labels[idx]\n",
    "        wav_tensor = torch.from_numpy(wav)\n",
    "        # label_tensor = torch.Tensor(label)\n",
    "        if self.use_features:\n",
    "            features = self.features_list[idx]\n",
    "            features_tensor = torch.Tensor(features)\n",
    "            return features_tensor, label\n",
    "        return wav_tensor, label\n"
   ]
  },
  {
   "cell_type": "markdown",
   "metadata": {},
   "source": [
    "Data Generation"
   ]
  },
  {
   "cell_type": "code",
   "execution_count": 34,
   "metadata": {},
   "outputs": [
    {
     "name": "stdout",
     "output_type": "stream",
     "text": [
      "Start reading files\n",
      "========================================\n",
      "Loaded DATABASE from ../data/short_audio_dataset\n",
      "1500 total file\n",
      "Longest file is 16050 long\n",
      "Mean: -0.5514400005340576\n",
      "Standard deviation: 2504.491455078125\n",
      "Normalization: False\n",
      "========================================\n"
     ]
    }
   ],
   "source": [
    "# Load data\n",
    "\n",
    "audio_dataset = AudioDataset(root_path=\"../data/\", drop_both=False, use_short=True, normalize=False, use_features=True)\n",
    "dataset_len = len(audio_dataset)\n",
    "train_size, test_size, valid_size = int(dataset_len * 0.7), int(dataset_len * 0.2), int(dataset_len * 0.1)\n",
    "\n",
    "dataset_train, dataset_test, dataset_valid = torch.utils.data.random_split(audio_dataset, (train_size, test_size, valid_size))\n",
    "\n",
    "kwargs = {'batch_size': 1, 'num_workers': 2}\n",
    "loader_train = torch.utils.data.DataLoader(dataset_train, **kwargs, shuffle=True)\n",
    "loader_test = torch.utils.data.DataLoader(dataset_test, **kwargs, shuffle=True)\n",
    "loader_valid = torch.utils.data.DataLoader(dataset_valid, **kwargs, shuffle=True)\n",
    "\n",
    "# 33% should be considered like with the other methods \n",
    "# In the solution he plots the lengths of the data...but thats just for educational purpose so I didn't reuse that"
   ]
  },
  {
   "cell_type": "markdown",
   "metadata": {},
   "source": [
    "**Task**\n",
    "\n",
    "* Create a class to load the dataset\n",
    "    * To be able to batch emails, they have to have the same length. You can ensure this in different ways e.g. zero-padding\n",
    "    * Make a training and validation set based on *emails_ascii* and *targets*  \n",
    "* Create and train a recurrent model to classify whether the emails are spam or not\n",
    "    * Have a look at the [LSTM](https://pytorch.org/docs/stable/generated/torch.nn.LSTM.html) module and the [Embedding](https://pytorch.org/docs/stable/generated/torch.nn.Embedding.html) module"
   ]
  },
  {
   "cell_type": "markdown",
   "metadata": {},
   "source": [
    "To be able to batch-process the mails even though some of the mails are shorter than the chosen text-length, the dataset zero-pads the text and returns an index for the last valid character."
   ]
  },
  {
   "cell_type": "code",
   "execution_count": 8,
   "metadata": {},
   "outputs": [],
   "source": [
    "class voiceClassifier(nn.Module):\n",
    "    def __init__(self, input_size, hidden_size, num_layers, output_size):\n",
    "        super(voiceClassifier, self).__init__()  \n",
    "        self.hidden_size = hidden_size\n",
    "        self.num_layers = num_layers\n",
    "        self.lstm = nn.LSTM(input_size, hidden_size, num_layers, batch_first=True) # Long Short Term Memory Layer -> \n",
    "        self.fc = nn.Linear(hidden_size, output_size)\n",
    "        # self.sigmoid = nn.Sigmoid()  # Could only be used when both was not used - binary classification\n",
    "\n",
    "    def forward(self, x):\n",
    "        h0 = torch.zeros(self.num_layers, x.size(0), self.hidden_size).to(x.device) # initial hiddens\n",
    "        c0 = torch.zeros(self.num_layers, x.size(0), self.hidden_size).to(x.device) # initial cell states\n",
    "\n",
    "        # Forward propagate LSTM\n",
    "        out, _ = self.lstm(x, (h0, c0))  # Output shape: (batch_size, seq_length, hidden_size)\n",
    "\n",
    "        # Decode the hidden state of the last time step\n",
    "        out = self.fc(out)\n",
    "        # output = self.sigmoid(out)  # Sigmoid for binary classification\n",
    "        output = F.softmax(out[:, -1, :], dim=1)  # Softmax for multi-class classification\n",
    "\n",
    "        return output\n"
   ]
  },
  {
   "cell_type": "code",
   "execution_count": 9,
   "metadata": {},
   "outputs": [
    {
     "data": {
      "application/vnd.jupyter.widget-view+json": {
       "model_id": "28af3968a04449e88aa55e9e8b5bc3f3",
       "version_major": 2,
       "version_minor": 0
      },
      "text/plain": [
       "  0%|          | 0/40 [00:00<?, ?it/s]"
      ]
     },
     "metadata": {},
     "output_type": "display_data"
    },
    {
     "name": "stdout",
     "output_type": "stream",
     "text": [
      "torch.Size([1, 1, 128])\n",
      "Epoch [1/40], Train Loss: 1.0795, Train Acc: 0.4324, Valid Loss: 1.0585, Valid Acc: 0.5133\n",
      "torch.Size([1, 1, 128])\n"
     ]
    },
    {
     "ename": "KeyboardInterrupt",
     "evalue": "",
     "output_type": "error",
     "traceback": [
      "\u001b[0;31m---------------------------------------------------------------------------\u001b[0m",
      "\u001b[0;31mKeyboardInterrupt\u001b[0m                         Traceback (most recent call last)",
      "Cell \u001b[0;32mIn[9], line 49\u001b[0m\n\u001b[1;32m     46\u001b[0m loss \u001b[38;5;241m=\u001b[39m loss_func(logits, one_hot_targets)  \u001b[38;5;66;03m# Calculate the loss directly\u001b[39;00m\n\u001b[1;32m     48\u001b[0m \u001b[38;5;66;03m# Backpropagation and parameter updates\u001b[39;00m\n\u001b[0;32m---> 49\u001b[0m \u001b[43mloss\u001b[49m\u001b[38;5;241;43m.\u001b[39;49m\u001b[43mbackward\u001b[49m\u001b[43m(\u001b[49m\u001b[43m)\u001b[49m\n\u001b[1;32m     50\u001b[0m opt\u001b[38;5;241m.\u001b[39mstep()\n\u001b[1;32m     51\u001b[0m losses\u001b[38;5;241m.\u001b[39mappend(loss\u001b[38;5;241m.\u001b[39mitem())\n",
      "File \u001b[0;32m~/.local/lib/python3.10/site-packages/torch/_tensor.py:492\u001b[0m, in \u001b[0;36mTensor.backward\u001b[0;34m(self, gradient, retain_graph, create_graph, inputs)\u001b[0m\n\u001b[1;32m    482\u001b[0m \u001b[38;5;28;01mif\u001b[39;00m has_torch_function_unary(\u001b[38;5;28mself\u001b[39m):\n\u001b[1;32m    483\u001b[0m     \u001b[38;5;28;01mreturn\u001b[39;00m handle_torch_function(\n\u001b[1;32m    484\u001b[0m         Tensor\u001b[38;5;241m.\u001b[39mbackward,\n\u001b[1;32m    485\u001b[0m         (\u001b[38;5;28mself\u001b[39m,),\n\u001b[0;32m   (...)\u001b[0m\n\u001b[1;32m    490\u001b[0m         inputs\u001b[38;5;241m=\u001b[39minputs,\n\u001b[1;32m    491\u001b[0m     )\n\u001b[0;32m--> 492\u001b[0m \u001b[43mtorch\u001b[49m\u001b[38;5;241;43m.\u001b[39;49m\u001b[43mautograd\u001b[49m\u001b[38;5;241;43m.\u001b[39;49m\u001b[43mbackward\u001b[49m\u001b[43m(\u001b[49m\n\u001b[1;32m    493\u001b[0m \u001b[43m    \u001b[49m\u001b[38;5;28;43mself\u001b[39;49m\u001b[43m,\u001b[49m\u001b[43m \u001b[49m\u001b[43mgradient\u001b[49m\u001b[43m,\u001b[49m\u001b[43m \u001b[49m\u001b[43mretain_graph\u001b[49m\u001b[43m,\u001b[49m\u001b[43m \u001b[49m\u001b[43mcreate_graph\u001b[49m\u001b[43m,\u001b[49m\u001b[43m \u001b[49m\u001b[43minputs\u001b[49m\u001b[38;5;241;43m=\u001b[39;49m\u001b[43minputs\u001b[49m\n\u001b[1;32m    494\u001b[0m \u001b[43m\u001b[49m\u001b[43m)\u001b[49m\n",
      "File \u001b[0;32m~/.local/lib/python3.10/site-packages/torch/autograd/__init__.py:251\u001b[0m, in \u001b[0;36mbackward\u001b[0;34m(tensors, grad_tensors, retain_graph, create_graph, grad_variables, inputs)\u001b[0m\n\u001b[1;32m    246\u001b[0m     retain_graph \u001b[38;5;241m=\u001b[39m create_graph\n\u001b[1;32m    248\u001b[0m \u001b[38;5;66;03m# The reason we repeat the same comment below is that\u001b[39;00m\n\u001b[1;32m    249\u001b[0m \u001b[38;5;66;03m# some Python versions print out the first line of a multi-line function\u001b[39;00m\n\u001b[1;32m    250\u001b[0m \u001b[38;5;66;03m# calls in the traceback and some print out the last line\u001b[39;00m\n\u001b[0;32m--> 251\u001b[0m \u001b[43mVariable\u001b[49m\u001b[38;5;241;43m.\u001b[39;49m\u001b[43m_execution_engine\u001b[49m\u001b[38;5;241;43m.\u001b[39;49m\u001b[43mrun_backward\u001b[49m\u001b[43m(\u001b[49m\u001b[43m  \u001b[49m\u001b[38;5;66;43;03m# Calls into the C++ engine to run the backward pass\u001b[39;49;00m\n\u001b[1;32m    252\u001b[0m \u001b[43m    \u001b[49m\u001b[43mtensors\u001b[49m\u001b[43m,\u001b[49m\n\u001b[1;32m    253\u001b[0m \u001b[43m    \u001b[49m\u001b[43mgrad_tensors_\u001b[49m\u001b[43m,\u001b[49m\n\u001b[1;32m    254\u001b[0m \u001b[43m    \u001b[49m\u001b[43mretain_graph\u001b[49m\u001b[43m,\u001b[49m\n\u001b[1;32m    255\u001b[0m \u001b[43m    \u001b[49m\u001b[43mcreate_graph\u001b[49m\u001b[43m,\u001b[49m\n\u001b[1;32m    256\u001b[0m \u001b[43m    \u001b[49m\u001b[43minputs\u001b[49m\u001b[43m,\u001b[49m\n\u001b[1;32m    257\u001b[0m \u001b[43m    \u001b[49m\u001b[43mallow_unreachable\u001b[49m\u001b[38;5;241;43m=\u001b[39;49m\u001b[38;5;28;43;01mTrue\u001b[39;49;00m\u001b[43m,\u001b[49m\n\u001b[1;32m    258\u001b[0m \u001b[43m    \u001b[49m\u001b[43maccumulate_grad\u001b[49m\u001b[38;5;241;43m=\u001b[39;49m\u001b[38;5;28;43;01mTrue\u001b[39;49;00m\u001b[43m,\u001b[49m\n\u001b[1;32m    259\u001b[0m \u001b[43m\u001b[49m\u001b[43m)\u001b[49m\n",
      "\u001b[0;31mKeyboardInterrupt\u001b[0m: "
     ]
    }
   ],
   "source": [
    "input_size = 128  # I think this is the size of our features\n",
    "hidden_size = 128  # Choose an appropriate size\n",
    "num_layers = 1  # Number of LSTM layers\n",
    "output_size = 3  # 1 For binary classification\n",
    "model = voiceClassifier(input_size, hidden_size, num_layers, output_size)\n",
    "opt = torch.optim.Adam(model.parameters(), lr=1e-3)\n",
    "sched = torch.optim.lr_scheduler.MultiStepLR(opt, (30,))\n",
    "\n",
    "batch_size = 1\n",
    "num_classes = 3\n",
    "\n",
    "train_losses = []\n",
    "valid_losses = []\n",
    "train_accuracies = []\n",
    "valid_accuracies = []\n",
    "lrs = []\n",
    "\n",
    "\n",
    "pbar = tqdm(range(40)) # was 40 befofore\n",
    "for epoch in pbar:\n",
    "    print(x.shape)\n",
    "    # Train\n",
    "    model.train()\n",
    "    losses=[]\n",
    "    #train_losses = []\n",
    "    train_correct = 0\n",
    "    train_total = 0\n",
    "    for x, y in loader_train:\n",
    "        opt.zero_grad()\n",
    "\n",
    "        x = x.unsqueeze(0)\n",
    "        y = y.unsqueeze(0)\n",
    "        logits = model(x)\n",
    "        predicted_classes = torch.argmax(logits, dim=1)  # Along the class dimension\n",
    "\n",
    "        y = y.squeeze(1)  # Remove the extra singleton dimension if present\n",
    "        #print(\"True: \", y, \" , Predicted: \", predicted_classes)\n",
    "        \n",
    "        #print(\"predicted class\", predicted_classes)\n",
    "        # make target out of vector\n",
    "        one_hot_targets = torch.zeros(batch_size, num_classes) # empty tensor to hold the one-hot encoded targets\n",
    "        for idx, target in enumerate(y): # Fill one-hot encoded values based on the target values\n",
    "            one_hot_targets[idx, target] = 1\n",
    "\n",
    "        loss_func = nn.CrossEntropyLoss()  # Define the loss function\n",
    "        loss = loss_func(logits, one_hot_targets)  # Calculate the loss directly\n",
    "    \n",
    "        # Backpropagation and parameter updates\n",
    "        loss.backward()\n",
    "        opt.step()\n",
    "        losses.append(loss.item())\n",
    "        #train_losses.append(loss.item())\n",
    "        train_total += y.size(0)\n",
    "        train_correct += (torch.argmax(logits, dim=1) == y.view(-1)).sum().item()\n",
    "    \n",
    "#    print(\"True: \", y, \" , Predicted: \", predicted_classes)\n",
    "    train_loss = np.mean(losses) #added from old\n",
    "    train_accuracy = train_correct / train_total\n",
    "    avg_train_loss = sum(losses) / len(losses)\n",
    "    \n",
    "     # Validation\n",
    "    model.eval()\n",
    "    losses = []\n",
    "    #valid_losses = []\n",
    "    valid_correct = 0\n",
    "    valid_total = 0\n",
    "    with torch.no_grad():\n",
    "        for x, y in loader_valid:\n",
    "            x = x.unsqueeze(0)  # Add a batch dimension assuming it's a single sequence\n",
    "            y = y.unsqueeze(1)\n",
    "            logits = model(x)\n",
    "            y = y.squeeze(1)  # Remove the extra singleton dimension if present\n",
    "            \n",
    "            one_hot_targets = torch.zeros(batch_size, num_classes) # empty tensor to hold the one-hot encoded targets\n",
    "            for idx, target in enumerate(y): # Fill one-hot encoded values based on the target values\n",
    "                one_hot_targets[idx, target] = 1\n",
    "    \n",
    "            loss_func = nn.CrossEntropyLoss()  # Define the loss function\n",
    "            loss = loss_func(logits, one_hot_targets)  # Calculate the loss directly\n",
    "    \n",
    "            losses.append(loss.item())\n",
    "            valid_total += y.size(0)\n",
    "            valid_correct += (torch.argmax(logits, dim=1) == y.view(-1)).sum().item()\n",
    "\n",
    "            \n",
    "    valid_loss = np.mean(losses) # added from old\n",
    "    valid_accuracy = valid_correct / valid_total\n",
    "    avg_valid_loss = sum(losses) / len(losses)\n",
    "\n",
    "    # sched\n",
    "    sched.step()\n",
    "\n",
    "    # history - saved for plotting\n",
    "    lrs.append(next(iter(opt.param_groups))['lr'])\n",
    "    train_losses.append(train_loss)\n",
    "    valid_losses.append(valid_loss)\n",
    "    train_accuracies.append(train_accuracy)\n",
    "    valid_accuracies.append(valid_accuracy)\n",
    "\n",
    "     \n",
    "  \n",
    "    print(f\"Epoch [{epoch + 1}/40], \"\n",
    "          f\"Train Loss: {avg_train_loss:.4f}, Train Acc: {train_accuracy:.4f}, \"\n",
    "          f\"Valid Loss: {avg_valid_loss:.4f}, Valid Acc: {valid_accuracy:.4f}\")"
   ]
  },
  {
   "cell_type": "code",
   "execution_count": 37,
   "metadata": {},
   "outputs": [
    {
     "data": {
      "image/png": "[encoded data removed]",
      "text/plain": [
       "<Figure size 1000x300 with 3 Axes>"
      ]
     },
     "metadata": {},
     "output_type": "display_data"
    }
   ],
   "source": [
    "# plot history\n",
    "fig, axs = plt.subplots(1, 3, figsize=(10, 3))\n",
    "axs[0].plot(train_losses, label='train')\n",
    "axs[0].plot(valid_losses, label='valid')\n",
    "            \n",
    "axs[0].set_ylabel('loss')\n",
    "axs[0].legend()\n",
    "axs[1].plot(train_accuracies, label='train')\n",
    "axs[1].plot(valid_accuracies, label='valid')\n",
    "axs[1].set_ylabel('acc')\n",
    "axs[1].set_ylim(0, 1)\n",
    "axs[1].legend()\n",
    "axs[2].plot(lrs)\n",
    "axs[2].set_ylabel('lr')\n",
    "axs[2].set_yscale('log')\n",
    "plt.tight_layout()\n",
    "plt.show()"
   ]
  }
 ],
 "metadata": {
  "kernelspec": {
   "display_name": "Python 3 (ipykernel)",
   "language": "python",
   "name": "python3"
  },
  "language_info": {
   "codemirror_mode": {
    "name": "ipython",
    "version": 3
   },
   "file_extension": ".py",
   "mimetype": "text/x-python",
   "name": "python",
   "nbconvert_exporter": "python",
   "pygments_lexer": "ipython3",
   "version": "3.10.12"
  }
 },
 "nbformat": 4,
 "nbformat_minor": 4
}
