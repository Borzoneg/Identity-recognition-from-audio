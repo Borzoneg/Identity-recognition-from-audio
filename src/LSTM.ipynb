{
 "cells": [
  {
   "cell_type": "markdown",
   "metadata": {},
   "source": [
    "# LSTM\n",
    "Long Short-Term Memory"
   ]
  },
  {
   "cell_type": "code",
   "execution_count": 12,
   "metadata": {},
   "outputs": [],
   "source": [
    "import glob\n",
    "import os\n",
    "from pathlib import Path\n",
    "from scipy.io import wavfile\n",
    "\n",
    "import numpy as np\n",
    "import matplotlib.pyplot as plt\n",
    "import torch\n",
    "from torch import nn\n",
    "from torch.nn import functional as F\n",
    "# Dataset\n",
    "from torch.utils.data import DataLoader, Dataset, random_split\n",
    "\n",
    "import librosa\n",
    "import librosa.display\n",
    "import IPython.display as ipd\n",
    "\n",
    "from tqdm.notebook import tqdm\n",
    "# from google_drive_downloader import GoogleDriveDownloader as gdd"
   ]
  },
  {
   "cell_type": "markdown",
   "metadata": {},
   "source": [
    "## AudioDataset Class"
   ]
  },
  {
   "cell_type": "code",
   "execution_count": 13,
   "metadata": {},
   "outputs": [],
   "source": [
    "sliced_dataset = \"short_audio_dataset\"\n",
    "sliced_dataset_lenght = 16050\n",
    "# sliced_dataset = \"shorter_audio_dataset\"\n",
    "# sliced_dataset_lenght = 4013\n",
    "original_dataset = \"audio_dataset\"\n",
    "original_dataset_lenght = 80249\n",
    "\n",
    "class AudioDataset(Dataset):\n",
    "    def __init__(self, root_path=\"./data/\", drop_both=False, use_short=False, normalize=False, use_features=False):\n",
    "        root_folder = root_path + original_dataset if not use_short else root_path + sliced_dataset\n",
    "        self.use_features = use_features\n",
    "        self.max_length = original_dataset_lenght if not use_short else sliced_dataset_lenght\n",
    "        self.class_map = {\"esben\" : 0, \"peter\": 1, \"both\": 2}\n",
    "        self.data = []\n",
    "        self.wavs = []\n",
    "        self.labels = []\n",
    "        self.features_list = []\n",
    "        self.min_val = 10e10\n",
    "        self.max_val = 0\n",
    "        print(\"Start reading files\")\n",
    "        for subdir, dirs, files in os.walk(root_folder):\n",
    "            for file_name in files:\n",
    "                if drop_both and \"both\" in subdir:\n",
    "                   continue\n",
    "        \n",
    "                file_path = os.path.join(subdir, file_name)\n",
    "                self.sample_rate, wav = wavfile.read(file_path)\n",
    "                wav = wav.astype(np.float32)\n",
    "                \n",
    "                if wav.shape[0] > self.max_length:\n",
    "                    self.max_length = wav.shape[0]\n",
    "                    print(\"Found wav with more length than specified max one, new max is:\", wav.shape[0])\n",
    "                \n",
    "                wav = np.pad(wav, (0, self.max_length-wav.shape[0]))\n",
    "                features = np.transpose(self.feature_extraction(wav, self.sample_rate, normalize=normalize))\n",
    "                label_str = file_path.split('/')[-3][2:]\n",
    "                label = (np.int64(self.class_map[label_str]))\n",
    "                \n",
    "                self.max_val = np.max(wav) if np.max(wav) > self.max_val else self.max_val\n",
    "                self.min_val = np.min(wav) if np.min(wav) < self.min_val else self.min_val\n",
    "                \n",
    "                self.wavs.append(wav)\n",
    "                self.features_list.append(features)\n",
    "                self.labels.append(label)\n",
    "               \n",
    "        self.wavs = np.array(self.wavs)\n",
    "        self.mu  = self.wavs.mean()\n",
    "        self.std = np.std(self.wavs)\n",
    "        # self.wavs = torch.Tensor(self.wavs)\n",
    "        if normalize:\n",
    "            self.wavs = (self.wavs + np.abs(self.min_val)) / (np.abs(self.min_val) + self.max_val)\n",
    "            # self.wavs = torch.nn.functional.normalize(self.wavs, dim=1)\n",
    "        \n",
    "        print(\"=\"*40)\n",
    "        print(\"Loaded DATABASE from {}\\n{} total file\\nLongest file is {} long\\nMean: {}\\nStandard deviation: {}\\nNormalization: {}\".\n",
    "              format(root_folder, len(self.wavs), self.max_length, self.mu, self.std, normalize))\n",
    "        print(\"=\"*40)\n",
    "    \n",
    "    def feature_extraction(self, wav, sample_rate, n_mfcc=128, normalize=False):\n",
    "        # extract features from the audio\n",
    "        mfcc = np.mean(librosa.feature.mfcc(y=wav, sr=sample_rate, n_mfcc=n_mfcc).T, axis=0)\n",
    "        if normalize:\n",
    "            mfcc = (mfcc + np.abs(np.min(mfcc))) / (np.abs(np.min(mfcc)) + np.max(mfcc))\n",
    "        return mfcc\n",
    "\n",
    "    def __len__(self):\n",
    "        return len(self.wavs)\n",
    "    \n",
    "    def __getitem__(self, idx):\n",
    "        wav = self.wavs[idx]\n",
    "        label = self.labels[idx]\n",
    "        wav_tensor = torch.from_numpy(wav)\n",
    "        # label_tensor = torch.Tensor(label)\n",
    "        if self.use_features:\n",
    "            features = self.features_list[idx]\n",
    "            features_tensor = torch.Tensor(features)\n",
    "            return features_tensor, label\n",
    "        return wav_tensor, label\n"
   ]
  },
  {
   "cell_type": "markdown",
   "metadata": {},
   "source": [
    "Data Generation"
   ]
  },
  {
   "cell_type": "code",
   "execution_count": 14,
   "metadata": {},
   "outputs": [
    {
     "name": "stdout",
     "output_type": "stream",
     "text": [
      "Start reading files\n",
      "========================================\n",
      "Loaded DATABASE from ../data/short_audio_dataset\n",
      "1000 total file\n",
      "Longest file is 16050 long\n",
      "Mean: -0.6988561153411865\n",
      "Standard deviation: 2332.388427734375\n",
      "Normalization: True\n",
      "========================================\n"
     ]
    }
   ],
   "source": [
    "# Load data\n",
    "\n",
    "audio_dataset = AudioDataset(root_path=\"../data/\", drop_both=True, use_short=True, normalize=True, use_features=True)\n",
    "dataset_len = len(audio_dataset)\n",
    "train_size, test_size, valid_size = int(dataset_len * 0.7), int(dataset_len * 0.2), int(dataset_len * 0.1)\n",
    "\n",
    "dataset_train, dataset_test, dataset_valid = torch.utils.data.random_split(audio_dataset, (train_size, test_size, valid_size))\n",
    "\n",
    "kwargs = {'batch_size': 1, 'num_workers': 2}\n",
    "loader_train = torch.utils.data.DataLoader(dataset_train, **kwargs, shuffle=True)\n",
    "loader_test = torch.utils.data.DataLoader(dataset_test, **kwargs, shuffle=True)\n",
    "loader_valid = torch.utils.data.DataLoader(dataset_valid, **kwargs, shuffle=True)\n",
    "\n",
    "# 33% should be considered like with the other methods \n",
    "# In the solution he plots the lengths of the data...but thats just for educational purpose so I didn't reuse that"
   ]
  },
  {
   "cell_type": "markdown",
   "metadata": {},
   "source": [
    "**Task**\n",
    "\n",
    "* Create a class to load the dataset\n",
    "    * To be able to batch emails, they have to have the same length. You can ensure this in different ways e.g. zero-padding\n",
    "    * Make a training and validation set based on *emails_ascii* and *targets*  \n",
    "* Create and train a recurrent model to classify whether the emails are spam or not\n",
    "    * Have a look at the [LSTM](https://pytorch.org/docs/stable/generated/torch.nn.LSTM.html) module and the [Embedding](https://pytorch.org/docs/stable/generated/torch.nn.Embedding.html) module"
   ]
  },
  {
   "cell_type": "markdown",
   "metadata": {},
   "source": [
    "To be able to batch-process the mails even though some of the mails are shorter than the chosen text-length, the dataset zero-pads the text and returns an index for the last valid character."
   ]
  },
  {
   "cell_type": "code",
   "execution_count": 15,
   "metadata": {},
   "outputs": [],
   "source": [
    "class voiceClassifier(nn.Module):\n",
    "    def __init__(self, input_size, hidden_size, num_layers, output_size):\n",
    "        super(voiceClassifier, self).__init__()  \n",
    "        self.hidden_size = hidden_size\n",
    "        self.num_layers = num_layers\n",
    "        self.lstm = nn.LSTM(input_size, hidden_size, num_layers, batch_first=True) # Long Short Term Memory Layer -> \n",
    "        self.fc = nn.Linear(hidden_size, output_size)\n",
    "        self.sigmoid = nn.Sigmoid()  # For binary classification\n",
    "\n",
    "    def forward(self, x):\n",
    "        h0 = torch.zeros(self.num_layers, x.size(0), self.hidden_size).to(x.device) # initial hiddens\n",
    "        c0 = torch.zeros(self.num_layers, x.size(0), self.hidden_size).to(x.device) # initial cell states\n",
    "\n",
    "        # Forward propagate LSTM\n",
    "        out, _ = self.lstm(x, (h0, c0))  # Output shape: (batch_size, seq_length, hidden_size)\n",
    "\n",
    "        # Decode the hidden state of the last time step\n",
    "        out = self.fc(out[:, -1, :])\n",
    "        output = self.sigmoid(out)  # Sigmoid for binary classification\n",
    "        return output"
   ]
  },
  {
   "cell_type": "code",
   "execution_count": 33,
   "metadata": {},
   "outputs": [
    {
     "data": {
      "application/vnd.jupyter.widget-view+json": {
       "model_id": "bb3973b0335240a296eb89943367e241",
       "version_major": 2,
       "version_minor": 0
      },
      "text/plain": [
       "  0%|          | 0/40 [00:00<?, ?it/s]"
      ]
     },
     "metadata": {},
     "output_type": "display_data"
    },
    {
     "name": "stdout",
     "output_type": "stream",
     "text": [
      "Epoch [1/40], Train Loss: 0.7048, Train Acc: 0.4914, Valid Loss: 1.2882, Valid Acc: 0.5000\n",
      "Epoch [2/40], Train Loss: 0.6945, Train Acc: 0.4986, Valid Loss: 1.8611, Valid Acc: 0.5000\n",
      "Epoch [3/40], Train Loss: 0.6935, Train Acc: 0.4986, Valid Loss: 2.0515, Valid Acc: 0.5000\n",
      "Epoch [4/40], Train Loss: 0.6932, Train Acc: 0.4986, Valid Loss: 1.9725, Valid Acc: 0.5000\n",
      "Epoch [5/40], Train Loss: 0.6925, Train Acc: 0.4986, Valid Loss: 1.4014, Valid Acc: 0.5000\n",
      "Epoch [6/40], Train Loss: 0.6851, Train Acc: 0.5057, Valid Loss: 0.7526, Valid Acc: 0.5700\n",
      "Epoch [7/40], Train Loss: 0.6642, Train Acc: 0.5957, Valid Loss: 1.0008, Valid Acc: 0.5600\n",
      "Epoch [8/40], Train Loss: 0.6355, Train Acc: 0.6900, Valid Loss: 0.5954, Valid Acc: 0.6900\n",
      "Epoch [9/40], Train Loss: 0.6096, Train Acc: 0.7814, Valid Loss: 0.3443, Valid Acc: 0.8400\n",
      "Epoch [10/40], Train Loss: 0.5934, Train Acc: 0.8186, Valid Loss: 0.2662, Valid Acc: 0.8800\n",
      "Epoch [11/40], Train Loss: 0.5855, Train Acc: 0.8357, Valid Loss: 0.2229, Valid Acc: 0.9000\n",
      "Epoch [12/40], Train Loss: 0.5782, Train Acc: 0.8486, Valid Loss: 0.2112, Valid Acc: 0.9400\n",
      "Epoch [13/40], Train Loss: 0.5728, Train Acc: 0.8471, Valid Loss: 0.3113, Valid Acc: 0.8800\n",
      "Epoch [14/40], Train Loss: 0.5705, Train Acc: 0.8629, Valid Loss: 0.1616, Valid Acc: 0.9500\n",
      "Epoch [15/40], Train Loss: 0.5668, Train Acc: 0.8686, Valid Loss: 0.2072, Valid Acc: 0.9100\n",
      "Epoch [16/40], Train Loss: 0.5677, Train Acc: 0.8543, Valid Loss: 0.2295, Valid Acc: 0.9000\n",
      "Epoch [17/40], Train Loss: 0.5658, Train Acc: 0.8629, Valid Loss: 0.3688, Valid Acc: 0.8700\n",
      "Epoch [18/40], Train Loss: 0.5660, Train Acc: 0.8586, Valid Loss: 0.1615, Valid Acc: 0.9500\n",
      "Epoch [19/40], Train Loss: 0.5635, Train Acc: 0.8614, Valid Loss: 0.1376, Valid Acc: 0.9600\n",
      "Epoch [20/40], Train Loss: 0.5623, Train Acc: 0.8657, Valid Loss: 0.1515, Valid Acc: 0.9600\n",
      "Epoch [21/40], Train Loss: 0.5609, Train Acc: 0.8771, Valid Loss: 0.1757, Valid Acc: 0.9300\n",
      "Epoch [22/40], Train Loss: 0.5600, Train Acc: 0.8757, Valid Loss: 0.3301, Valid Acc: 0.8900\n",
      "Epoch [23/40], Train Loss: 0.5558, Train Acc: 0.8871, Valid Loss: 0.5267, Valid Acc: 0.8700\n",
      "Epoch [24/40], Train Loss: 0.5568, Train Acc: 0.8771, Valid Loss: 0.1131, Valid Acc: 0.9500\n",
      "Epoch [25/40], Train Loss: 0.5586, Train Acc: 0.8786, Valid Loss: 0.2672, Valid Acc: 0.9100\n",
      "Epoch [26/40], Train Loss: 0.5531, Train Acc: 0.8914, Valid Loss: 0.1747, Valid Acc: 0.9400\n",
      "Epoch [27/40], Train Loss: 0.5601, Train Acc: 0.8757, Valid Loss: 0.1114, Valid Acc: 0.9700\n",
      "Epoch [28/40], Train Loss: 0.5524, Train Acc: 0.8929, Valid Loss: 0.1241, Valid Acc: 0.9600\n",
      "Epoch [29/40], Train Loss: 0.5496, Train Acc: 0.8943, Valid Loss: 1.1568, Valid Acc: 0.7800\n",
      "Epoch [30/40], Train Loss: 0.5550, Train Acc: 0.8814, Valid Loss: 0.1082, Valid Acc: 0.9800\n",
      "Epoch [31/40], Train Loss: 0.5454, Train Acc: 0.9071, Valid Loss: 0.1792, Valid Acc: 0.9200\n",
      "Epoch [32/40], Train Loss: 0.5436, Train Acc: 0.9143, Valid Loss: 0.2681, Valid Acc: 0.9200\n",
      "Epoch [33/40], Train Loss: 0.5440, Train Acc: 0.9071, Valid Loss: 0.2254, Valid Acc: 0.9200\n",
      "Epoch [34/40], Train Loss: 0.5440, Train Acc: 0.9100, Valid Loss: 0.1979, Valid Acc: 0.9200\n",
      "Epoch [35/40], Train Loss: 0.5443, Train Acc: 0.9100, Valid Loss: 0.2220, Valid Acc: 0.9200\n",
      "Epoch [36/40], Train Loss: 0.5440, Train Acc: 0.9114, Valid Loss: 0.1797, Valid Acc: 0.9200\n",
      "Epoch [37/40], Train Loss: 0.5436, Train Acc: 0.9100, Valid Loss: 0.1865, Valid Acc: 0.9200\n",
      "Epoch [38/40], Train Loss: 0.5435, Train Acc: 0.9129, Valid Loss: 0.1395, Valid Acc: 0.9500\n",
      "Epoch [39/40], Train Loss: 0.5434, Train Acc: 0.9157, Valid Loss: 0.1592, Valid Acc: 0.9200\n",
      "Epoch [40/40], Train Loss: 0.5430, Train Acc: 0.9143, Valid Loss: 0.1685, Valid Acc: 0.9200\n"
     ]
    }
   ],
   "source": [
    "input_size = 128  # I think this is the size of our features\n",
    "hidden_size = 128  # Choose an appropriate size\n",
    "num_layers = 1  # Number of LSTM layers\n",
    "output_size = 1  # For binary classification\n",
    "model = voiceClassifier(input_size, hidden_size, num_layers, output_size)\n",
    "opt = torch.optim.Adam(model.parameters(), lr=1e-3)\n",
    "sched = torch.optim.lr_scheduler.MultiStepLR(opt, (30,))\n",
    "\n",
    "train_losses = []\n",
    "valid_losses = []\n",
    "train_accuracies = []\n",
    "valid_accuracies = []\n",
    "lrs = []\n",
    "\n",
    "\n",
    "pbar = tqdm(range(40))\n",
    "for epoch in pbar:\n",
    "    # Train\n",
    "    model.train()\n",
    "    losses=[]\n",
    "    #train_losses = []\n",
    "    train_correct = 0\n",
    "    train_total = 0\n",
    "    for x, y in loader_train:\n",
    "        opt.zero_grad()\n",
    "        x = x.unsqueeze(0)  # Add a batch dimension assuming it's a single sequence\n",
    "        y = y.unsqueeze(1)\n",
    "        output = model(x)\n",
    "        loss = F.binary_cross_entropy_with_logits(output, y.float())\n",
    "        loss.backward()\n",
    "        opt.step()\n",
    "        losses.append(loss.item())\n",
    "        #train_losses.append(loss.item())\n",
    "        train_total += y.size(0)\n",
    "        train_correct += ((output > 0.5) == y.byte()).sum().item()\n",
    "   \n",
    "    train_loss = np.mean(losses) #added from old\n",
    "    train_accuracy = train_correct / train_total\n",
    "    avg_train_loss = sum(losses) / len(losses)\n",
    "    \n",
    "    # Validation\n",
    "    model.eval()\n",
    "    losses = []\n",
    "    #valid_losses = []\n",
    "    valid_correct = 0\n",
    "    valid_total = 0\n",
    "    with torch.no_grad():\n",
    "        for x, y in loader_valid:\n",
    "            x = x.unsqueeze(0)  # Add a batch dimension assuming it's a single sequence\n",
    "            y = y.unsqueeze(1)\n",
    "            output = model(x)\n",
    "            loss = F.binary_cross_entropy(output, y.float())\n",
    "            losses.append(loss.item())\n",
    "            #valid_losses.append(loss.item())\n",
    "            valid_total += y.size(0)\n",
    "            valid_correct += ((output > 0.5) == y.byte()).sum().item()\n",
    "            \n",
    "    valid_loss = np.mean(losses) # added from old\n",
    "    valid_accuracy = valid_correct / valid_total\n",
    "    avg_valid_loss = sum(losses) / len(losses)\n",
    "\n",
    "    # sched\n",
    "    sched.step()\n",
    "\n",
    "    # history\n",
    "    lrs.append(next(iter(opt.param_groups))['lr'])\n",
    "\n",
    "    train_losses.append(train_loss)\n",
    "    valid_losses.append(valid_loss)\n",
    "    train_accuracies.append(train_accuracy)\n",
    "    valid_accuracies.append(valid_accuracy)\n",
    "\n",
    "\n",
    "    print(f\"Epoch [{epoch + 1}/40], \"\n",
    "          f\"Train Loss: {avg_train_loss:.4f}, Train Acc: {train_accuracy:.4f}, \"\n",
    "          f\"Valid Loss: {avg_valid_loss:.4f}, Valid Acc: {valid_accuracy:.4f}\")"
   ]
  },
  {
   "cell_type": "code",
   "execution_count": 35,
   "metadata": {},
   "outputs": [
    {
     "data": {
      "image/png": "[encoded data removed]",
      "text/plain": [
       "<Figure size 1000x300 with 3 Axes>"
      ]
     },
     "metadata": {},
     "output_type": "display_data"
    }
   ],
   "source": [
    "# plot history\n",
    "fig, axs = plt.subplots(1, 3, figsize=(10, 3))\n",
    "axs[0].plot(train_losses, label='train')\n",
    "axs[0].plot(valid_losses, label='valid')\n",
    "            \n",
    "axs[0].set_ylabel('loss')\n",
    "axs[0].legend()\n",
    "axs[1].plot(train_accuracies, label='train')\n",
    "axs[1].plot(valid_accuracies, label='valid')\n",
    "axs[1].set_ylabel('acc')\n",
    "axs[1].set_ylim(0, 1)\n",
    "axs[1].legend()\n",
    "axs[2].plot(lrs)\n",
    "axs[2].set_ylabel('lr')\n",
    "axs[2].set_yscale('log')\n",
    "plt.tight_layout()\n",
    "plt.show()"
   ]
  }
 ],
 "metadata": {
  "kernelspec": {
   "display_name": "Python 3 (ipykernel)",
   "language": "python",
   "name": "python3"
  },
  "language_info": {
   "codemirror_mode": {
    "name": "ipython",
    "version": 3
   },
   "file_extension": ".py",
   "mimetype": "text/x-python",
   "name": "python",
   "nbconvert_exporter": "python",
   "pygments_lexer": "ipython3",
   "version": "3.10.12"
  }
 },
 "nbformat": 4,
 "nbformat_minor": 4
}
