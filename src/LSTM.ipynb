{
 "cells": [
  {
   "cell_type": "markdown",
   "metadata": {},
   "source": [
    "# LSTM\n",
    "Long Short-Term Memory"
   ]
  },
  {
   "cell_type": "code",
   "execution_count": 1,
   "metadata": {},
   "outputs": [],
   "source": [
    "import glob\n",
    "import os\n",
    "from pathlib import Path\n",
    "from scipy.io import wavfile\n",
    "\n",
    "import numpy as np\n",
    "import matplotlib.pyplot as plt\n",
    "import torch\n",
    "from torch import nn\n",
    "from torch.nn import functional as F\n",
    "# Dataset\n",
    "from torch.utils.data import DataLoader, Dataset, random_split\n",
    "from torch.nn import CrossEntropyLoss, LogSoftmax\n",
    "\n",
    "\n",
    "import librosa\n",
    "import librosa.display\n",
    "import IPython.display as ipd\n",
    "\n",
    "from tqdm.notebook import tqdm\n",
    "# from google_drive_downloader import GoogleDriveDownloader as gdd"
   ]
  },
  {
   "cell_type": "markdown",
   "metadata": {},
   "source": [
    "## AudioDataset Class"
   ]
  },
  {
   "cell_type": "code",
   "execution_count": 2,
   "metadata": {},
   "outputs": [],
   "source": [
    "sliced_dataset = \"short_audio_dataset\"\n",
    "sliced_dataset_lenght = 16050\n",
    "# sliced_dataset = \"shorter_audio_dataset\"\n",
    "# sliced_dataset_lenght = 4013\n",
    "original_dataset = \"audio_dataset\"\n",
    "original_dataset_lenght = 80249\n",
    "\n",
    "class AudioDataset(Dataset):\n",
    "    def __init__(self, root_path=\"./data/\", drop_both=False, use_short=False, active='wavs', normalize=False):\n",
    "        root_folder = root_path + original_dataset if not use_short else root_path + sliced_dataset\n",
    "        self.max_length = original_dataset_lenght if not use_short else sliced_dataset_lenght\n",
    "        self.class_map = {\"esben\" : 0, \"peter\": 1, \"both\": 2}\n",
    "        self.data = []\n",
    "        self.labels = []\n",
    "        self.min_val = 10e10\n",
    "        self.max_val = 0\n",
    "        self.normalize = normalize\n",
    "        self.wavs, self.mfccs, self.chromas, self.contrasts, self.centroids, self.bandwidths = [], [], [], [], [], []\n",
    "        self.wavs_norm, self.mfccs_norm, self.chromas_norm, self.contrasts_norm, self.centroids_norm, self.bandwidths_norm = [], [], [], [], [], []\n",
    "        \n",
    "        print(\"Start reading files and genearting features\")\n",
    "        for subdir, dirs, files in os.walk(root_folder):\n",
    "            for file_name in files:\n",
    "                if drop_both and \"both\" in subdir:\n",
    "                   continue\n",
    "        \n",
    "                file_path = os.path.join(subdir, file_name)\n",
    "                self.sample_rate, wav = wavfile.read(file_path)\n",
    "                wav = wav.astype(np.float32)\n",
    "                \n",
    "                if wav.shape[0] > self.max_length:\n",
    "                    self.max_length = wav.shape[0]\n",
    "                    print(\"Found wav with more length than specified max one, new max is:\", wav.shape[0])\n",
    "                \n",
    "                self.feature_extraction(wav, self.sample_rate)\n",
    "                wav = np.pad(wav, (0, self.max_length-wav.shape[0]))\n",
    "                label_str = file_path.split('/')[-3][2:]\n",
    "                label = (np.int64(self.class_map[label_str]))\n",
    "                \n",
    "                self.max_val = np.max(wav) if np.max(wav) > self.max_val else self.max_val\n",
    "                self.min_val = np.min(wav) if np.min(wav) < self.min_val else self.min_val\n",
    "                \n",
    "                self.wavs.append(wav)\n",
    "                self.labels.append(label)\n",
    "               \n",
    "        self.wavs = np.array(self.wavs)\n",
    "        self.mu  = self.wavs.mean()\n",
    "        self.std = np.std(self.wavs)\n",
    "        # self.wavs = torch.Tensor(self.wavs)\n",
    "\n",
    "        self.active = active\n",
    "        self.values_dict = {'wavs': 0, 'mfcc': 1, 'chroma': 2, 'contrast': 3, 'centroid': 4, 'bandwidth': 5}\n",
    "        self.values_list = [self.wavs, self.mfccs, self.chromas, self.contrasts, self.centroids, self.bandwidths]\n",
    "        self.values_norm_list = []\n",
    "        print(\"Generating normalized arrays\")\n",
    "        for lst in self.values_list:\n",
    "            self.values_norm_list.append((lst + np.abs(np.min(lst))) / (np.abs(np.min(lst)) + np.max(lst)))\n",
    "            \n",
    "        print(\"=\"*40)\n",
    "        print(\"Loaded DATABASE from {}\\n{} total file\\nLongest file is {} long\\nMean: {}\\nStandard deviation: {}\\n\".\n",
    "              format(root_folder, len(self.wavs), self.max_length, self.mu, self.std))\n",
    "        print(\"=\"*40)\n",
    "\n",
    "    def feature_extraction(self, wav, sample_rate):\n",
    "        self.mfccs.append(np.transpose(np.mean(librosa.feature.mfcc(y=wav, sr=sample_rate, n_mfcc=128).T, axis=0)))\n",
    "        # self.chromas.append(np.transpose(np.mean(librosa.feature.chroma_cqt(y=wav, sr=sample_rate).T, axis=0)))\n",
    "        self.chromas.append(np.transpose(np.mean(librosa.feature.chroma_stft(y=wav, sr=sample_rate).T, axis=0)))\n",
    "        self.contrasts.append(np.transpose(np.mean(librosa.feature.spectral_contrast(y=wav, sr=sample_rate).T, axis=0)))\n",
    "        self.centroids.append(np.transpose(np.mean(librosa.feature.spectral_centroid(y=wav, sr=sample_rate).T, axis=0)))\n",
    "        self.bandwidths.append(np.transpose(np.mean(librosa.feature.spectral_bandwidth(y=wav, sr=sample_rate).T, axis=0)))\n",
    "\n",
    "    def __len__(self):\n",
    "        return len(self.wavs)\n",
    "    \n",
    "    def __getitem__(self, idx):\n",
    "        y = self.labels[idx]\n",
    "        x = self.values_list[self.values_dict[self.active]][idx]\n",
    "        if self.normalize:\n",
    "            x = self.values_norm_list[self.values_dict[self.active]][idx]\n",
    "        x = torch.Tensor(x)\n",
    "        return x, y\n"
   ]
  },
  {
   "cell_type": "markdown",
   "metadata": {},
   "source": [
    "Data Generation"
   ]
  },
  {
   "cell_type": "code",
   "execution_count": 3,
   "metadata": {},
   "outputs": [
    {
     "name": "stdout",
     "output_type": "stream",
     "text": [
      "Start reading files and genearting features\n",
      "Generating normalized arrays\n",
      "========================================\n",
      "Loaded DATABASE from ../data/short_audio_dataset\n",
      "1000 total file\n",
      "Longest file is 16050 long\n",
      "Mean: -0.6988561153411865\n",
      "Standard deviation: 2332.388916015625\n",
      "\n",
      "========================================\n"
     ]
    }
   ],
   "source": [
    "# Load data\n",
    "\n",
    "batch_size = 15\n",
    "drop_both = True\n",
    "if drop_both == False:\n",
    "    num_classes = 3\n",
    "else: \n",
    "    num_classes = 2\n",
    "audio_dataset = AudioDataset(root_path=\"../data/\", drop_both=drop_both, use_short=True)\n",
    "dataset_len = len(audio_dataset)\n",
    "train_size, test_size, valid_size = round(dataset_len * 0.7), round(dataset_len * 0.2), round(dataset_len * 0.1)\n",
    "\n",
    "dataset_train, dataset_test, dataset_valid = torch.utils.data.random_split(audio_dataset, (train_size, test_size, valid_size))\n",
    "\n",
    "kwargs = {'batch_size': batch_size, 'num_workers': 1}\n",
    "loader_train = torch.utils.data.DataLoader(dataset_train, **kwargs, shuffle=True)\n",
    "loader_test = torch.utils.data.DataLoader(dataset_test, **kwargs, shuffle=True)\n",
    "loader_valid = torch.utils.data.DataLoader(dataset_valid, **kwargs, shuffle=True)\n",
    "\n",
    "# 33% should be considered like with the other methods "
   ]
  },
  {
   "cell_type": "code",
   "execution_count": 4,
   "metadata": {},
   "outputs": [],
   "source": [
    "class voiceClassifier(nn.Module):\n",
    "    def __init__(self, input_size, hidden_size, num_layers, output_size):\n",
    "        super(voiceClassifier, self).__init__()  \n",
    "        self.hidden_size = hidden_size\n",
    "        self.num_layers = num_layers\n",
    "        self.lstm = nn.LSTM(input_size=input_size, hidden_size=hidden_size, num_layers=num_layers) # Long Short Term Memory Layer -> \n",
    "        self.fc = nn.Linear(hidden_size, output_size)\n",
    "        # self.sigmoid = nn.Sigmoid()  # Could only be used when both was not used - binary classification\n",
    "\n",
    "    def forward(self, x):\n",
    "        h0 = torch.zeros(self.num_layers, x.size(1), self.hidden_size).to(x.device) # initial hiddens\n",
    "        c0 = torch.zeros(self.num_layers, x.size(1), self.hidden_size).to(x.device) # initial cell states\n",
    "        \n",
    "        # Forward propagate LSTM\n",
    "        out, _ = self.lstm(x, (h0, c0))  # Output shape: (batch_size, seq_length, hidden_size)\n",
    "        \n",
    "        # Decode the hidden state of the last time step\n",
    "        out = self.fc(out)\n",
    "        # output = self.sigmoid(out)  # Sigmoid for binary classification\n",
    "        output = F.softmax(out, dim=1)  # Softmax for multi-class classification\n",
    "\n",
    "        return output\n"
   ]
  },
  {
   "cell_type": "markdown",
   "metadata": {},
   "source": [
    "**Testing Different features**"
   ]
  },
  {
   "cell_type": "code",
   "execution_count": 6,
   "metadata": {},
   "outputs": [
    {
     "data": {
      "application/vnd.jupyter.widget-view+json": {
       "model_id": "9da66e3762494fa89ee88f93ee9cc703",
       "version_major": 2,
       "version_minor": 0
      },
      "text/plain": [
       "  0%|          | 0/50 [00:00<?, ?it/s]"
      ]
     },
     "metadata": {},
     "output_type": "display_data"
    },
    {
     "name": "stdout",
     "output_type": "stream",
     "text": [
      "Epoch [1/50], Train Loss: 0.6932, Train Acc: 0.5357, Valid Loss: 0.6931, Valid Acc: 0.4800\n",
      "Epoch [2/50], Train Loss: 0.6931, Train Acc: 0.6486, Valid Loss: 0.6931, Valid Acc: 0.4800\n",
      "Epoch [3/50], Train Loss: 0.6931, Train Acc: 0.6986, Valid Loss: 0.6931, Valid Acc: 0.4700\n",
      "Epoch [4/50], Train Loss: 0.6931, Train Acc: 0.5371, Valid Loss: 0.6931, Valid Acc: 0.4800\n",
      "Epoch [5/50], Train Loss: 0.6931, Train Acc: 0.5971, Valid Loss: 0.6931, Valid Acc: 0.5500\n",
      "Epoch [6/50], Train Loss: 0.6931, Train Acc: 0.6100, Valid Loss: 0.6931, Valid Acc: 0.5200\n",
      "Epoch [7/50], Train Loss: 0.6931, Train Acc: 0.5886, Valid Loss: 0.6931, Valid Acc: 0.5300\n",
      "Epoch [8/50], Train Loss: 0.6931, Train Acc: 0.5500, Valid Loss: 0.6931, Valid Acc: 0.5300\n",
      "Epoch [9/50], Train Loss: 0.6931, Train Acc: 0.5200, Valid Loss: 0.6931, Valid Acc: 0.4500\n",
      "Epoch [10/50], Train Loss: 0.6931, Train Acc: 0.5286, Valid Loss: 0.6931, Valid Acc: 0.5300\n",
      "Epoch [11/50], Train Loss: 0.6931, Train Acc: 0.5343, Valid Loss: 0.6931, Valid Acc: 0.4800\n",
      "Epoch [12/50], Train Loss: 0.6931, Train Acc: 0.5629, Valid Loss: 0.6931, Valid Acc: 0.4500\n",
      "Epoch [13/50], Train Loss: 0.6931, Train Acc: 0.5414, Valid Loss: 0.6931, Valid Acc: 0.5300\n",
      "Epoch [14/50], Train Loss: 0.6931, Train Acc: 0.5271, Valid Loss: 0.6931, Valid Acc: 0.4900\n",
      "Epoch [15/50], Train Loss: 0.6931, Train Acc: 0.5886, Valid Loss: 0.6931, Valid Acc: 0.5600\n",
      "Epoch [16/50], Train Loss: 0.6931, Train Acc: 0.5414, Valid Loss: 0.6931, Valid Acc: 0.4700\n",
      "Epoch [17/50], Train Loss: 0.6931, Train Acc: 0.5000, Valid Loss: 0.6931, Valid Acc: 0.4800\n",
      "Epoch [18/50], Train Loss: 0.6931, Train Acc: 0.5386, Valid Loss: 0.6931, Valid Acc: 0.5200\n",
      "Epoch [19/50], Train Loss: 0.6931, Train Acc: 0.5300, Valid Loss: 0.6931, Valid Acc: 0.5000\n",
      "Epoch [20/50], Train Loss: 0.6931, Train Acc: 0.5657, Valid Loss: 0.6931, Valid Acc: 0.5300\n",
      "Epoch [21/50], Train Loss: 0.6931, Train Acc: 0.5329, Valid Loss: 0.6931, Valid Acc: 0.4500\n",
      "Epoch [22/50], Train Loss: 0.6931, Train Acc: 0.5271, Valid Loss: 0.6931, Valid Acc: 0.5200\n",
      "Epoch [23/50], Train Loss: 0.6931, Train Acc: 0.5700, Valid Loss: 0.6931, Valid Acc: 0.5300\n",
      "Epoch [24/50], Train Loss: 0.6931, Train Acc: 0.5443, Valid Loss: 0.6931, Valid Acc: 0.4500\n",
      "Epoch [25/50], Train Loss: 0.6931, Train Acc: 0.5343, Valid Loss: 0.6931, Valid Acc: 0.5600\n",
      "Epoch [26/50], Train Loss: 0.6931, Train Acc: 0.5157, Valid Loss: 0.6931, Valid Acc: 0.4700\n",
      "Epoch [27/50], Train Loss: 0.6931, Train Acc: 0.5057, Valid Loss: 0.6931, Valid Acc: 0.4800\n",
      "Epoch [28/50], Train Loss: 0.6931, Train Acc: 0.5471, Valid Loss: 0.6931, Valid Acc: 0.5300\n",
      "Epoch [29/50], Train Loss: 0.6931, Train Acc: 0.5271, Valid Loss: 0.6931, Valid Acc: 0.4800\n",
      "Epoch [30/50], Train Loss: 0.6931, Train Acc: 0.5071, Valid Loss: 0.6931, Valid Acc: 0.4600\n",
      "Epoch [31/50], Train Loss: 0.6931, Train Acc: 0.5371, Valid Loss: 0.6931, Valid Acc: 0.4700\n",
      "Epoch [32/50], Train Loss: 0.6931, Train Acc: 0.5114, Valid Loss: 0.6931, Valid Acc: 0.4900\n",
      "Epoch [33/50], Train Loss: 0.6931, Train Acc: 0.5429, Valid Loss: 0.6931, Valid Acc: 0.4500\n",
      "Epoch [34/50], Train Loss: 0.6931, Train Acc: 0.5100, Valid Loss: 0.6931, Valid Acc: 0.5600\n",
      "Epoch [35/50], Train Loss: 0.6931, Train Acc: 0.5214, Valid Loss: 0.6931, Valid Acc: 0.4800\n",
      "Epoch [36/50], Train Loss: 0.6931, Train Acc: 0.5371, Valid Loss: 0.6931, Valid Acc: 0.5000\n",
      "Epoch [37/50], Train Loss: 0.6931, Train Acc: 0.5343, Valid Loss: 0.6931, Valid Acc: 0.5200\n",
      "Epoch [38/50], Train Loss: 0.6931, Train Acc: 0.5629, Valid Loss: 0.6931, Valid Acc: 0.4400\n",
      "Epoch [39/50], Train Loss: 0.6931, Train Acc: 0.5371, Valid Loss: 0.6931, Valid Acc: 0.4600\n",
      "Epoch [40/50], Train Loss: 0.6931, Train Acc: 0.5129, Valid Loss: 0.6931, Valid Acc: 0.4800\n",
      "Epoch [41/50], Train Loss: 0.6931, Train Acc: 0.5157, Valid Loss: 0.6931, Valid Acc: 0.5300\n",
      "Epoch [42/50], Train Loss: 0.6931, Train Acc: 0.5514, Valid Loss: 0.6931, Valid Acc: 0.5100\n",
      "Epoch [43/50], Train Loss: 0.6931, Train Acc: 0.5286, Valid Loss: 0.6931, Valid Acc: 0.4400\n",
      "Epoch [44/50], Train Loss: 0.6931, Train Acc: 0.5400, Valid Loss: 0.6931, Valid Acc: 0.4900\n",
      "Epoch [45/50], Train Loss: 0.6931, Train Acc: 0.5343, Valid Loss: 0.6931, Valid Acc: 0.5100\n",
      "Epoch [46/50], Train Loss: 0.6931, Train Acc: 0.5200, Valid Loss: 0.6931, Valid Acc: 0.4900\n",
      "Epoch [47/50], Train Loss: 0.6931, Train Acc: 0.5357, Valid Loss: 0.6931, Valid Acc: 0.5900\n",
      "Epoch [48/50], Train Loss: 0.6931, Train Acc: 0.5443, Valid Loss: 0.6931, Valid Acc: 0.5800\n",
      "Epoch [49/50], Train Loss: 0.6931, Train Acc: 0.5286, Valid Loss: 0.6931, Valid Acc: 0.4200\n",
      "Epoch [50/50], Train Loss: 0.6931, Train Acc: 0.5157, Valid Loss: 0.6931, Valid Acc: 0.4400\n"
     ]
    },
    {
     "data": {
      "image/png": "[encoded data removed]",
      "text/plain": [
       "<Figure size 1000x300 with 3 Axes>"
      ]
     },
     "metadata": {},
     "output_type": "display_data"
    },
    {
     "data": {
      "application/vnd.jupyter.widget-view+json": {
       "model_id": "86425c37495647a28dfc5031313beb7f",
       "version_major": 2,
       "version_minor": 0
      },
      "text/plain": [
       "  0%|          | 0/50 [00:00<?, ?it/s]"
      ]
     },
     "metadata": {},
     "output_type": "display_data"
    },
    {
     "name": "stdout",
     "output_type": "stream",
     "text": [
      "Epoch [1/50], Train Loss: 0.6928, Train Acc: 0.6814, Valid Loss: 0.6921, Valid Acc: 0.7000\n",
      "Epoch [2/50], Train Loss: 0.6893, Train Acc: 0.7529, Valid Loss: 0.6834, Valid Acc: 0.7200\n",
      "Epoch [3/50], Train Loss: 0.6763, Train Acc: 0.7386, Valid Loss: 0.6682, Valid Acc: 0.7500\n",
      "Epoch [4/50], Train Loss: 0.6569, Train Acc: 0.7843, Valid Loss: 0.6443, Valid Acc: 0.7900\n",
      "Epoch [5/50], Train Loss: 0.6465, Train Acc: 0.8014, Valid Loss: 0.6372, Valid Acc: 0.8300\n",
      "Epoch [6/50], Train Loss: 0.6411, Train Acc: 0.8443, Valid Loss: 0.6333, Valid Acc: 0.8800\n",
      "Epoch [7/50], Train Loss: 0.6395, Train Acc: 0.8386, Valid Loss: 0.6398, Valid Acc: 0.8600\n",
      "Epoch [8/50], Train Loss: 0.6374, Train Acc: 0.8486, Valid Loss: 0.6362, Valid Acc: 0.8500\n",
      "Epoch [9/50], Train Loss: 0.6377, Train Acc: 0.8429, Valid Loss: 0.6351, Valid Acc: 0.8800\n",
      "Epoch [10/50], Train Loss: 0.6366, Train Acc: 0.8557, Valid Loss: 0.6312, Valid Acc: 0.9000\n",
      "Epoch [11/50], Train Loss: 0.6365, Train Acc: 0.8643, Valid Loss: 0.6310, Valid Acc: 0.9300\n",
      "Epoch [12/50], Train Loss: 0.6361, Train Acc: 0.8757, Valid Loss: 0.6306, Valid Acc: 0.9100\n",
      "Epoch [13/50], Train Loss: 0.6357, Train Acc: 0.8971, Valid Loss: 0.6298, Valid Acc: 0.9000\n",
      "Epoch [14/50], Train Loss: 0.6356, Train Acc: 0.8814, Valid Loss: 0.6311, Valid Acc: 0.9400\n",
      "Epoch [15/50], Train Loss: 0.6349, Train Acc: 0.8929, Valid Loss: 0.6298, Valid Acc: 0.8900\n",
      "Epoch [16/50], Train Loss: 0.6360, Train Acc: 0.8800, Valid Loss: 0.6303, Valid Acc: 0.9300\n",
      "Epoch [17/50], Train Loss: 0.6361, Train Acc: 0.8986, Valid Loss: 0.6305, Valid Acc: 0.9200\n",
      "Epoch [18/50], Train Loss: 0.6352, Train Acc: 0.8929, Valid Loss: 0.6305, Valid Acc: 0.9000\n",
      "Epoch [19/50], Train Loss: 0.6344, Train Acc: 0.9071, Valid Loss: 0.6327, Valid Acc: 0.9200\n",
      "Epoch [20/50], Train Loss: 0.6342, Train Acc: 0.9071, Valid Loss: 0.6297, Valid Acc: 0.8900\n",
      "Epoch [21/50], Train Loss: 0.6347, Train Acc: 0.9086, Valid Loss: 0.6309, Valid Acc: 0.9300\n",
      "Epoch [22/50], Train Loss: 0.6341, Train Acc: 0.9057, Valid Loss: 0.6329, Valid Acc: 0.9000\n",
      "Epoch [23/50], Train Loss: 0.6359, Train Acc: 0.8943, Valid Loss: 0.6306, Valid Acc: 0.9300\n",
      "Epoch [24/50], Train Loss: 0.6343, Train Acc: 0.9171, Valid Loss: 0.6295, Valid Acc: 0.9100\n",
      "Epoch [25/50], Train Loss: 0.6344, Train Acc: 0.9029, Valid Loss: 0.6300, Valid Acc: 0.9400\n",
      "Epoch [26/50], Train Loss: 0.6345, Train Acc: 0.8886, Valid Loss: 0.6296, Valid Acc: 0.9300\n",
      "Epoch [27/50], Train Loss: 0.6344, Train Acc: 0.9086, Valid Loss: 0.6294, Valid Acc: 0.9300\n",
      "Epoch [28/50], Train Loss: 0.6341, Train Acc: 0.9114, Valid Loss: 0.6293, Valid Acc: 0.9400\n",
      "Epoch [29/50], Train Loss: 0.6344, Train Acc: 0.9157, Valid Loss: 0.6292, Valid Acc: 0.9300\n",
      "Epoch [30/50], Train Loss: 0.6342, Train Acc: 0.9157, Valid Loss: 0.6294, Valid Acc: 0.9300\n",
      "Epoch [31/50], Train Loss: 0.6337, Train Acc: 0.9114, Valid Loss: 0.6292, Valid Acc: 0.9200\n",
      "Epoch [32/50], Train Loss: 0.6340, Train Acc: 0.9086, Valid Loss: 0.6294, Valid Acc: 0.9400\n",
      "Epoch [33/50], Train Loss: 0.6345, Train Acc: 0.9086, Valid Loss: 0.6303, Valid Acc: 0.9400\n",
      "Epoch [34/50], Train Loss: 0.6342, Train Acc: 0.9100, Valid Loss: 0.6301, Valid Acc: 0.9500\n",
      "Epoch [35/50], Train Loss: 0.6337, Train Acc: 0.9271, Valid Loss: 0.6308, Valid Acc: 0.9000\n",
      "Epoch [36/50], Train Loss: 0.6339, Train Acc: 0.8929, Valid Loss: 0.6297, Valid Acc: 0.9000\n",
      "Epoch [37/50], Train Loss: 0.6343, Train Acc: 0.9057, Valid Loss: 0.6300, Valid Acc: 0.9200\n",
      "Epoch [38/50], Train Loss: 0.6337, Train Acc: 0.9229, Valid Loss: 0.6297, Valid Acc: 0.9300\n",
      "Epoch [39/50], Train Loss: 0.6341, Train Acc: 0.9029, Valid Loss: 0.6292, Valid Acc: 0.9200\n",
      "Epoch [40/50], Train Loss: 0.6339, Train Acc: 0.9129, Valid Loss: 0.6314, Valid Acc: 0.9100\n",
      "Epoch [41/50], Train Loss: 0.6335, Train Acc: 0.9343, Valid Loss: 0.6301, Valid Acc: 0.9400\n",
      "Epoch [42/50], Train Loss: 0.6345, Train Acc: 0.9029, Valid Loss: 0.6297, Valid Acc: 0.9300\n",
      "Epoch [43/50], Train Loss: 0.6337, Train Acc: 0.9086, Valid Loss: 0.6296, Valid Acc: 0.9100\n",
      "Epoch [44/50], Train Loss: 0.6340, Train Acc: 0.9000, Valid Loss: 0.6297, Valid Acc: 0.9600\n",
      "Epoch [45/50], Train Loss: 0.6342, Train Acc: 0.9057, Valid Loss: 0.6299, Valid Acc: 0.9200\n",
      "Epoch [46/50], Train Loss: 0.6335, Train Acc: 0.9143, Valid Loss: 0.6303, Valid Acc: 0.9200\n",
      "Epoch [47/50], Train Loss: 0.6338, Train Acc: 0.9086, Valid Loss: 0.6302, Valid Acc: 0.9400\n",
      "Epoch [48/50], Train Loss: 0.6342, Train Acc: 0.9029, Valid Loss: 0.6293, Valid Acc: 0.9500\n",
      "Epoch [49/50], Train Loss: 0.6339, Train Acc: 0.9129, Valid Loss: 0.6300, Valid Acc: 0.9100\n",
      "Epoch [50/50], Train Loss: 0.6338, Train Acc: 0.9129, Valid Loss: 0.6301, Valid Acc: 0.9300\n"
     ]
    },
    {
     "data": {
      "image/png": "[encoded data removed]",
      "text/plain": [
       "<Figure size 1000x300 with 3 Axes>"
      ]
     },
     "metadata": {},
     "output_type": "display_data"
    },
    {
     "data": {
      "application/vnd.jupyter.widget-view+json": {
       "model_id": "7eeeced5f48b42eb84b9bc998a884140",
       "version_major": 2,
       "version_minor": 0
      },
      "text/plain": [
       "  0%|          | 0/50 [00:00<?, ?it/s]"
      ]
     },
     "metadata": {},
     "output_type": "display_data"
    },
    {
     "name": "stdout",
     "output_type": "stream",
     "text": [
      "Epoch [1/50], Train Loss: 0.6923, Train Acc: 0.6143, Valid Loss: 0.6915, Valid Acc: 0.6100\n",
      "Epoch [2/50], Train Loss: 0.6877, Train Acc: 0.6357, Valid Loss: 0.6834, Valid Acc: 0.6800\n",
      "Epoch [3/50], Train Loss: 0.6800, Train Acc: 0.6514, Valid Loss: 0.6706, Valid Acc: 0.6800\n",
      "Epoch [4/50], Train Loss: 0.6740, Train Acc: 0.6443, Valid Loss: 0.6778, Valid Acc: 0.6700\n",
      "Epoch [5/50], Train Loss: 0.6737, Train Acc: 0.6286, Valid Loss: 0.6845, Valid Acc: 0.6300\n",
      "Epoch [6/50], Train Loss: 0.6738, Train Acc: 0.6214, Valid Loss: 0.6878, Valid Acc: 0.6300\n",
      "Epoch [7/50], Train Loss: 0.6686, Train Acc: 0.6429, Valid Loss: 0.6779, Valid Acc: 0.6600\n",
      "Epoch [8/50], Train Loss: 0.6721, Train Acc: 0.6314, Valid Loss: 0.6661, Valid Acc: 0.6500\n",
      "Epoch [9/50], Train Loss: 0.6698, Train Acc: 0.6271, Valid Loss: 0.6671, Valid Acc: 0.6600\n",
      "Epoch [10/50], Train Loss: 0.6728, Train Acc: 0.6286, Valid Loss: 0.6744, Valid Acc: 0.6400\n",
      "Epoch [11/50], Train Loss: 0.6691, Train Acc: 0.6414, Valid Loss: 0.6753, Valid Acc: 0.6500\n",
      "Epoch [12/50], Train Loss: 0.6703, Train Acc: 0.6300, Valid Loss: 0.6750, Valid Acc: 0.6600\n",
      "Epoch [13/50], Train Loss: 0.6697, Train Acc: 0.6600, Valid Loss: 0.6820, Valid Acc: 0.6200\n",
      "Epoch [14/50], Train Loss: 0.6665, Train Acc: 0.6143, Valid Loss: 0.6743, Valid Acc: 0.6600\n",
      "Epoch [15/50], Train Loss: 0.6681, Train Acc: 0.6200, Valid Loss: 0.6674, Valid Acc: 0.6400\n",
      "Epoch [16/50], Train Loss: 0.6640, Train Acc: 0.6014, Valid Loss: 0.6676, Valid Acc: 0.6100\n",
      "Epoch [17/50], Train Loss: 0.6696, Train Acc: 0.6271, Valid Loss: 0.6850, Valid Acc: 0.6500\n",
      "Epoch [18/50], Train Loss: 0.6674, Train Acc: 0.6643, Valid Loss: 0.6835, Valid Acc: 0.6100\n",
      "Epoch [19/50], Train Loss: 0.6686, Train Acc: 0.6314, Valid Loss: 0.6734, Valid Acc: 0.6800\n",
      "Epoch [20/50], Train Loss: 0.6683, Train Acc: 0.6257, Valid Loss: 0.6732, Valid Acc: 0.6600\n",
      "Epoch [21/50], Train Loss: 0.6616, Train Acc: 0.6343, Valid Loss: 0.6743, Valid Acc: 0.6900\n",
      "Epoch [22/50], Train Loss: 0.6722, Train Acc: 0.6457, Valid Loss: 0.6759, Valid Acc: 0.6300\n",
      "Epoch [23/50], Train Loss: 0.6723, Train Acc: 0.6414, Valid Loss: 0.6828, Valid Acc: 0.6600\n",
      "Epoch [24/50], Train Loss: 0.6687, Train Acc: 0.6271, Valid Loss: 0.6843, Valid Acc: 0.7000\n",
      "Epoch [25/50], Train Loss: 0.6634, Train Acc: 0.6357, Valid Loss: 0.6701, Valid Acc: 0.6100\n",
      "Epoch [26/50], Train Loss: 0.6648, Train Acc: 0.6700, Valid Loss: 0.6744, Valid Acc: 0.6200\n",
      "Epoch [27/50], Train Loss: 0.6695, Train Acc: 0.6429, Valid Loss: 0.6810, Valid Acc: 0.6500\n",
      "Epoch [28/50], Train Loss: 0.6698, Train Acc: 0.6186, Valid Loss: 0.6740, Valid Acc: 0.6400\n",
      "Epoch [29/50], Train Loss: 0.6643, Train Acc: 0.6143, Valid Loss: 0.6930, Valid Acc: 0.6200\n",
      "Epoch [30/50], Train Loss: 0.6666, Train Acc: 0.6371, Valid Loss: 0.6967, Valid Acc: 0.6100\n",
      "Epoch [31/50], Train Loss: 0.6688, Train Acc: 0.6057, Valid Loss: 0.6898, Valid Acc: 0.6600\n",
      "Epoch [32/50], Train Loss: 0.6657, Train Acc: 0.6314, Valid Loss: 0.6965, Valid Acc: 0.6300\n",
      "Epoch [33/50], Train Loss: 0.6712, Train Acc: 0.6500, Valid Loss: 0.6752, Valid Acc: 0.6900\n",
      "Epoch [34/50], Train Loss: 0.6663, Train Acc: 0.6271, Valid Loss: 0.6873, Valid Acc: 0.6800\n",
      "Epoch [35/50], Train Loss: 0.6677, Train Acc: 0.6257, Valid Loss: 0.6838, Valid Acc: 0.6600\n",
      "Epoch [36/50], Train Loss: 0.6658, Train Acc: 0.6243, Valid Loss: 0.6872, Valid Acc: 0.6500\n",
      "Epoch [37/50], Train Loss: 0.6642, Train Acc: 0.6357, Valid Loss: 0.6762, Valid Acc: 0.6400\n",
      "Epoch [38/50], Train Loss: 0.6658, Train Acc: 0.6271, Valid Loss: 0.6796, Valid Acc: 0.6300\n",
      "Epoch [39/50], Train Loss: 0.6653, Train Acc: 0.6386, Valid Loss: 0.6777, Valid Acc: 0.6800\n",
      "Epoch [40/50], Train Loss: 0.6674, Train Acc: 0.6186, Valid Loss: 0.6695, Valid Acc: 0.6600\n",
      "Epoch [41/50], Train Loss: 0.6656, Train Acc: 0.6286, Valid Loss: 0.6678, Valid Acc: 0.6600\n",
      "Epoch [42/50], Train Loss: 0.6661, Train Acc: 0.6400, Valid Loss: 0.6946, Valid Acc: 0.6200\n",
      "Epoch [43/50], Train Loss: 0.6649, Train Acc: 0.6571, Valid Loss: 0.6846, Valid Acc: 0.6100\n",
      "Epoch [44/50], Train Loss: 0.6643, Train Acc: 0.6457, Valid Loss: 0.6751, Valid Acc: 0.7200\n",
      "Epoch [45/50], Train Loss: 0.6676, Train Acc: 0.6257, Valid Loss: 0.6919, Valid Acc: 0.6700\n",
      "Epoch [46/50], Train Loss: 0.6648, Train Acc: 0.6300, Valid Loss: 0.6913, Valid Acc: 0.6700\n",
      "Epoch [47/50], Train Loss: 0.6670, Train Acc: 0.6286, Valid Loss: 0.6835, Valid Acc: 0.6400\n",
      "Epoch [48/50], Train Loss: 0.6671, Train Acc: 0.6329, Valid Loss: 0.6581, Valid Acc: 0.5900\n",
      "Epoch [49/50], Train Loss: 0.6675, Train Acc: 0.6186, Valid Loss: 0.6735, Valid Acc: 0.6600\n",
      "Epoch [50/50], Train Loss: 0.6632, Train Acc: 0.6229, Valid Loss: 0.6818, Valid Acc: 0.6100\n"
     ]
    },
    {
     "data": {
      "image/png": "[encoded data removed]",
      "text/plain": [
       "<Figure size 1000x300 with 3 Axes>"
      ]
     },
     "metadata": {},
     "output_type": "display_data"
    },
    {
     "data": {
      "application/vnd.jupyter.widget-view+json": {
       "model_id": "de17247666ea4ac1bff5df3273466aa9",
       "version_major": 2,
       "version_minor": 0
      },
      "text/plain": [
       "  0%|          | 0/50 [00:00<?, ?it/s]"
      ]
     },
     "metadata": {},
     "output_type": "display_data"
    },
    {
     "name": "stdout",
     "output_type": "stream",
     "text": [
      "Epoch [1/50], Train Loss: 0.6928, Train Acc: 0.6600, Valid Loss: 0.6923, Valid Acc: 0.7300\n",
      "Epoch [2/50], Train Loss: 0.6905, Train Acc: 0.6600, Valid Loss: 0.6878, Valid Acc: 0.6800\n",
      "Epoch [3/50], Train Loss: 0.6842, Train Acc: 0.6600, Valid Loss: 0.6778, Valid Acc: 0.7100\n",
      "Epoch [4/50], Train Loss: 0.6766, Train Acc: 0.6443, Valid Loss: 0.6692, Valid Acc: 0.7500\n",
      "Epoch [5/50], Train Loss: 0.6698, Train Acc: 0.6743, Valid Loss: 0.6752, Valid Acc: 0.7200\n",
      "Epoch [6/50], Train Loss: 0.6671, Train Acc: 0.6771, Valid Loss: 0.6709, Valid Acc: 0.7400\n",
      "Epoch [7/50], Train Loss: 0.6652, Train Acc: 0.6957, Valid Loss: 0.6710, Valid Acc: 0.7100\n",
      "Epoch [8/50], Train Loss: 0.6646, Train Acc: 0.6771, Valid Loss: 0.6699, Valid Acc: 0.7400\n",
      "Epoch [9/50], Train Loss: 0.6594, Train Acc: 0.6900, Valid Loss: 0.6586, Valid Acc: 0.7300\n",
      "Epoch [10/50], Train Loss: 0.6596, Train Acc: 0.6971, Valid Loss: 0.6583, Valid Acc: 0.7400\n",
      "Epoch [11/50], Train Loss: 0.6587, Train Acc: 0.6986, Valid Loss: 0.6610, Valid Acc: 0.7500\n",
      "Epoch [12/50], Train Loss: 0.6560, Train Acc: 0.7043, Valid Loss: 0.6608, Valid Acc: 0.7100\n",
      "Epoch [13/50], Train Loss: 0.6552, Train Acc: 0.7143, Valid Loss: 0.6601, Valid Acc: 0.7700\n",
      "Epoch [14/50], Train Loss: 0.6544, Train Acc: 0.7086, Valid Loss: 0.6614, Valid Acc: 0.7500\n",
      "Epoch [15/50], Train Loss: 0.6513, Train Acc: 0.7129, Valid Loss: 0.6591, Valid Acc: 0.7500\n",
      "Epoch [16/50], Train Loss: 0.6513, Train Acc: 0.7143, Valid Loss: 0.6697, Valid Acc: 0.7100\n",
      "Epoch [17/50], Train Loss: 0.6501, Train Acc: 0.6986, Valid Loss: 0.6596, Valid Acc: 0.7100\n",
      "Epoch [18/50], Train Loss: 0.6503, Train Acc: 0.7129, Valid Loss: 0.6581, Valid Acc: 0.7400\n",
      "Epoch [19/50], Train Loss: 0.6520, Train Acc: 0.7029, Valid Loss: 0.6473, Valid Acc: 0.7500\n",
      "Epoch [20/50], Train Loss: 0.6540, Train Acc: 0.6957, Valid Loss: 0.6522, Valid Acc: 0.7100\n",
      "Epoch [21/50], Train Loss: 0.6480, Train Acc: 0.7157, Valid Loss: 0.6581, Valid Acc: 0.7400\n",
      "Epoch [22/50], Train Loss: 0.6495, Train Acc: 0.7171, Valid Loss: 0.6497, Valid Acc: 0.7500\n",
      "Epoch [23/50], Train Loss: 0.6517, Train Acc: 0.6986, Valid Loss: 0.6491, Valid Acc: 0.7600\n",
      "Epoch [24/50], Train Loss: 0.6468, Train Acc: 0.7343, Valid Loss: 0.6494, Valid Acc: 0.7300\n",
      "Epoch [25/50], Train Loss: 0.6493, Train Acc: 0.7143, Valid Loss: 0.6513, Valid Acc: 0.7300\n",
      "Epoch [26/50], Train Loss: 0.6480, Train Acc: 0.7129, Valid Loss: 0.6583, Valid Acc: 0.7700\n",
      "Epoch [27/50], Train Loss: 0.6482, Train Acc: 0.7071, Valid Loss: 0.6658, Valid Acc: 0.7400\n",
      "Epoch [28/50], Train Loss: 0.6482, Train Acc: 0.7200, Valid Loss: 0.6456, Valid Acc: 0.7600\n",
      "Epoch [29/50], Train Loss: 0.6473, Train Acc: 0.7129, Valid Loss: 0.6482, Valid Acc: 0.7300\n",
      "Epoch [30/50], Train Loss: 0.6468, Train Acc: 0.7214, Valid Loss: 0.6512, Valid Acc: 0.7300\n",
      "Epoch [31/50], Train Loss: 0.6527, Train Acc: 0.7114, Valid Loss: 0.6533, Valid Acc: 0.7600\n",
      "Epoch [32/50], Train Loss: 0.6446, Train Acc: 0.7314, Valid Loss: 0.6527, Valid Acc: 0.7800\n",
      "Epoch [33/50], Train Loss: 0.6463, Train Acc: 0.7086, Valid Loss: 0.6553, Valid Acc: 0.7400\n",
      "Epoch [34/50], Train Loss: 0.6488, Train Acc: 0.7229, Valid Loss: 0.6557, Valid Acc: 0.8000\n",
      "Epoch [35/50], Train Loss: 0.6496, Train Acc: 0.7171, Valid Loss: 0.6545, Valid Acc: 0.7500\n",
      "Epoch [36/50], Train Loss: 0.6474, Train Acc: 0.7243, Valid Loss: 0.6486, Valid Acc: 0.7600\n",
      "Epoch [37/50], Train Loss: 0.6477, Train Acc: 0.7129, Valid Loss: 0.6502, Valid Acc: 0.7400\n",
      "Epoch [38/50], Train Loss: 0.6463, Train Acc: 0.7000, Valid Loss: 0.6504, Valid Acc: 0.7200\n",
      "Epoch [39/50], Train Loss: 0.6476, Train Acc: 0.7043, Valid Loss: 0.6543, Valid Acc: 0.7800\n",
      "Epoch [40/50], Train Loss: 0.6461, Train Acc: 0.7157, Valid Loss: 0.6465, Valid Acc: 0.7600\n",
      "Epoch [41/50], Train Loss: 0.6462, Train Acc: 0.7143, Valid Loss: 0.6498, Valid Acc: 0.7400\n",
      "Epoch [42/50], Train Loss: 0.6482, Train Acc: 0.7157, Valid Loss: 0.6645, Valid Acc: 0.7600\n",
      "Epoch [43/50], Train Loss: 0.6498, Train Acc: 0.7200, Valid Loss: 0.6507, Valid Acc: 0.7200\n",
      "Epoch [44/50], Train Loss: 0.6470, Train Acc: 0.7143, Valid Loss: 0.6461, Valid Acc: 0.7700\n",
      "Epoch [45/50], Train Loss: 0.6444, Train Acc: 0.7229, Valid Loss: 0.6583, Valid Acc: 0.7800\n",
      "Epoch [46/50], Train Loss: 0.6446, Train Acc: 0.7257, Valid Loss: 0.6596, Valid Acc: 0.7300\n",
      "Epoch [47/50], Train Loss: 0.6471, Train Acc: 0.7200, Valid Loss: 0.6533, Valid Acc: 0.7300\n",
      "Epoch [48/50], Train Loss: 0.6452, Train Acc: 0.7043, Valid Loss: 0.6505, Valid Acc: 0.7500\n",
      "Epoch [49/50], Train Loss: 0.6455, Train Acc: 0.7229, Valid Loss: 0.6480, Valid Acc: 0.7800\n",
      "Epoch [50/50], Train Loss: 0.6465, Train Acc: 0.7257, Valid Loss: 0.6487, Valid Acc: 0.7700\n"
     ]
    },
    {
     "data": {
      "image/png": "[encoded data removed]",
      "text/plain": [
       "<Figure size 1000x300 with 3 Axes>"
      ]
     },
     "metadata": {},
     "output_type": "display_data"
    },
    {
     "data": {
      "application/vnd.jupyter.widget-view+json": {
       "model_id": "178122374681479d8c22dcddbc128f9f",
       "version_major": 2,
       "version_minor": 0
      },
      "text/plain": [
       "  0%|          | 0/50 [00:00<?, ?it/s]"
      ]
     },
     "metadata": {},
     "output_type": "display_data"
    },
    {
     "name": "stdout",
     "output_type": "stream",
     "text": [
      "Epoch [1/50], Train Loss: 0.6933, Train Acc: 0.4843, Valid Loss: 0.6946, Valid Acc: 0.4700\n",
      "Epoch [2/50], Train Loss: 0.6900, Train Acc: 0.5886, Valid Loss: 0.6938, Valid Acc: 0.4500\n",
      "Epoch [3/50], Train Loss: 0.6871, Train Acc: 0.6243, Valid Loss: 0.6935, Valid Acc: 0.5000\n",
      "Epoch [4/50], Train Loss: 0.6838, Train Acc: 0.6657, Valid Loss: 0.6943, Valid Acc: 0.4800\n",
      "Epoch [5/50], Train Loss: 0.6801, Train Acc: 0.6786, Valid Loss: 0.6941, Valid Acc: 0.5200\n",
      "Epoch [6/50], Train Loss: 0.6778, Train Acc: 0.7071, Valid Loss: 0.6940, Valid Acc: 0.5100\n",
      "Epoch [7/50], Train Loss: 0.6749, Train Acc: 0.7186, Valid Loss: 0.6935, Valid Acc: 0.5400\n",
      "Epoch [8/50], Train Loss: 0.6712, Train Acc: 0.7257, Valid Loss: 0.6933, Valid Acc: 0.4800\n",
      "Epoch [9/50], Train Loss: 0.6680, Train Acc: 0.7271, Valid Loss: 0.6923, Valid Acc: 0.5100\n",
      "Epoch [10/50], Train Loss: 0.6661, Train Acc: 0.7357, Valid Loss: 0.6981, Valid Acc: 0.5000\n",
      "Epoch [11/50], Train Loss: 0.6641, Train Acc: 0.7371, Valid Loss: 0.6947, Valid Acc: 0.4800\n",
      "Epoch [12/50], Train Loss: 0.6618, Train Acc: 0.7414, Valid Loss: 0.6961, Valid Acc: 0.5000\n",
      "Epoch [13/50], Train Loss: 0.6594, Train Acc: 0.7500, Valid Loss: 0.6975, Valid Acc: 0.4800\n",
      "Epoch [14/50], Train Loss: 0.6599, Train Acc: 0.7314, Valid Loss: 0.6947, Valid Acc: 0.4900\n",
      "Epoch [15/50], Train Loss: 0.6559, Train Acc: 0.7486, Valid Loss: 0.6925, Valid Acc: 0.4900\n",
      "Epoch [16/50], Train Loss: 0.6541, Train Acc: 0.7600, Valid Loss: 0.6985, Valid Acc: 0.5000\n",
      "Epoch [17/50], Train Loss: 0.6537, Train Acc: 0.7600, Valid Loss: 0.6968, Valid Acc: 0.4800\n",
      "Epoch [18/50], Train Loss: 0.6524, Train Acc: 0.7471, Valid Loss: 0.6888, Valid Acc: 0.4600\n",
      "Epoch [19/50], Train Loss: 0.6502, Train Acc: 0.7657, Valid Loss: 0.7016, Valid Acc: 0.4300\n",
      "Epoch [20/50], Train Loss: 0.6510, Train Acc: 0.7529, Valid Loss: 0.6966, Valid Acc: 0.5100\n",
      "Epoch [21/50], Train Loss: 0.6482, Train Acc: 0.7643, Valid Loss: 0.6956, Valid Acc: 0.4800\n",
      "Epoch [22/50], Train Loss: 0.6492, Train Acc: 0.7543, Valid Loss: 0.6985, Valid Acc: 0.5100\n",
      "Epoch [23/50], Train Loss: 0.6477, Train Acc: 0.7500, Valid Loss: 0.6955, Valid Acc: 0.4900\n",
      "Epoch [24/50], Train Loss: 0.6475, Train Acc: 0.7743, Valid Loss: 0.6967, Valid Acc: 0.4900\n",
      "Epoch [25/50], Train Loss: 0.6445, Train Acc: 0.7757, Valid Loss: 0.6964, Valid Acc: 0.5600\n",
      "Epoch [26/50], Train Loss: 0.6458, Train Acc: 0.7629, Valid Loss: 0.6987, Valid Acc: 0.4900\n",
      "Epoch [27/50], Train Loss: 0.6453, Train Acc: 0.7486, Valid Loss: 0.6959, Valid Acc: 0.4800\n",
      "Epoch [28/50], Train Loss: 0.6437, Train Acc: 0.7529, Valid Loss: 0.6979, Valid Acc: 0.5000\n",
      "Epoch [29/50], Train Loss: 0.6430, Train Acc: 0.7686, Valid Loss: 0.6943, Valid Acc: 0.5300\n",
      "Epoch [30/50], Train Loss: 0.6448, Train Acc: 0.7657, Valid Loss: 0.6938, Valid Acc: 0.4800\n",
      "Epoch [31/50], Train Loss: 0.6421, Train Acc: 0.7786, Valid Loss: 0.6966, Valid Acc: 0.5200\n",
      "Epoch [32/50], Train Loss: 0.6417, Train Acc: 0.7829, Valid Loss: 0.7050, Valid Acc: 0.4800\n",
      "Epoch [33/50], Train Loss: 0.6431, Train Acc: 0.7629, Valid Loss: 0.6988, Valid Acc: 0.4700\n",
      "Epoch [34/50], Train Loss: 0.6429, Train Acc: 0.7786, Valid Loss: 0.7037, Valid Acc: 0.4900\n",
      "Epoch [35/50], Train Loss: 0.6419, Train Acc: 0.7771, Valid Loss: 0.7011, Valid Acc: 0.5400\n",
      "Epoch [36/50], Train Loss: 0.6435, Train Acc: 0.7686, Valid Loss: 0.7014, Valid Acc: 0.4900\n",
      "Epoch [37/50], Train Loss: 0.6426, Train Acc: 0.7714, Valid Loss: 0.6987, Valid Acc: 0.4800\n",
      "Epoch [38/50], Train Loss: 0.6417, Train Acc: 0.7857, Valid Loss: 0.6979, Valid Acc: 0.5000\n",
      "Epoch [39/50], Train Loss: 0.6431, Train Acc: 0.7614, Valid Loss: 0.6980, Valid Acc: 0.4900\n",
      "Epoch [40/50], Train Loss: 0.6421, Train Acc: 0.7700, Valid Loss: 0.6991, Valid Acc: 0.5000\n",
      "Epoch [41/50], Train Loss: 0.6418, Train Acc: 0.7800, Valid Loss: 0.6981, Valid Acc: 0.5300\n",
      "Epoch [42/50], Train Loss: 0.6418, Train Acc: 0.7886, Valid Loss: 0.7007, Valid Acc: 0.4700\n",
      "Epoch [43/50], Train Loss: 0.6425, Train Acc: 0.7686, Valid Loss: 0.6923, Valid Acc: 0.5100\n",
      "Epoch [44/50], Train Loss: 0.6420, Train Acc: 0.7557, Valid Loss: 0.6988, Valid Acc: 0.5100\n",
      "Epoch [45/50], Train Loss: 0.6419, Train Acc: 0.7671, Valid Loss: 0.7032, Valid Acc: 0.5100\n",
      "Epoch [46/50], Train Loss: 0.6429, Train Acc: 0.7614, Valid Loss: 0.6968, Valid Acc: 0.4600\n",
      "Epoch [47/50], Train Loss: 0.6416, Train Acc: 0.7814, Valid Loss: 0.6973, Valid Acc: 0.5000\n",
      "Epoch [48/50], Train Loss: 0.6441, Train Acc: 0.7657, Valid Loss: 0.6966, Valid Acc: 0.5100\n",
      "Epoch [49/50], Train Loss: 0.6419, Train Acc: 0.7800, Valid Loss: 0.6962, Valid Acc: 0.4800\n",
      "Epoch [50/50], Train Loss: 0.6412, Train Acc: 0.7771, Valid Loss: 0.6971, Valid Acc: 0.5000\n"
     ]
    },
    {
     "data": {
      "image/png": "[encoded data removed]",
      "text/plain": [
       "<Figure size 1000x300 with 3 Axes>"
      ]
     },
     "metadata": {},
     "output_type": "display_data"
    },
    {
     "data": {
      "application/vnd.jupyter.widget-view+json": {
       "model_id": "5f330dc474b24432b92e1effb1056e52",
       "version_major": 2,
       "version_minor": 0
      },
      "text/plain": [
       "  0%|          | 0/50 [00:00<?, ?it/s]"
      ]
     },
     "metadata": {},
     "output_type": "display_data"
    },
    {
     "name": "stdout",
     "output_type": "stream",
     "text": [
      "Epoch [1/50], Train Loss: 0.6719, Train Acc: 0.7786, Valid Loss: 0.6399, Valid Acc: 0.8600\n",
      "Epoch [2/50], Train Loss: 0.6389, Train Acc: 0.8614, Valid Loss: 0.6293, Valid Acc: 0.8900\n",
      "Epoch [3/50], Train Loss: 0.6340, Train Acc: 0.9100, Valid Loss: 0.6287, Valid Acc: 0.9500\n",
      "Epoch [4/50], Train Loss: 0.6324, Train Acc: 0.9200, Valid Loss: 0.6285, Valid Acc: 0.9300\n",
      "Epoch [5/50], Train Loss: 0.6325, Train Acc: 0.9171, Valid Loss: 0.6277, Valid Acc: 0.9400\n",
      "Epoch [6/50], Train Loss: 0.6324, Train Acc: 0.9071, Valid Loss: 0.6274, Valid Acc: 0.9400\n",
      "Epoch [7/50], Train Loss: 0.6325, Train Acc: 0.9171, Valid Loss: 0.6276, Valid Acc: 0.9400\n",
      "Epoch [8/50], Train Loss: 0.6325, Train Acc: 0.9214, Valid Loss: 0.6320, Valid Acc: 0.9400\n",
      "Epoch [9/50], Train Loss: 0.6317, Train Acc: 0.9200, Valid Loss: 0.6279, Valid Acc: 0.9300\n",
      "Epoch [10/50], Train Loss: 0.6311, Train Acc: 0.9329, Valid Loss: 0.6273, Valid Acc: 0.9400\n",
      "Epoch [11/50], Train Loss: 0.6303, Train Acc: 0.9286, Valid Loss: 0.6268, Valid Acc: 0.9400\n",
      "Epoch [12/50], Train Loss: 0.6304, Train Acc: 0.9400, Valid Loss: 0.6267, Valid Acc: 0.9500\n",
      "Epoch [13/50], Train Loss: 0.6301, Train Acc: 0.9286, Valid Loss: 0.6263, Valid Acc: 0.9400\n",
      "Epoch [14/50], Train Loss: 0.6304, Train Acc: 0.9329, Valid Loss: 0.6262, Valid Acc: 0.9500\n",
      "Epoch [15/50], Train Loss: 0.6303, Train Acc: 0.9329, Valid Loss: 0.6264, Valid Acc: 0.9300\n",
      "Epoch [16/50], Train Loss: 0.6303, Train Acc: 0.9386, Valid Loss: 0.6261, Valid Acc: 0.9600\n",
      "Epoch [17/50], Train Loss: 0.6309, Train Acc: 0.9286, Valid Loss: 0.6284, Valid Acc: 0.9200\n",
      "Epoch [18/50], Train Loss: 0.6309, Train Acc: 0.9186, Valid Loss: 0.6267, Valid Acc: 0.9300\n",
      "Epoch [19/50], Train Loss: 0.6306, Train Acc: 0.9329, Valid Loss: 0.6264, Valid Acc: 0.9500\n",
      "Epoch [20/50], Train Loss: 0.6303, Train Acc: 0.9357, Valid Loss: 0.6264, Valid Acc: 0.9400\n",
      "Epoch [21/50], Train Loss: 0.6301, Train Acc: 0.9314, Valid Loss: 0.6265, Valid Acc: 0.9400\n",
      "Epoch [22/50], Train Loss: 0.6298, Train Acc: 0.9386, Valid Loss: 0.6261, Valid Acc: 0.9300\n",
      "Epoch [23/50], Train Loss: 0.6298, Train Acc: 0.9371, Valid Loss: 0.6268, Valid Acc: 0.9300\n",
      "Epoch [24/50], Train Loss: 0.6299, Train Acc: 0.9357, Valid Loss: 0.6264, Valid Acc: 0.9400\n",
      "Epoch [25/50], Train Loss: 0.6298, Train Acc: 0.9329, Valid Loss: 0.6265, Valid Acc: 0.9400\n",
      "Epoch [26/50], Train Loss: 0.6298, Train Acc: 0.9414, Valid Loss: 0.6260, Valid Acc: 0.9500\n",
      "Epoch [27/50], Train Loss: 0.6295, Train Acc: 0.9357, Valid Loss: 0.6261, Valid Acc: 0.9300\n",
      "Epoch [28/50], Train Loss: 0.6295, Train Acc: 0.9386, Valid Loss: 0.6276, Valid Acc: 0.9400\n",
      "Epoch [29/50], Train Loss: 0.6295, Train Acc: 0.9443, Valid Loss: 0.6257, Valid Acc: 0.9500\n",
      "Epoch [30/50], Train Loss: 0.6294, Train Acc: 0.9429, Valid Loss: 0.6256, Valid Acc: 0.9500\n",
      "Epoch [31/50], Train Loss: 0.6294, Train Acc: 0.9386, Valid Loss: 0.6260, Valid Acc: 0.9400\n",
      "Epoch [32/50], Train Loss: 0.6292, Train Acc: 0.9414, Valid Loss: 0.6258, Valid Acc: 0.9400\n",
      "Epoch [33/50], Train Loss: 0.6293, Train Acc: 0.9457, Valid Loss: 0.6257, Valid Acc: 0.9500\n",
      "Epoch [34/50], Train Loss: 0.6293, Train Acc: 0.9471, Valid Loss: 0.6258, Valid Acc: 0.9500\n",
      "Epoch [35/50], Train Loss: 0.6293, Train Acc: 0.9429, Valid Loss: 0.6262, Valid Acc: 0.9500\n",
      "Epoch [36/50], Train Loss: 0.6293, Train Acc: 0.9514, Valid Loss: 0.6257, Valid Acc: 0.9500\n",
      "Epoch [37/50], Train Loss: 0.6292, Train Acc: 0.9414, Valid Loss: 0.6257, Valid Acc: 0.9500\n",
      "Epoch [38/50], Train Loss: 0.6294, Train Acc: 0.9486, Valid Loss: 0.6262, Valid Acc: 0.9400\n",
      "Epoch [39/50], Train Loss: 0.6294, Train Acc: 0.9457, Valid Loss: 0.6263, Valid Acc: 0.9500\n",
      "Epoch [40/50], Train Loss: 0.6293, Train Acc: 0.9486, Valid Loss: 0.6259, Valid Acc: 0.9400\n",
      "Epoch [41/50], Train Loss: 0.6293, Train Acc: 0.9486, Valid Loss: 0.6259, Valid Acc: 0.9500\n",
      "Epoch [42/50], Train Loss: 0.6295, Train Acc: 0.9429, Valid Loss: 0.6261, Valid Acc: 0.9300\n",
      "Epoch [43/50], Train Loss: 0.6293, Train Acc: 0.9471, Valid Loss: 0.6259, Valid Acc: 0.9400\n",
      "Epoch [44/50], Train Loss: 0.6292, Train Acc: 0.9500, Valid Loss: 0.6262, Valid Acc: 0.9400\n",
      "Epoch [45/50], Train Loss: 0.6292, Train Acc: 0.9457, Valid Loss: 0.6261, Valid Acc: 0.9400\n",
      "Epoch [46/50], Train Loss: 0.6293, Train Acc: 0.9486, Valid Loss: 0.6259, Valid Acc: 0.9500\n",
      "Epoch [47/50], Train Loss: 0.6292, Train Acc: 0.9429, Valid Loss: 0.6263, Valid Acc: 0.9500\n",
      "Epoch [48/50], Train Loss: 0.6293, Train Acc: 0.9514, Valid Loss: 0.6261, Valid Acc: 0.9300\n",
      "Epoch [49/50], Train Loss: 0.6292, Train Acc: 0.9457, Valid Loss: 0.6260, Valid Acc: 0.9300\n",
      "Epoch [50/50], Train Loss: 0.6292, Train Acc: 0.9471, Valid Loss: 0.6259, Valid Acc: 0.9500\n"
     ]
    },
    {
     "data": {
      "image/png": "[encoded data removed]",
      "text/plain": [
       "<Figure size 1000x300 with 3 Axes>"
      ]
     },
     "metadata": {},
     "output_type": "display_data"
    },
    {
     "data": {
      "application/vnd.jupyter.widget-view+json": {
       "model_id": "fb88326eb8814cb7ae618b1f2e5a1123",
       "version_major": 2,
       "version_minor": 0
      },
      "text/plain": [
       "  0%|          | 0/50 [00:00<?, ?it/s]"
      ]
     },
     "metadata": {},
     "output_type": "display_data"
    },
    {
     "name": "stdout",
     "output_type": "stream",
     "text": [
      "Epoch [1/50], Train Loss: 0.6923, Train Acc: 0.6043, Valid Loss: 0.6901, Valid Acc: 0.6600\n",
      "Epoch [2/50], Train Loss: 0.6871, Train Acc: 0.6500, Valid Loss: 0.6843, Valid Acc: 0.6600\n",
      "Epoch [3/50], Train Loss: 0.6766, Train Acc: 0.6386, Valid Loss: 0.6829, Valid Acc: 0.6800\n",
      "Epoch [4/50], Train Loss: 0.6740, Train Acc: 0.6414, Valid Loss: 0.6783, Valid Acc: 0.6700\n",
      "Epoch [5/50], Train Loss: 0.6725, Train Acc: 0.6543, Valid Loss: 0.6746, Valid Acc: 0.6600\n",
      "Epoch [6/50], Train Loss: 0.6708, Train Acc: 0.6257, Valid Loss: 0.6730, Valid Acc: 0.6800\n",
      "Epoch [7/50], Train Loss: 0.6711, Train Acc: 0.6271, Valid Loss: 0.6749, Valid Acc: 0.5800\n",
      "Epoch [8/50], Train Loss: 0.6733, Train Acc: 0.6443, Valid Loss: 0.6873, Valid Acc: 0.6200\n",
      "Epoch [9/50], Train Loss: 0.6740, Train Acc: 0.5986, Valid Loss: 0.6813, Valid Acc: 0.6700\n",
      "Epoch [10/50], Train Loss: 0.6696, Train Acc: 0.6329, Valid Loss: 0.6801, Valid Acc: 0.6400\n",
      "Epoch [11/50], Train Loss: 0.6723, Train Acc: 0.6171, Valid Loss: 0.6832, Valid Acc: 0.6400\n",
      "Epoch [12/50], Train Loss: 0.6702, Train Acc: 0.6371, Valid Loss: 0.6713, Valid Acc: 0.6600\n",
      "Epoch [13/50], Train Loss: 0.6712, Train Acc: 0.6157, Valid Loss: 0.6818, Valid Acc: 0.6500\n",
      "Epoch [14/50], Train Loss: 0.6689, Train Acc: 0.6129, Valid Loss: 0.6836, Valid Acc: 0.6400\n",
      "Epoch [15/50], Train Loss: 0.6719, Train Acc: 0.5986, Valid Loss: 0.6772, Valid Acc: 0.6300\n",
      "Epoch [16/50], Train Loss: 0.6683, Train Acc: 0.6171, Valid Loss: 0.6821, Valid Acc: 0.6500\n",
      "Epoch [17/50], Train Loss: 0.6684, Train Acc: 0.6186, Valid Loss: 0.6762, Valid Acc: 0.6600\n",
      "Epoch [18/50], Train Loss: 0.6653, Train Acc: 0.6200, Valid Loss: 0.6867, Valid Acc: 0.6500\n",
      "Epoch [19/50], Train Loss: 0.6651, Train Acc: 0.6071, Valid Loss: 0.6717, Valid Acc: 0.6400\n",
      "Epoch [20/50], Train Loss: 0.6649, Train Acc: 0.6257, Valid Loss: 0.6784, Valid Acc: 0.6400\n",
      "Epoch [21/50], Train Loss: 0.6683, Train Acc: 0.5986, Valid Loss: 0.6787, Valid Acc: 0.6300\n",
      "Epoch [22/50], Train Loss: 0.6641, Train Acc: 0.6143, Valid Loss: 0.6865, Valid Acc: 0.6300\n",
      "Epoch [23/50], Train Loss: 0.6688, Train Acc: 0.6357, Valid Loss: 0.6747, Valid Acc: 0.6100\n",
      "Epoch [24/50], Train Loss: 0.6683, Train Acc: 0.6357, Valid Loss: 0.6900, Valid Acc: 0.6400\n",
      "Epoch [25/50], Train Loss: 0.6726, Train Acc: 0.6214, Valid Loss: 0.6765, Valid Acc: 0.7000\n",
      "Epoch [26/50], Train Loss: 0.6679, Train Acc: 0.6343, Valid Loss: 0.6875, Valid Acc: 0.6500\n",
      "Epoch [27/50], Train Loss: 0.6658, Train Acc: 0.6314, Valid Loss: 0.6739, Valid Acc: 0.6700\n",
      "Epoch [28/50], Train Loss: 0.6682, Train Acc: 0.6214, Valid Loss: 0.6836, Valid Acc: 0.6900\n",
      "Epoch [29/50], Train Loss: 0.6669, Train Acc: 0.6243, Valid Loss: 0.6774, Valid Acc: 0.6400\n",
      "Epoch [30/50], Train Loss: 0.6633, Train Acc: 0.6514, Valid Loss: 0.6885, Valid Acc: 0.6700\n",
      "Epoch [31/50], Train Loss: 0.6674, Train Acc: 0.6329, Valid Loss: 0.6859, Valid Acc: 0.6800\n",
      "Epoch [32/50], Train Loss: 0.6662, Train Acc: 0.6229, Valid Loss: 0.6867, Valid Acc: 0.6600\n",
      "Epoch [33/50], Train Loss: 0.6677, Train Acc: 0.6257, Valid Loss: 0.6820, Valid Acc: 0.7000\n",
      "Epoch [34/50], Train Loss: 0.6621, Train Acc: 0.6300, Valid Loss: 0.6726, Valid Acc: 0.6100\n",
      "Epoch [35/50], Train Loss: 0.6624, Train Acc: 0.6443, Valid Loss: 0.6769, Valid Acc: 0.6300\n",
      "Epoch [36/50], Train Loss: 0.6599, Train Acc: 0.6329, Valid Loss: 0.6738, Valid Acc: 0.6700\n",
      "Epoch [37/50], Train Loss: 0.6713, Train Acc: 0.6157, Valid Loss: 0.6954, Valid Acc: 0.6100\n",
      "Epoch [38/50], Train Loss: 0.6671, Train Acc: 0.6400, Valid Loss: 0.6859, Valid Acc: 0.6500\n",
      "Epoch [39/50], Train Loss: 0.6680, Train Acc: 0.6229, Valid Loss: 0.6812, Valid Acc: 0.7000\n",
      "Epoch [40/50], Train Loss: 0.6662, Train Acc: 0.6243, Valid Loss: 0.6910, Valid Acc: 0.6700\n",
      "Epoch [41/50], Train Loss: 0.6633, Train Acc: 0.6357, Valid Loss: 0.6766, Valid Acc: 0.7000\n",
      "Epoch [42/50], Train Loss: 0.6666, Train Acc: 0.6386, Valid Loss: 0.6793, Valid Acc: 0.6400\n",
      "Epoch [43/50], Train Loss: 0.6652, Train Acc: 0.6557, Valid Loss: 0.6858, Valid Acc: 0.6400\n",
      "Epoch [44/50], Train Loss: 0.6662, Train Acc: 0.6486, Valid Loss: 0.6779, Valid Acc: 0.6500\n",
      "Epoch [45/50], Train Loss: 0.6698, Train Acc: 0.6500, Valid Loss: 0.6876, Valid Acc: 0.6300\n",
      "Epoch [46/50], Train Loss: 0.6664, Train Acc: 0.6414, Valid Loss: 0.6771, Valid Acc: 0.6700\n",
      "Epoch [47/50], Train Loss: 0.6694, Train Acc: 0.6386, Valid Loss: 0.6777, Valid Acc: 0.6800\n",
      "Epoch [48/50], Train Loss: 0.6680, Train Acc: 0.6400, Valid Loss: 0.6846, Valid Acc: 0.6400\n",
      "Epoch [49/50], Train Loss: 0.6638, Train Acc: 0.6429, Valid Loss: 0.6868, Valid Acc: 0.6700\n",
      "Epoch [50/50], Train Loss: 0.6688, Train Acc: 0.6371, Valid Loss: 0.6785, Valid Acc: 0.7000\n"
     ]
    },
    {
     "data": {
      "image/png": "[encoded data removed]",
      "text/plain": [
       "<Figure size 1000x300 with 3 Axes>"
      ]
     },
     "metadata": {},
     "output_type": "display_data"
    },
    {
     "data": {
      "application/vnd.jupyter.widget-view+json": {
       "model_id": "2f3d0d9e7ef548dc862977267960878c",
       "version_major": 2,
       "version_minor": 0
      },
      "text/plain": [
       "  0%|          | 0/50 [00:00<?, ?it/s]"
      ]
     },
     "metadata": {},
     "output_type": "display_data"
    },
    {
     "name": "stdout",
     "output_type": "stream",
     "text": [
      "Epoch [1/50], Train Loss: 0.6836, Train Acc: 0.6700, Valid Loss: 0.6711, Valid Acc: 0.7000\n",
      "Epoch [2/50], Train Loss: 0.6588, Train Acc: 0.7100, Valid Loss: 0.6538, Valid Acc: 0.7000\n",
      "Epoch [3/50], Train Loss: 0.6503, Train Acc: 0.7186, Valid Loss: 0.6476, Valid Acc: 0.6600\n",
      "Epoch [4/50], Train Loss: 0.6483, Train Acc: 0.7200, Valid Loss: 0.6648, Valid Acc: 0.6400\n",
      "Epoch [5/50], Train Loss: 0.6497, Train Acc: 0.7129, Valid Loss: 0.6491, Valid Acc: 0.6300\n",
      "Epoch [6/50], Train Loss: 0.6468, Train Acc: 0.7100, Valid Loss: 0.6513, Valid Acc: 0.7000\n",
      "Epoch [7/50], Train Loss: 0.6492, Train Acc: 0.7100, Valid Loss: 0.6509, Valid Acc: 0.7500\n",
      "Epoch [8/50], Train Loss: 0.6492, Train Acc: 0.7200, Valid Loss: 0.6515, Valid Acc: 0.6500\n",
      "Epoch [9/50], Train Loss: 0.6513, Train Acc: 0.7329, Valid Loss: 0.6489, Valid Acc: 0.7400\n",
      "Epoch [10/50], Train Loss: 0.6479, Train Acc: 0.7243, Valid Loss: 0.6488, Valid Acc: 0.6600\n",
      "Epoch [11/50], Train Loss: 0.6491, Train Acc: 0.7086, Valid Loss: 0.6417, Valid Acc: 0.7500\n",
      "Epoch [12/50], Train Loss: 0.6493, Train Acc: 0.7043, Valid Loss: 0.6501, Valid Acc: 0.7400\n",
      "Epoch [13/50], Train Loss: 0.6479, Train Acc: 0.7100, Valid Loss: 0.6541, Valid Acc: 0.7000\n",
      "Epoch [14/50], Train Loss: 0.6495, Train Acc: 0.7057, Valid Loss: 0.6524, Valid Acc: 0.7100\n",
      "Epoch [15/50], Train Loss: 0.6461, Train Acc: 0.7171, Valid Loss: 0.6438, Valid Acc: 0.7200\n",
      "Epoch [16/50], Train Loss: 0.6480, Train Acc: 0.7129, Valid Loss: 0.6407, Valid Acc: 0.6500\n",
      "Epoch [17/50], Train Loss: 0.6463, Train Acc: 0.7286, Valid Loss: 0.6447, Valid Acc: 0.7400\n",
      "Epoch [18/50], Train Loss: 0.6473, Train Acc: 0.7257, Valid Loss: 0.6402, Valid Acc: 0.7300\n",
      "Epoch [19/50], Train Loss: 0.6490, Train Acc: 0.7214, Valid Loss: 0.6546, Valid Acc: 0.7300\n",
      "Epoch [20/50], Train Loss: 0.6479, Train Acc: 0.7143, Valid Loss: 0.6536, Valid Acc: 0.7000\n",
      "Epoch [21/50], Train Loss: 0.6473, Train Acc: 0.6929, Valid Loss: 0.6453, Valid Acc: 0.7200\n",
      "Epoch [22/50], Train Loss: 0.6504, Train Acc: 0.7157, Valid Loss: 0.6533, Valid Acc: 0.7000\n",
      "Epoch [23/50], Train Loss: 0.6500, Train Acc: 0.7229, Valid Loss: 0.6525, Valid Acc: 0.7500\n",
      "Epoch [24/50], Train Loss: 0.6478, Train Acc: 0.7043, Valid Loss: 0.6523, Valid Acc: 0.7000\n",
      "Epoch [25/50], Train Loss: 0.6457, Train Acc: 0.7229, Valid Loss: 0.6410, Valid Acc: 0.7800\n",
      "Epoch [26/50], Train Loss: 0.6495, Train Acc: 0.7000, Valid Loss: 0.6561, Valid Acc: 0.6400\n",
      "Epoch [27/50], Train Loss: 0.6509, Train Acc: 0.7271, Valid Loss: 0.6502, Valid Acc: 0.7300\n",
      "Epoch [28/50], Train Loss: 0.6498, Train Acc: 0.7129, Valid Loss: 0.6508, Valid Acc: 0.7000\n",
      "Epoch [29/50], Train Loss: 0.6465, Train Acc: 0.7014, Valid Loss: 0.6434, Valid Acc: 0.6700\n",
      "Epoch [30/50], Train Loss: 0.6494, Train Acc: 0.7157, Valid Loss: 0.6454, Valid Acc: 0.7400\n",
      "Epoch [31/50], Train Loss: 0.6517, Train Acc: 0.7114, Valid Loss: 0.6445, Valid Acc: 0.7100\n",
      "Epoch [32/50], Train Loss: 0.6472, Train Acc: 0.7014, Valid Loss: 0.6518, Valid Acc: 0.7200\n",
      "Epoch [33/50], Train Loss: 0.6485, Train Acc: 0.7214, Valid Loss: 0.6427, Valid Acc: 0.7100\n",
      "Epoch [34/50], Train Loss: 0.6469, Train Acc: 0.7286, Valid Loss: 0.6420, Valid Acc: 0.7100\n",
      "Epoch [35/50], Train Loss: 0.6459, Train Acc: 0.7157, Valid Loss: 0.6435, Valid Acc: 0.7400\n",
      "Epoch [36/50], Train Loss: 0.6477, Train Acc: 0.7143, Valid Loss: 0.6494, Valid Acc: 0.7100\n",
      "Epoch [37/50], Train Loss: 0.6466, Train Acc: 0.7171, Valid Loss: 0.6485, Valid Acc: 0.7300\n",
      "Epoch [38/50], Train Loss: 0.6457, Train Acc: 0.7200, Valid Loss: 0.6420, Valid Acc: 0.7500\n",
      "Epoch [39/50], Train Loss: 0.6460, Train Acc: 0.7129, Valid Loss: 0.6570, Valid Acc: 0.7400\n",
      "Epoch [40/50], Train Loss: 0.6492, Train Acc: 0.7214, Valid Loss: 0.6577, Valid Acc: 0.7600\n",
      "Epoch [41/50], Train Loss: 0.6488, Train Acc: 0.7143, Valid Loss: 0.6448, Valid Acc: 0.7600\n",
      "Epoch [42/50], Train Loss: 0.6482, Train Acc: 0.6971, Valid Loss: 0.6522, Valid Acc: 0.7500\n",
      "Epoch [43/50], Train Loss: 0.6442, Train Acc: 0.7229, Valid Loss: 0.6374, Valid Acc: 0.7200\n",
      "Epoch [44/50], Train Loss: 0.6482, Train Acc: 0.6857, Valid Loss: 0.6534, Valid Acc: 0.7300\n",
      "Epoch [45/50], Train Loss: 0.6451, Train Acc: 0.7057, Valid Loss: 0.6468, Valid Acc: 0.6800\n",
      "Epoch [46/50], Train Loss: 0.6440, Train Acc: 0.7114, Valid Loss: 0.6379, Valid Acc: 0.7200\n",
      "Epoch [47/50], Train Loss: 0.6485, Train Acc: 0.7171, Valid Loss: 0.6512, Valid Acc: 0.7200\n",
      "Epoch [48/50], Train Loss: 0.6473, Train Acc: 0.7229, Valid Loss: 0.6478, Valid Acc: 0.7400\n",
      "Epoch [49/50], Train Loss: 0.6453, Train Acc: 0.7000, Valid Loss: 0.6499, Valid Acc: 0.7500\n",
      "Epoch [50/50], Train Loss: 0.6446, Train Acc: 0.7257, Valid Loss: 0.6540, Valid Acc: 0.7200\n"
     ]
    },
    {
     "data": {
      "image/png": "[encoded data removed]",
      "text/plain": [
       "<Figure size 1000x300 with 3 Axes>"
      ]
     },
     "metadata": {},
     "output_type": "display_data"
    }
   ],
   "source": [
    "num_layers = 1  # Number of LSTM layers\n",
    "\n",
    "device = torch.device('cuda')\n",
    "with open('../output/results_short_lstm.txt', \"w\") as f:\n",
    "  for norm in (True, False):\n",
    "    audio_dataset.normalize = norm\n",
    "    for feature in ('wavs', 'mfcc', 'chroma', 'contrast'):  \n",
    "        audio_dataset.active = feature\n",
    "        for n_hidden_neurons in ([500]):\n",
    "            model = voiceClassifier(int(audio_dataset[0][0].shape[0]), n_hidden_neurons, num_layers, num_classes)\n",
    "            #opt = torch.optim.SGD(model.parameters(), lr=5e-2)\n",
    "            opt = torch.optim.Adam(model.parameters(), lr=1e-3)\n",
    "            sched = torch.optim.lr_scheduler.MultiStepLR(opt, (30,))\n",
    "            train_losses, train_accuracies = [], []\n",
    "            valid_losses, valid_accuracies = [], []\n",
    "            lrs = []\n",
    "    \n",
    "            for epoch in tqdm(range(50)):\n",
    "                # Train\n",
    "                model.train()\n",
    "                losses=[]\n",
    "                #train_losses = []\n",
    "                train_correct = 0\n",
    "                train_total = 0\n",
    "                for x, y in loader_train:\n",
    "                    opt.zero_grad()\n",
    "                    x = x.unsqueeze(0)\n",
    "                    logits = model(x)\n",
    "                    logits = logits.squeeze()\n",
    "\n",
    "                    # make target out of vector\n",
    "                    one_hot_targets = torch.zeros(logits.size(0), num_classes) # empty tensor to hold the one-hot encoded targets\n",
    "                    for idx, target in enumerate(y): # Fill one-hot encoded values based on the target values\n",
    "                        one_hot_targets[idx, target] = 1\n",
    "                    loss_func = nn.CrossEntropyLoss()  # Define the loss function\n",
    "                    \n",
    "                    #print(\"targets: \", one_hot_targets)\n",
    "                    loss = loss_func(logits, one_hot_targets)  # Calculate the loss directly\n",
    "                \n",
    "                    # Backpropagation and parameter updates\n",
    "                    loss.backward()\n",
    "                    opt.step()\n",
    "                    losses.append(loss.item())\n",
    "                    train_total += y.size(0)\n",
    "                    train_correct += (torch.argmax(logits, dim=1) == y.view(-1)).sum().item()\n",
    "                    \n",
    "                avg_train_loss = np.mean(losses) #added from old\n",
    "                train_accuracy = train_correct / train_total\n",
    "\n",
    "                # History - Saved for plotting \n",
    "                train_losses.append(avg_train_loss)\n",
    "                train_accuracies.append(train_accuracy)\n",
    "                \n",
    "                # Validation\n",
    "                model.eval()\n",
    "                losses = []\n",
    "                valid_correct = 0\n",
    "                valid_total = 0\n",
    "                \n",
    "                for x, y in loader_valid:\n",
    "                    x = x.unsqueeze(0)  # Add a batch dimension assuming it's a single sequence\n",
    "                    with torch.no_grad():\n",
    "                        logits = model(x)\n",
    "                    logits = logits.squeeze()\n",
    "                    one_hot_targets = torch.zeros(logits.size(0), num_classes) # empty tensor to hold the one-hot encoded targets\n",
    "                    for idx, target in enumerate(y): # Fill one-hot encoded values based on the target values\n",
    "                        one_hot_targets[idx, target] = 1\n",
    "            \n",
    "                    loss_func = nn.CrossEntropyLoss()  # Define the loss function\n",
    "                    loss = loss_func(logits, one_hot_targets)  # Calculate the loss directly\n",
    "            \n",
    "                    losses.append(loss.item())\n",
    "                    valid_total += y.size(0)\n",
    "                    valid_correct += (torch.argmax(logits, dim=1) == y.view(-1)).sum().item()\n",
    "            \n",
    "                        \n",
    "                avg_valid_loss = np.mean(losses) # added from old\n",
    "                valid_accuracy = valid_correct / valid_total\n",
    "                #avg_valid_loss = sum(losses) / len(losses)\n",
    "                \n",
    "               \n",
    "                \n",
    "                valid_losses.append(avg_valid_loss)\n",
    "                valid_accuracies.append(valid_accuracy)\n",
    "                \n",
    "                print(f\"Epoch [{epoch + 1}/50], \"\n",
    "                      f\"Train Loss: {avg_train_loss:.4f}, Train Acc: {train_accuracy:.4f}, \"\n",
    "                      f\"Valid Loss: {avg_valid_loss:.4f}, Valid Acc: {valid_accuracy:.4f}\")\n",
    "\n",
    "# Test\n",
    "                model.eval()\n",
    "                losses = []\n",
    "                test_correct = 0\n",
    "                test_total = 0\n",
    "                \n",
    "                for x, y in loader_test:\n",
    "                    x = x.unsqueeze(0)  # Add a batch dimension assuming it's a single sequence\n",
    "                    with torch.no_grad():\n",
    "                        logits = model(x)\n",
    "                    logits = logits.squeeze()\n",
    "                \n",
    "                    test_total += y.size(0)\n",
    "                    test_correct += (torch.argmax(logits, dim=1) == y.view(-1)).sum().item()\n",
    "            \n",
    "                        \n",
    "                #avg_valid_loss = np.mean(losses) # added from old\n",
    "                test_accuracy = valid_correct / valid_total\n",
    "                #avg_valid_loss = sum(losses) / len(losses)\n",
    "                \n",
    "                # sched\n",
    "                sched.step()\n",
    "                # history - saved for plotting\n",
    "                lrs.append(next(iter(opt.param_groups))['lr'])\n",
    "                \n",
    "        # Print to File\n",
    "        f.writelines(f\"Norm: {norm}, Feature: {feature}\\n\")\n",
    "        f.writelines(f\"Train loss: {train_losses}\\nTrain accuracy: {train_accuracies}\\n\")\n",
    "        f.writelines(f\"Valid loss: {valid_losses}\\nValid accuracy: {valid_accuracies}\\n\")\n",
    "        f.writelines(f\"Test accuracy: {test_accuracy}\\n\")\n",
    "    \n",
    "        # plot history\n",
    "        fig, axs = plt.subplots(1, 3, figsize=(10, 3))\n",
    "        axs[0].plot(train_losses, label='train')\n",
    "        axs[0].plot(valid_losses, label='valid')\n",
    "                    \n",
    "        axs[0].set_ylabel('loss')\n",
    "        axs[0].legend()\n",
    "        axs[1].plot(train_accuracies, label='train')\n",
    "        axs[1].plot(valid_accuracies, label='valid')\n",
    "        axs[1].set_ylabel('acc')\n",
    "        axs[1].set_ylim(0, 1)\n",
    "        axs[1].legend()\n",
    "        axs[2].plot(lrs)\n",
    "        axs[2].set_ylabel('lr')\n",
    "        axs[2].set_yscale('log')\n",
    "        plt.tight_layout()\n",
    "        plt.show()\n",
    "             "
   ]
  },
  {
   "cell_type": "markdown",
   "metadata": {},
   "source": [
    "**Testing Different Hyperparameters**"
   ]
  },
  {
   "cell_type": "code",
   "execution_count": 6,
   "metadata": {},
   "outputs": [
    {
     "data": {
      "application/vnd.jupyter.widget-view+json": {
       "model_id": "d92e678432a8440991655bbc07b0f3ef",
       "version_major": 2,
       "version_minor": 0
      },
      "text/plain": [
       "  0%|          | 0/50 [00:00<?, ?it/s]"
      ]
     },
     "metadata": {},
     "output_type": "display_data"
    },
    {
     "name": "stdout",
     "output_type": "stream",
     "text": [
      "Hidden: 10, Layers: 2, LR: 0.01, batch_size: 2, Train Loss: 1.0986, Valid Loss: 1.0986, Train Acc: 0.4900, Valid Acc: 0.5300, Test Acc: 0.5300\n"
     ]
    },
    {
     "data": {
      "application/vnd.jupyter.widget-view+json": {
       "model_id": "177cdb0044c64ddd896589b8873eb2d8",
       "version_major": 2,
       "version_minor": 0
      },
      "text/plain": [
       "  0%|          | 0/50 [00:00<?, ?it/s]"
      ]
     },
     "metadata": {},
     "output_type": "display_data"
    },
    {
     "name": "stdout",
     "output_type": "stream",
     "text": [
      "Hidden: 10, Layers: 2, LR: 0.01, batch_size: 8, Train Loss: 1.0986, Valid Loss: 1.0986, Train Acc: 0.4814, Valid Acc: 0.5300, Test Acc: 0.5300\n"
     ]
    },
    {
     "data": {
      "application/vnd.jupyter.widget-view+json": {
       "model_id": "7dbbf7f66267468ba725bbc95369975d",
       "version_major": 2,
       "version_minor": 0
      },
      "text/plain": [
       "  0%|          | 0/50 [00:00<?, ?it/s]"
      ]
     },
     "metadata": {},
     "output_type": "display_data"
    },
    {
     "name": "stdout",
     "output_type": "stream",
     "text": [
      "Hidden: 10, Layers: 2, LR: 0.01, batch_size: 32, Train Loss: 1.0986, Valid Loss: 1.0986, Train Acc: 0.4829, Valid Acc: 0.5400, Test Acc: 0.5400\n"
     ]
    },
    {
     "data": {
      "application/vnd.jupyter.widget-view+json": {
       "model_id": "f383f6223864449abf81056bc149bda8",
       "version_major": 2,
       "version_minor": 0
      },
      "text/plain": [
       "  0%|          | 0/50 [00:00<?, ?it/s]"
      ]
     },
     "metadata": {},
     "output_type": "display_data"
    },
    {
     "name": "stdout",
     "output_type": "stream",
     "text": [
      "Hidden: 10, Layers: 2, LR: 0.01, batch_size: 128, Train Loss: 1.0902, Valid Loss: 1.0892, Train Acc: 0.9143, Valid Acc: 0.9400, Test Acc: 0.9400\n"
     ]
    },
    {
     "data": {
      "application/vnd.jupyter.widget-view+json": {
       "model_id": "ace2100ccec349f2a0d61dd81e3d86bf",
       "version_major": 2,
       "version_minor": 0
      },
      "text/plain": [
       "  0%|          | 0/50 [00:00<?, ?it/s]"
      ]
     },
     "metadata": {},
     "output_type": "display_data"
    },
    {
     "name": "stdout",
     "output_type": "stream",
     "text": [
      "Hidden: 10, Layers: 2, LR: 0.001, batch_size: 2, Train Loss: 0.9070, Valid Loss: 0.9280, Train Acc: 0.7386, Valid Acc: 0.7100, Test Acc: 0.7100\n"
     ]
    },
    {
     "data": {
      "application/vnd.jupyter.widget-view+json": {
       "model_id": "46029107fbac426b80604019b0d50727",
       "version_major": 2,
       "version_minor": 0
      },
      "text/plain": [
       "  0%|          | 0/50 [00:00<?, ?it/s]"
      ]
     },
     "metadata": {},
     "output_type": "display_data"
    },
    {
     "name": "stdout",
     "output_type": "stream",
     "text": [
      "Hidden: 10, Layers: 2, LR: 0.001, batch_size: 8, Train Loss: 0.9859, Valid Loss: 0.9800, Train Acc: 0.8100, Valid Acc: 0.8000, Test Acc: 0.8000\n"
     ]
    },
    {
     "data": {
      "application/vnd.jupyter.widget-view+json": {
       "model_id": "5c4e314cc67d40bd97504a18a742be4d",
       "version_major": 2,
       "version_minor": 0
      },
      "text/plain": [
       "  0%|          | 0/50 [00:00<?, ?it/s]"
      ]
     },
     "metadata": {},
     "output_type": "display_data"
    },
    {
     "name": "stdout",
     "output_type": "stream",
     "text": [
      "Hidden: 10, Layers: 2, LR: 0.001, batch_size: 32, Train Loss: 1.0698, Valid Loss: 1.0223, Train Acc: 0.7729, Valid Acc: 0.7900, Test Acc: 0.7900\n"
     ]
    },
    {
     "data": {
      "application/vnd.jupyter.widget-view+json": {
       "model_id": "d3f9091659a94864b653282d64f55618",
       "version_major": 2,
       "version_minor": 0
      },
      "text/plain": [
       "  0%|          | 0/50 [00:00<?, ?it/s]"
      ]
     },
     "metadata": {},
     "output_type": "display_data"
    },
    {
     "name": "stdout",
     "output_type": "stream",
     "text": [
      "Hidden: 10, Layers: 2, LR: 0.001, batch_size: 128, Train Loss: 1.0986, Valid Loss: 1.0986, Train Acc: 0.5700, Valid Acc: 0.6200, Test Acc: 0.6200\n"
     ]
    },
    {
     "data": {
      "application/vnd.jupyter.widget-view+json": {
       "model_id": "ba1ed3c6c0584f17be809c4876d32467",
       "version_major": 2,
       "version_minor": 0
      },
      "text/plain": [
       "  0%|          | 0/50 [00:00<?, ?it/s]"
      ]
     },
     "metadata": {},
     "output_type": "display_data"
    },
    {
     "name": "stdout",
     "output_type": "stream",
     "text": [
      "Hidden: 10, Layers: 2, LR: 0.0001, batch_size: 2, Train Loss: 1.0578, Valid Loss: 1.0502, Train Acc: 0.6543, Valid Acc: 0.6800, Test Acc: 0.6800\n"
     ]
    },
    {
     "data": {
      "application/vnd.jupyter.widget-view+json": {
       "model_id": "13c5bdc8c1fe4fadb61691566f3cf042",
       "version_major": 2,
       "version_minor": 0
      },
      "text/plain": [
       "  0%|          | 0/50 [00:00<?, ?it/s]"
      ]
     },
     "metadata": {},
     "output_type": "display_data"
    },
    {
     "name": "stdout",
     "output_type": "stream",
     "text": [
      "Hidden: 10, Layers: 2, LR: 0.0001, batch_size: 8, Train Loss: 1.0704, Valid Loss: 1.0649, Train Acc: 0.7529, Valid Acc: 0.7700, Test Acc: 0.7700\n"
     ]
    },
    {
     "data": {
      "application/vnd.jupyter.widget-view+json": {
       "model_id": "0e82d83c972048cd894f0da689225a0b",
       "version_major": 2,
       "version_minor": 0
      },
      "text/plain": [
       "  0%|          | 0/50 [00:00<?, ?it/s]"
      ]
     },
     "metadata": {},
     "output_type": "display_data"
    },
    {
     "name": "stdout",
     "output_type": "stream",
     "text": [
      "Hidden: 10, Layers: 2, LR: 0.0001, batch_size: 32, Train Loss: 1.0983, Valid Loss: 1.0975, Train Acc: 0.6171, Valid Acc: 0.5700, Test Acc: 0.5700\n"
     ]
    },
    {
     "data": {
      "application/vnd.jupyter.widget-view+json": {
       "model_id": "f3f59882174d4bdd950022302b2cd82d",
       "version_major": 2,
       "version_minor": 0
      },
      "text/plain": [
       "  0%|          | 0/50 [00:00<?, ?it/s]"
      ]
     },
     "metadata": {},
     "output_type": "display_data"
    },
    {
     "name": "stdout",
     "output_type": "stream",
     "text": [
      "Hidden: 10, Layers: 2, LR: 0.0001, batch_size: 128, Train Loss: 1.0986, Valid Loss: 1.0986, Train Acc: 0.3271, Valid Acc: 0.3000, Test Acc: 0.3000\n"
     ]
    },
    {
     "data": {
      "application/vnd.jupyter.widget-view+json": {
       "model_id": "71a54d775fd642f29e4d7658a7f2b43c",
       "version_major": 2,
       "version_minor": 0
      },
      "text/plain": [
       "  0%|          | 0/50 [00:00<?, ?it/s]"
      ]
     },
     "metadata": {},
     "output_type": "display_data"
    },
    {
     "name": "stdout",
     "output_type": "stream",
     "text": [
      "Hidden: 10, Layers: 4, LR: 0.01, batch_size: 2, Train Loss: 1.0986, Valid Loss: 1.0986, Train Acc: 0.4886, Valid Acc: 0.5300, Test Acc: 0.5300\n"
     ]
    },
    {
     "data": {
      "application/vnd.jupyter.widget-view+json": {
       "model_id": "c5f67ec7995347ffbb0d0c663d63d36d",
       "version_major": 2,
       "version_minor": 0
      },
      "text/plain": [
       "  0%|          | 0/50 [00:00<?, ?it/s]"
      ]
     },
     "metadata": {},
     "output_type": "display_data"
    },
    {
     "name": "stdout",
     "output_type": "stream",
     "text": [
      "Hidden: 10, Layers: 4, LR: 0.01, batch_size: 8, Train Loss: 1.0986, Valid Loss: 1.0986, Train Acc: 0.4043, Valid Acc: 0.5500, Test Acc: 0.5500\n"
     ]
    },
    {
     "data": {
      "application/vnd.jupyter.widget-view+json": {
       "model_id": "810e5ccb70044d8388c8acb3934d5c85",
       "version_major": 2,
       "version_minor": 0
      },
      "text/plain": [
       "  0%|          | 0/50 [00:00<?, ?it/s]"
      ]
     },
     "metadata": {},
     "output_type": "display_data"
    },
    {
     "name": "stdout",
     "output_type": "stream",
     "text": [
      "Hidden: 10, Layers: 4, LR: 0.01, batch_size: 32, Train Loss: 1.0986, Valid Loss: 1.0986, Train Acc: 0.4886, Valid Acc: 0.5300, Test Acc: 0.5300\n"
     ]
    },
    {
     "data": {
      "application/vnd.jupyter.widget-view+json": {
       "model_id": "3543a9d35b304d0aa5b5c3804836528d",
       "version_major": 2,
       "version_minor": 0
      },
      "text/plain": [
       "  0%|          | 0/50 [00:00<?, ?it/s]"
      ]
     },
     "metadata": {},
     "output_type": "display_data"
    },
    {
     "name": "stdout",
     "output_type": "stream",
     "text": [
      "Hidden: 10, Layers: 4, LR: 0.01, batch_size: 128, Train Loss: 1.0901, Valid Loss: 1.0891, Train Acc: 0.9071, Valid Acc: 0.9300, Test Acc: 0.9300\n"
     ]
    },
    {
     "data": {
      "application/vnd.jupyter.widget-view+json": {
       "model_id": "05cc8709661640efbe985df626db7935",
       "version_major": 2,
       "version_minor": 0
      },
      "text/plain": [
       "  0%|          | 0/50 [00:00<?, ?it/s]"
      ]
     },
     "metadata": {},
     "output_type": "display_data"
    },
    {
     "name": "stdout",
     "output_type": "stream",
     "text": [
      "Hidden: 10, Layers: 4, LR: 0.001, batch_size: 2, Train Loss: 0.9818, Valid Loss: 0.9780, Train Acc: 0.6786, Valid Acc: 0.7000, Test Acc: 0.7000\n"
     ]
    },
    {
     "data": {
      "application/vnd.jupyter.widget-view+json": {
       "model_id": "891fbb0a762c4341b431ac0225856aab",
       "version_major": 2,
       "version_minor": 0
      },
      "text/plain": [
       "  0%|          | 0/50 [00:00<?, ?it/s]"
      ]
     },
     "metadata": {},
     "output_type": "display_data"
    },
    {
     "name": "stdout",
     "output_type": "stream",
     "text": [
      "Hidden: 10, Layers: 4, LR: 0.001, batch_size: 8, Train Loss: 0.9870, Valid Loss: 0.9997, Train Acc: 0.7271, Valid Acc: 0.8000, Test Acc: 0.8000\n"
     ]
    },
    {
     "data": {
      "application/vnd.jupyter.widget-view+json": {
       "model_id": "806665f574144633b8c2b0a3170864d8",
       "version_major": 2,
       "version_minor": 0
      },
      "text/plain": [
       "  0%|          | 0/50 [00:00<?, ?it/s]"
      ]
     },
     "metadata": {},
     "output_type": "display_data"
    },
    {
     "name": "stdout",
     "output_type": "stream",
     "text": [
      "Hidden: 10, Layers: 4, LR: 0.001, batch_size: 32, Train Loss: 1.0986, Valid Loss: 1.0986, Train Acc: 0.4886, Valid Acc: 0.5300, Test Acc: 0.5300\n"
     ]
    },
    {
     "data": {
      "application/vnd.jupyter.widget-view+json": {
       "model_id": "b3f71baa6a5d416091f1452279a3480d",
       "version_major": 2,
       "version_minor": 0
      },
      "text/plain": [
       "  0%|          | 0/50 [00:00<?, ?it/s]"
      ]
     },
     "metadata": {},
     "output_type": "display_data"
    },
    {
     "name": "stdout",
     "output_type": "stream",
     "text": [
      "Hidden: 10, Layers: 4, LR: 0.001, batch_size: 128, Train Loss: 1.0959, Valid Loss: 1.0958, Train Acc: 0.7714, Valid Acc: 0.7600, Test Acc: 0.7600\n"
     ]
    },
    {
     "data": {
      "application/vnd.jupyter.widget-view+json": {
       "model_id": "91fff3c9fe9b49c2b6dd6d16651e85cd",
       "version_major": 2,
       "version_minor": 0
      },
      "text/plain": [
       "  0%|          | 0/50 [00:00<?, ?it/s]"
      ]
     },
     "metadata": {},
     "output_type": "display_data"
    },
    {
     "name": "stdout",
     "output_type": "stream",
     "text": [
      "Hidden: 10, Layers: 4, LR: 0.0001, batch_size: 2, Train Loss: 0.9419, Valid Loss: 0.9379, Train Acc: 0.7286, Valid Acc: 0.7300, Test Acc: 0.7300\n"
     ]
    },
    {
     "data": {
      "application/vnd.jupyter.widget-view+json": {
       "model_id": "0061019f85d24e4c93986a65d586c9c9",
       "version_major": 2,
       "version_minor": 0
      },
      "text/plain": [
       "  0%|          | 0/50 [00:00<?, ?it/s]"
      ]
     },
     "metadata": {},
     "output_type": "display_data"
    },
    {
     "name": "stdout",
     "output_type": "stream",
     "text": [
      "Hidden: 10, Layers: 4, LR: 0.0001, batch_size: 8, Train Loss: 1.0534, Valid Loss: 1.0461, Train Acc: 0.7357, Valid Acc: 0.7600, Test Acc: 0.7600\n"
     ]
    },
    {
     "data": {
      "application/vnd.jupyter.widget-view+json": {
       "model_id": "a1e0c0c1206748b686dc9c6240e8aae1",
       "version_major": 2,
       "version_minor": 0
      },
      "text/plain": [
       "  0%|          | 0/50 [00:00<?, ?it/s]"
      ]
     },
     "metadata": {},
     "output_type": "display_data"
    },
    {
     "name": "stdout",
     "output_type": "stream",
     "text": [
      "Hidden: 10, Layers: 4, LR: 0.0001, batch_size: 32, Train Loss: 1.0985, Valid Loss: 1.0985, Train Acc: 0.6443, Valid Acc: 0.5900, Test Acc: 0.5900\n"
     ]
    },
    {
     "data": {
      "application/vnd.jupyter.widget-view+json": {
       "model_id": "d8d7e0ec095e4d3cb7ca7fd55fd814c5",
       "version_major": 2,
       "version_minor": 0
      },
      "text/plain": [
       "  0%|          | 0/50 [00:00<?, ?it/s]"
      ]
     },
     "metadata": {},
     "output_type": "display_data"
    },
    {
     "name": "stdout",
     "output_type": "stream",
     "text": [
      "Hidden: 10, Layers: 4, LR: 0.0001, batch_size: 128, Train Loss: 1.0986, Valid Loss: 1.0986, Train Acc: 0.1343, Valid Acc: 0.1500, Test Acc: 0.1500\n"
     ]
    },
    {
     "data": {
      "application/vnd.jupyter.widget-view+json": {
       "model_id": "b8ab91093127491aa44d54ab060d4a97",
       "version_major": 2,
       "version_minor": 0
      },
      "text/plain": [
       "  0%|          | 0/50 [00:00<?, ?it/s]"
      ]
     },
     "metadata": {},
     "output_type": "display_data"
    },
    {
     "name": "stdout",
     "output_type": "stream",
     "text": [
      "Hidden: 10, Layers: 6, LR: 0.01, batch_size: 2, Train Loss: 1.0986, Valid Loss: 1.0986, Train Acc: 0.4843, Valid Acc: 0.5300, Test Acc: 0.5300\n"
     ]
    },
    {
     "data": {
      "application/vnd.jupyter.widget-view+json": {
       "model_id": "b14f49b5293d4e2583d7a9229d22a82f",
       "version_major": 2,
       "version_minor": 0
      },
      "text/plain": [
       "  0%|          | 0/50 [00:00<?, ?it/s]"
      ]
     },
     "metadata": {},
     "output_type": "display_data"
    },
    {
     "name": "stdout",
     "output_type": "stream",
     "text": [
      "Hidden: 10, Layers: 6, LR: 0.01, batch_size: 8, Train Loss: 1.0986, Valid Loss: 1.0986, Train Acc: 0.4400, Valid Acc: 0.5300, Test Acc: 0.5300\n"
     ]
    },
    {
     "data": {
      "application/vnd.jupyter.widget-view+json": {
       "model_id": "d65250a0a60f4b52a14d4096e0ea8c69",
       "version_major": 2,
       "version_minor": 0
      },
      "text/plain": [
       "  0%|          | 0/50 [00:00<?, ?it/s]"
      ]
     },
     "metadata": {},
     "output_type": "display_data"
    },
    {
     "name": "stdout",
     "output_type": "stream",
     "text": [
      "Hidden: 10, Layers: 6, LR: 0.01, batch_size: 32, Train Loss: 1.0986, Valid Loss: 1.0986, Train Acc: 0.4886, Valid Acc: 0.5300, Test Acc: 0.5300\n"
     ]
    },
    {
     "data": {
      "application/vnd.jupyter.widget-view+json": {
       "model_id": "7649340bc534466e8c1020842e38f8d7",
       "version_major": 2,
       "version_minor": 0
      },
      "text/plain": [
       "  0%|          | 0/50 [00:00<?, ?it/s]"
      ]
     },
     "metadata": {},
     "output_type": "display_data"
    },
    {
     "name": "stdout",
     "output_type": "stream",
     "text": [
      "Hidden: 10, Layers: 6, LR: 0.01, batch_size: 128, Train Loss: 1.0986, Valid Loss: 1.0986, Train Acc: 0.4886, Valid Acc: 0.5300, Test Acc: 0.5300\n"
     ]
    },
    {
     "data": {
      "application/vnd.jupyter.widget-view+json": {
       "model_id": "e9e70a48dc6943efad3221ed5729e196",
       "version_major": 2,
       "version_minor": 0
      },
      "text/plain": [
       "  0%|          | 0/50 [00:00<?, ?it/s]"
      ]
     },
     "metadata": {},
     "output_type": "display_data"
    },
    {
     "name": "stdout",
     "output_type": "stream",
     "text": [
      "Hidden: 10, Layers: 6, LR: 0.001, batch_size: 2, Train Loss: 0.9632, Valid Loss: 0.9836, Train Acc: 0.6957, Valid Acc: 0.7300, Test Acc: 0.7300\n"
     ]
    },
    {
     "data": {
      "application/vnd.jupyter.widget-view+json": {
       "model_id": "91776cfa045f4cdfbdc566b5d2c41bd0",
       "version_major": 2,
       "version_minor": 0
      },
      "text/plain": [
       "  0%|          | 0/50 [00:00<?, ?it/s]"
      ]
     },
     "metadata": {},
     "output_type": "display_data"
    },
    {
     "name": "stdout",
     "output_type": "stream",
     "text": [
      "Hidden: 10, Layers: 6, LR: 0.001, batch_size: 8, Train Loss: 0.9919, Valid Loss: 0.9849, Train Acc: 0.8671, Valid Acc: 0.9000, Test Acc: 0.9000\n"
     ]
    },
    {
     "data": {
      "application/vnd.jupyter.widget-view+json": {
       "model_id": "98f3fa79c6d24737a665e32219d7131e",
       "version_major": 2,
       "version_minor": 0
      },
      "text/plain": [
       "  0%|          | 0/50 [00:00<?, ?it/s]"
      ]
     },
     "metadata": {},
     "output_type": "display_data"
    },
    {
     "name": "stdout",
     "output_type": "stream",
     "text": [
      "Hidden: 10, Layers: 6, LR: 0.001, batch_size: 32, Train Loss: 1.0708, Valid Loss: 1.0289, Train Acc: 0.7243, Valid Acc: 0.7100, Test Acc: 0.7100\n"
     ]
    },
    {
     "data": {
      "application/vnd.jupyter.widget-view+json": {
       "model_id": "dd5119ff71fc4f2c9b606fd6a9909d1c",
       "version_major": 2,
       "version_minor": 0
      },
      "text/plain": [
       "  0%|          | 0/50 [00:00<?, ?it/s]"
      ]
     },
     "metadata": {},
     "output_type": "display_data"
    },
    {
     "name": "stdout",
     "output_type": "stream",
     "text": [
      "Hidden: 10, Layers: 6, LR: 0.001, batch_size: 128, Train Loss: 1.0986, Valid Loss: 1.0986, Train Acc: 0.5657, Valid Acc: 0.5900, Test Acc: 0.5900\n"
     ]
    },
    {
     "data": {
      "application/vnd.jupyter.widget-view+json": {
       "model_id": "8fb85bf29f1f4ca1842595950d1875e2",
       "version_major": 2,
       "version_minor": 0
      },
      "text/plain": [
       "  0%|          | 0/50 [00:00<?, ?it/s]"
      ]
     },
     "metadata": {},
     "output_type": "display_data"
    },
    {
     "name": "stdout",
     "output_type": "stream",
     "text": [
      "Hidden: 10, Layers: 6, LR: 0.0001, batch_size: 2, Train Loss: 0.9474, Valid Loss: 0.9225, Train Acc: 0.7086, Valid Acc: 0.7100, Test Acc: 0.7100\n"
     ]
    },
    {
     "data": {
      "application/vnd.jupyter.widget-view+json": {
       "model_id": "efbd3c805ff64c60bf06de349b521be2",
       "version_major": 2,
       "version_minor": 0
      },
      "text/plain": [
       "  0%|          | 0/50 [00:00<?, ?it/s]"
      ]
     },
     "metadata": {},
     "output_type": "display_data"
    },
    {
     "name": "stdout",
     "output_type": "stream",
     "text": [
      "Hidden: 10, Layers: 6, LR: 0.0001, batch_size: 8, Train Loss: 1.0986, Valid Loss: 1.0986, Train Acc: 0.4886, Valid Acc: 0.5300, Test Acc: 0.5300\n"
     ]
    },
    {
     "data": {
      "application/vnd.jupyter.widget-view+json": {
       "model_id": "afb39ed67bd345c5b9ca05ff63aca177",
       "version_major": 2,
       "version_minor": 0
      },
      "text/plain": [
       "  0%|          | 0/50 [00:00<?, ?it/s]"
      ]
     },
     "metadata": {},
     "output_type": "display_data"
    },
    {
     "name": "stdout",
     "output_type": "stream",
     "text": [
      "Hidden: 10, Layers: 6, LR: 0.0001, batch_size: 32, Train Loss: 1.0986, Valid Loss: 1.0986, Train Acc: 0.5957, Valid Acc: 0.6200, Test Acc: 0.6200\n"
     ]
    },
    {
     "data": {
      "application/vnd.jupyter.widget-view+json": {
       "model_id": "c1ff00e5fe784e9eb9f8ccc583f62153",
       "version_major": 2,
       "version_minor": 0
      },
      "text/plain": [
       "  0%|          | 0/50 [00:00<?, ?it/s]"
      ]
     },
     "metadata": {},
     "output_type": "display_data"
    },
    {
     "name": "stdout",
     "output_type": "stream",
     "text": [
      "Hidden: 10, Layers: 6, LR: 0.0001, batch_size: 128, Train Loss: 1.0986, Valid Loss: 1.0986, Train Acc: 0.5471, Valid Acc: 0.5500, Test Acc: 0.5500\n"
     ]
    },
    {
     "data": {
      "application/vnd.jupyter.widget-view+json": {
       "model_id": "63a5d50742ad45be8d66997b198c6ba1",
       "version_major": 2,
       "version_minor": 0
      },
      "text/plain": [
       "  0%|          | 0/50 [00:00<?, ?it/s]"
      ]
     },
     "metadata": {},
     "output_type": "display_data"
    },
    {
     "name": "stdout",
     "output_type": "stream",
     "text": [
      "Hidden: 100, Layers: 2, LR: 0.01, batch_size: 2, Train Loss: 1.0942, Valid Loss: 1.0989, Train Acc: 0.5414, Valid Acc: 0.6100, Test Acc: 0.6100\n"
     ]
    },
    {
     "data": {
      "application/vnd.jupyter.widget-view+json": {
       "model_id": "91b022166917418ca8ab13e712e06a77",
       "version_major": 2,
       "version_minor": 0
      },
      "text/plain": [
       "  0%|          | 0/50 [00:00<?, ?it/s]"
      ]
     },
     "metadata": {},
     "output_type": "display_data"
    },
    {
     "name": "stdout",
     "output_type": "stream",
     "text": [
      "Hidden: 100, Layers: 2, LR: 0.01, batch_size: 8, Train Loss: 1.0986, Valid Loss: 1.0986, Train Acc: 0.4371, Valid Acc: 0.5300, Test Acc: 0.5300\n"
     ]
    },
    {
     "data": {
      "application/vnd.jupyter.widget-view+json": {
       "model_id": "320525401f974fb28f2bcdffde0c465a",
       "version_major": 2,
       "version_minor": 0
      },
      "text/plain": [
       "  0%|          | 0/50 [00:00<?, ?it/s]"
      ]
     },
     "metadata": {},
     "output_type": "display_data"
    },
    {
     "name": "stdout",
     "output_type": "stream",
     "text": [
      "Hidden: 100, Layers: 2, LR: 0.01, batch_size: 32, Train Loss: 1.0682, Valid Loss: 1.0190, Train Acc: 0.8671, Valid Acc: 0.8900, Test Acc: 0.8900\n"
     ]
    },
    {
     "data": {
      "application/vnd.jupyter.widget-view+json": {
       "model_id": "d0e2d211c9dd491698cc06c10eec741a",
       "version_major": 2,
       "version_minor": 0
      },
      "text/plain": [
       "  0%|          | 0/50 [00:00<?, ?it/s]"
      ]
     },
     "metadata": {},
     "output_type": "display_data"
    },
    {
     "name": "stdout",
     "output_type": "stream",
     "text": [
      "Hidden: 100, Layers: 2, LR: 0.01, batch_size: 128, Train Loss: 1.0894, Valid Loss: 1.0887, Train Acc: 0.6014, Valid Acc: 0.6800, Test Acc: 0.6800\n"
     ]
    },
    {
     "data": {
      "application/vnd.jupyter.widget-view+json": {
       "model_id": "825d7ad063ae48a882974b1a363df918",
       "version_major": 2,
       "version_minor": 0
      },
      "text/plain": [
       "  0%|          | 0/50 [00:00<?, ?it/s]"
      ]
     },
     "metadata": {},
     "output_type": "display_data"
    },
    {
     "name": "stdout",
     "output_type": "stream",
     "text": [
      "Hidden: 100, Layers: 2, LR: 0.001, batch_size: 2, Train Loss: 0.9074, Valid Loss: 0.9043, Train Acc: 0.7429, Valid Acc: 0.7500, Test Acc: 0.7500\n"
     ]
    },
    {
     "data": {
      "application/vnd.jupyter.widget-view+json": {
       "model_id": "2354fdb6089e492097d60cb541d702b6",
       "version_major": 2,
       "version_minor": 0
      },
      "text/plain": [
       "  0%|          | 0/50 [00:00<?, ?it/s]"
      ]
     },
     "metadata": {},
     "output_type": "display_data"
    },
    {
     "name": "stdout",
     "output_type": "stream",
     "text": [
      "Hidden: 100, Layers: 2, LR: 0.001, batch_size: 8, Train Loss: 0.9829, Valid Loss: 0.9935, Train Acc: 0.8014, Valid Acc: 0.8000, Test Acc: 0.8000\n"
     ]
    },
    {
     "data": {
      "application/vnd.jupyter.widget-view+json": {
       "model_id": "ad6aab21d53049d2aa66fb8da8b0e4d6",
       "version_major": 2,
       "version_minor": 0
      },
      "text/plain": [
       "  0%|          | 0/50 [00:00<?, ?it/s]"
      ]
     },
     "metadata": {},
     "output_type": "display_data"
    },
    {
     "name": "stdout",
     "output_type": "stream",
     "text": [
      "Hidden: 100, Layers: 2, LR: 0.001, batch_size: 32, Train Loss: 1.0677, Valid Loss: 1.0188, Train Acc: 0.7400, Valid Acc: 0.7500, Test Acc: 0.7500\n"
     ]
    },
    {
     "data": {
      "application/vnd.jupyter.widget-view+json": {
       "model_id": "c07dce01ec344f52ac20865e8f303d7e",
       "version_major": 2,
       "version_minor": 0
      },
      "text/plain": [
       "  0%|          | 0/50 [00:00<?, ?it/s]"
      ]
     },
     "metadata": {},
     "output_type": "display_data"
    },
    {
     "name": "stdout",
     "output_type": "stream",
     "text": [
      "Hidden: 100, Layers: 2, LR: 0.001, batch_size: 128, Train Loss: 1.0894, Valid Loss: 1.0887, Train Acc: 0.5457, Valid Acc: 0.6200, Test Acc: 0.6200\n"
     ]
    },
    {
     "data": {
      "application/vnd.jupyter.widget-view+json": {
       "model_id": "0b91e42031d74fbaa77c900988b04757",
       "version_major": 2,
       "version_minor": 0
      },
      "text/plain": [
       "  0%|          | 0/50 [00:00<?, ?it/s]"
      ]
     },
     "metadata": {},
     "output_type": "display_data"
    },
    {
     "name": "stdout",
     "output_type": "stream",
     "text": [
      "Hidden: 100, Layers: 2, LR: 0.0001, batch_size: 2, Train Loss: 0.8975, Valid Loss: 0.9127, Train Acc: 0.7586, Valid Acc: 0.7500, Test Acc: 0.7500\n"
     ]
    },
    {
     "data": {
      "application/vnd.jupyter.widget-view+json": {
       "model_id": "f1cbcc2a90e94a81aec50ccbd8386ec8",
       "version_major": 2,
       "version_minor": 0
      },
      "text/plain": [
       "  0%|          | 0/50 [00:00<?, ?it/s]"
      ]
     },
     "metadata": {},
     "output_type": "display_data"
    },
    {
     "name": "stdout",
     "output_type": "stream",
     "text": [
      "Hidden: 100, Layers: 2, LR: 0.0001, batch_size: 8, Train Loss: 0.9880, Valid Loss: 0.9932, Train Acc: 0.6471, Valid Acc: 0.6200, Test Acc: 0.6200\n"
     ]
    },
    {
     "data": {
      "application/vnd.jupyter.widget-view+json": {
       "model_id": "7815761b5e064e1b90800436b7e03801",
       "version_major": 2,
       "version_minor": 0
      },
      "text/plain": [
       "  0%|          | 0/50 [00:00<?, ?it/s]"
      ]
     },
     "metadata": {},
     "output_type": "display_data"
    },
    {
     "name": "stdout",
     "output_type": "stream",
     "text": [
      "Hidden: 100, Layers: 2, LR: 0.0001, batch_size: 32, Train Loss: 1.0691, Valid Loss: 1.0220, Train Acc: 0.5929, Valid Acc: 0.6600, Test Acc: 0.6600\n"
     ]
    },
    {
     "data": {
      "application/vnd.jupyter.widget-view+json": {
       "model_id": "251a5aea7544467285663b5773b5f059",
       "version_major": 2,
       "version_minor": 0
      },
      "text/plain": [
       "  0%|          | 0/50 [00:00<?, ?it/s]"
      ]
     },
     "metadata": {},
     "output_type": "display_data"
    },
    {
     "name": "stdout",
     "output_type": "stream",
     "text": [
      "Hidden: 100, Layers: 2, LR: 0.0001, batch_size: 128, Train Loss: 1.0980, Valid Loss: 1.0978, Train Acc: 0.7814, Valid Acc: 0.8400, Test Acc: 0.8400\n"
     ]
    },
    {
     "data": {
      "application/vnd.jupyter.widget-view+json": {
       "model_id": "45552865cb6e4baf8477b25124ec2450",
       "version_major": 2,
       "version_minor": 0
      },
      "text/plain": [
       "  0%|          | 0/50 [00:00<?, ?it/s]"
      ]
     },
     "metadata": {},
     "output_type": "display_data"
    },
    {
     "name": "stdout",
     "output_type": "stream",
     "text": [
      "Hidden: 100, Layers: 4, LR: 0.01, batch_size: 2, Train Loss: 1.0986, Valid Loss: 1.0986, Train Acc: 0.4886, Valid Acc: 0.5300, Test Acc: 0.5300\n"
     ]
    },
    {
     "data": {
      "application/vnd.jupyter.widget-view+json": {
       "model_id": "96b6646d949b44e082fa805748c2b02b",
       "version_major": 2,
       "version_minor": 0
      },
      "text/plain": [
       "  0%|          | 0/50 [00:00<?, ?it/s]"
      ]
     },
     "metadata": {},
     "output_type": "display_data"
    },
    {
     "name": "stdout",
     "output_type": "stream",
     "text": [
      "Hidden: 100, Layers: 4, LR: 0.01, batch_size: 8, Train Loss: 1.0986, Valid Loss: 1.0986, Train Acc: 0.4743, Valid Acc: 0.5300, Test Acc: 0.5300\n"
     ]
    },
    {
     "data": {
      "application/vnd.jupyter.widget-view+json": {
       "model_id": "34d6d449c5274ec4b9fedbda9dd68e01",
       "version_major": 2,
       "version_minor": 0
      },
      "text/plain": [
       "  0%|          | 0/50 [00:00<?, ?it/s]"
      ]
     },
     "metadata": {},
     "output_type": "display_data"
    },
    {
     "name": "stdout",
     "output_type": "stream",
     "text": [
      "Hidden: 100, Layers: 4, LR: 0.01, batch_size: 32, Train Loss: 1.0677, Valid Loss: 1.0223, Train Acc: 0.7300, Valid Acc: 0.7700, Test Acc: 0.7700\n"
     ]
    },
    {
     "data": {
      "application/vnd.jupyter.widget-view+json": {
       "model_id": "9660796921c34c6e98814a5b8590ba2f",
       "version_major": 2,
       "version_minor": 0
      },
      "text/plain": [
       "  0%|          | 0/50 [00:00<?, ?it/s]"
      ]
     },
     "metadata": {},
     "output_type": "display_data"
    },
    {
     "name": "stdout",
     "output_type": "stream",
     "text": [
      "Hidden: 100, Layers: 4, LR: 0.01, batch_size: 128, Train Loss: 1.0894, Valid Loss: 1.0888, Train Acc: 0.4971, Valid Acc: 0.5900, Test Acc: 0.5900\n"
     ]
    },
    {
     "data": {
      "application/vnd.jupyter.widget-view+json": {
       "model_id": "dd9376a8c7eb4322bc3bb6719a235dc3",
       "version_major": 2,
       "version_minor": 0
      },
      "text/plain": [
       "  0%|          | 0/50 [00:00<?, ?it/s]"
      ]
     },
     "metadata": {},
     "output_type": "display_data"
    },
    {
     "name": "stdout",
     "output_type": "stream",
     "text": [
      "Hidden: 100, Layers: 4, LR: 0.001, batch_size: 2, Train Loss: 0.8859, Valid Loss: 0.9175, Train Acc: 0.7629, Valid Acc: 0.7300, Test Acc: 0.7300\n"
     ]
    },
    {
     "data": {
      "application/vnd.jupyter.widget-view+json": {
       "model_id": "be68bcfeeb11416696781aa43a9a15b2",
       "version_major": 2,
       "version_minor": 0
      },
      "text/plain": [
       "  0%|          | 0/50 [00:00<?, ?it/s]"
      ]
     },
     "metadata": {},
     "output_type": "display_data"
    },
    {
     "name": "stdout",
     "output_type": "stream",
     "text": [
      "Hidden: 100, Layers: 4, LR: 0.001, batch_size: 8, Train Loss: 0.9817, Valid Loss: 0.9750, Train Acc: 0.8371, Valid Acc: 0.8200, Test Acc: 0.8200\n"
     ]
    },
    {
     "data": {
      "application/vnd.jupyter.widget-view+json": {
       "model_id": "546f7303e74d4631b8774099ef2a569a",
       "version_major": 2,
       "version_minor": 0
      },
      "text/plain": [
       "  0%|          | 0/50 [00:00<?, ?it/s]"
      ]
     },
     "metadata": {},
     "output_type": "display_data"
    },
    {
     "name": "stdout",
     "output_type": "stream",
     "text": [
      "Hidden: 100, Layers: 4, LR: 0.001, batch_size: 32, Train Loss: 1.0676, Valid Loss: 1.0218, Train Acc: 0.8300, Valid Acc: 0.8600, Test Acc: 0.8600\n"
     ]
    },
    {
     "data": {
      "application/vnd.jupyter.widget-view+json": {
       "model_id": "893057fb2717498d9ee6e332853ce1d3",
       "version_major": 2,
       "version_minor": 0
      },
      "text/plain": [
       "  0%|          | 0/50 [00:00<?, ?it/s]"
      ]
     },
     "metadata": {},
     "output_type": "display_data"
    },
    {
     "name": "stdout",
     "output_type": "stream",
     "text": [
      "Hidden: 100, Layers: 4, LR: 0.001, batch_size: 128, Train Loss: 1.0894, Valid Loss: 1.0887, Train Acc: 0.6857, Valid Acc: 0.7400, Test Acc: 0.7400\n"
     ]
    },
    {
     "data": {
      "application/vnd.jupyter.widget-view+json": {
       "model_id": "112c52c5e1784352844d572729a5fa90",
       "version_major": 2,
       "version_minor": 0
      },
      "text/plain": [
       "  0%|          | 0/50 [00:00<?, ?it/s]"
      ]
     },
     "metadata": {},
     "output_type": "display_data"
    },
    {
     "name": "stdout",
     "output_type": "stream",
     "text": [
      "Hidden: 100, Layers: 4, LR: 0.0001, batch_size: 2, Train Loss: 0.8921, Valid Loss: 0.8814, Train Acc: 0.7529, Valid Acc: 0.7800, Test Acc: 0.7800\n"
     ]
    },
    {
     "data": {
      "application/vnd.jupyter.widget-view+json": {
       "model_id": "747a55d03d8a4dd684fb350ab8879eaa",
       "version_major": 2,
       "version_minor": 0
      },
      "text/plain": [
       "  0%|          | 0/50 [00:00<?, ?it/s]"
      ]
     },
     "metadata": {},
     "output_type": "display_data"
    },
    {
     "name": "stdout",
     "output_type": "stream",
     "text": [
      "Hidden: 100, Layers: 4, LR: 0.0001, batch_size: 8, Train Loss: 0.9857, Valid Loss: 0.9779, Train Acc: 0.8186, Valid Acc: 0.8200, Test Acc: 0.8200\n"
     ]
    },
    {
     "data": {
      "application/vnd.jupyter.widget-view+json": {
       "model_id": "73558496d62a4062b761f2054806f2f5",
       "version_major": 2,
       "version_minor": 0
      },
      "text/plain": [
       "  0%|          | 0/50 [00:00<?, ?it/s]"
      ]
     },
     "metadata": {},
     "output_type": "display_data"
    },
    {
     "name": "stdout",
     "output_type": "stream",
     "text": [
      "Hidden: 100, Layers: 4, LR: 0.0001, batch_size: 32, Train Loss: 1.0681, Valid Loss: 1.0220, Train Acc: 0.6557, Valid Acc: 0.7300, Test Acc: 0.7300\n"
     ]
    },
    {
     "data": {
      "application/vnd.jupyter.widget-view+json": {
       "model_id": "20c1ad0094c24fc39137e3089e3b9d4f",
       "version_major": 2,
       "version_minor": 0
      },
      "text/plain": [
       "  0%|          | 0/50 [00:00<?, ?it/s]"
      ]
     },
     "metadata": {},
     "output_type": "display_data"
    },
    {
     "name": "stdout",
     "output_type": "stream",
     "text": [
      "Hidden: 100, Layers: 4, LR: 0.0001, batch_size: 128, Train Loss: 1.0974, Valid Loss: 1.0971, Train Acc: 0.8029, Valid Acc: 0.7800, Test Acc: 0.7800\n"
     ]
    },
    {
     "data": {
      "application/vnd.jupyter.widget-view+json": {
       "model_id": "79b124d068e943ae8e688507a4422488",
       "version_major": 2,
       "version_minor": 0
      },
      "text/plain": [
       "  0%|          | 0/50 [00:00<?, ?it/s]"
      ]
     },
     "metadata": {},
     "output_type": "display_data"
    },
    {
     "name": "stdout",
     "output_type": "stream",
     "text": [
      "Hidden: 100, Layers: 6, LR: 0.01, batch_size: 2, Train Loss: 1.0986, Valid Loss: 1.0986, Train Acc: 0.4886, Valid Acc: 0.5300, Test Acc: 0.5300\n"
     ]
    },
    {
     "data": {
      "application/vnd.jupyter.widget-view+json": {
       "model_id": "d8097d4bba1e4a6aa884d1d740f56e34",
       "version_major": 2,
       "version_minor": 0
      },
      "text/plain": [
       "  0%|          | 0/50 [00:00<?, ?it/s]"
      ]
     },
     "metadata": {},
     "output_type": "display_data"
    },
    {
     "name": "stdout",
     "output_type": "stream",
     "text": [
      "Hidden: 100, Layers: 6, LR: 0.01, batch_size: 8, Train Loss: 1.0986, Valid Loss: 1.0986, Train Acc: 0.4929, Valid Acc: 0.5300, Test Acc: 0.5300\n"
     ]
    },
    {
     "data": {
      "application/vnd.jupyter.widget-view+json": {
       "model_id": "d1e028b99766489abaed4a97ccf41ce4",
       "version_major": 2,
       "version_minor": 0
      },
      "text/plain": [
       "  0%|          | 0/50 [00:00<?, ?it/s]"
      ]
     },
     "metadata": {},
     "output_type": "display_data"
    },
    {
     "name": "stdout",
     "output_type": "stream",
     "text": [
      "Hidden: 100, Layers: 6, LR: 0.01, batch_size: 32, Train Loss: 1.0986, Valid Loss: 1.0986, Train Acc: 0.4771, Valid Acc: 0.5300, Test Acc: 0.5300\n"
     ]
    },
    {
     "data": {
      "application/vnd.jupyter.widget-view+json": {
       "model_id": "5f83eb2158b54624b3334abc895ec39c",
       "version_major": 2,
       "version_minor": 0
      },
      "text/plain": [
       "  0%|          | 0/50 [00:00<?, ?it/s]"
      ]
     },
     "metadata": {},
     "output_type": "display_data"
    },
    {
     "name": "stdout",
     "output_type": "stream",
     "text": [
      "Hidden: 100, Layers: 6, LR: 0.01, batch_size: 128, Train Loss: 1.0897, Valid Loss: 1.0888, Train Acc: 0.8229, Valid Acc: 0.8600, Test Acc: 0.8600\n"
     ]
    },
    {
     "data": {
      "application/vnd.jupyter.widget-view+json": {
       "model_id": "a8c509338bbb4751ad07eff2c37f5383",
       "version_major": 2,
       "version_minor": 0
      },
      "text/plain": [
       "  0%|          | 0/50 [00:00<?, ?it/s]"
      ]
     },
     "metadata": {},
     "output_type": "display_data"
    },
    {
     "name": "stdout",
     "output_type": "stream",
     "text": [
      "Hidden: 100, Layers: 6, LR: 0.001, batch_size: 2, Train Loss: 0.8971, Valid Loss: 0.8671, Train Acc: 0.7500, Valid Acc: 0.7900, Test Acc: 0.7900\n"
     ]
    },
    {
     "data": {
      "application/vnd.jupyter.widget-view+json": {
       "model_id": "df1ccb61d50640569799a01a61c5f26d",
       "version_major": 2,
       "version_minor": 0
      },
      "text/plain": [
       "  0%|          | 0/50 [00:00<?, ?it/s]"
      ]
     },
     "metadata": {},
     "output_type": "display_data"
    },
    {
     "name": "stdout",
     "output_type": "stream",
     "text": [
      "Hidden: 100, Layers: 6, LR: 0.001, batch_size: 8, Train Loss: 0.9867, Valid Loss: 0.9781, Train Acc: 0.7371, Valid Acc: 0.8200, Test Acc: 0.8200\n"
     ]
    },
    {
     "data": {
      "application/vnd.jupyter.widget-view+json": {
       "model_id": "cbafb61f551c4c9286189b60aa3c2b47",
       "version_major": 2,
       "version_minor": 0
      },
      "text/plain": [
       "  0%|          | 0/50 [00:00<?, ?it/s]"
      ]
     },
     "metadata": {},
     "output_type": "display_data"
    },
    {
     "name": "stdout",
     "output_type": "stream",
     "text": [
      "Hidden: 100, Layers: 6, LR: 0.001, batch_size: 32, Train Loss: 1.0676, Valid Loss: 1.0212, Train Acc: 0.8586, Valid Acc: 0.8600, Test Acc: 0.8600\n"
     ]
    },
    {
     "data": {
      "application/vnd.jupyter.widget-view+json": {
       "model_id": "7166689910a644d7947c9ede1c1ef53a",
       "version_major": 2,
       "version_minor": 0
      },
      "text/plain": [
       "  0%|          | 0/50 [00:00<?, ?it/s]"
      ]
     },
     "metadata": {},
     "output_type": "display_data"
    },
    {
     "name": "stdout",
     "output_type": "stream",
     "text": [
      "Hidden: 100, Layers: 6, LR: 0.001, batch_size: 128, Train Loss: 1.0894, Valid Loss: 1.0887, Train Acc: 0.7043, Valid Acc: 0.7400, Test Acc: 0.7400\n"
     ]
    },
    {
     "data": {
      "application/vnd.jupyter.widget-view+json": {
       "model_id": "4c7385a903bf4b3a9b7fdd6752cb5515",
       "version_major": 2,
       "version_minor": 0
      },
      "text/plain": [
       "  0%|          | 0/50 [00:00<?, ?it/s]"
      ]
     },
     "metadata": {},
     "output_type": "display_data"
    },
    {
     "name": "stdout",
     "output_type": "stream",
     "text": [
      "Hidden: 100, Layers: 6, LR: 0.0001, batch_size: 2, Train Loss: 0.8603, Valid Loss: 0.9470, Train Acc: 0.7886, Valid Acc: 0.7100, Test Acc: 0.7100\n"
     ]
    },
    {
     "data": {
      "application/vnd.jupyter.widget-view+json": {
       "model_id": "bfadb3a9dd414a80b8eec78382bb8ecf",
       "version_major": 2,
       "version_minor": 0
      },
      "text/plain": [
       "  0%|          | 0/50 [00:00<?, ?it/s]"
      ]
     },
     "metadata": {},
     "output_type": "display_data"
    },
    {
     "name": "stdout",
     "output_type": "stream",
     "text": [
      "Hidden: 100, Layers: 6, LR: 0.0001, batch_size: 8, Train Loss: 0.9823, Valid Loss: 0.9884, Train Acc: 0.9000, Valid Acc: 0.8600, Test Acc: 0.8600\n"
     ]
    },
    {
     "data": {
      "application/vnd.jupyter.widget-view+json": {
       "model_id": "39f8874ccc7d453bb392e1d94e22e0bb",
       "version_major": 2,
       "version_minor": 0
      },
      "text/plain": [
       "  0%|          | 0/50 [00:00<?, ?it/s]"
      ]
     },
     "metadata": {},
     "output_type": "display_data"
    },
    {
     "name": "stdout",
     "output_type": "stream",
     "text": [
      "Hidden: 100, Layers: 6, LR: 0.0001, batch_size: 32, Train Loss: 1.0681, Valid Loss: 1.0229, Train Acc: 0.7686, Valid Acc: 0.7600, Test Acc: 0.7600\n"
     ]
    },
    {
     "data": {
      "application/vnd.jupyter.widget-view+json": {
       "model_id": "0d2ce16ce1624847b08e0ab6328a66ee",
       "version_major": 2,
       "version_minor": 0
      },
      "text/plain": [
       "  0%|          | 0/50 [00:00<?, ?it/s]"
      ]
     },
     "metadata": {},
     "output_type": "display_data"
    },
    {
     "name": "stdout",
     "output_type": "stream",
     "text": [
      "Hidden: 100, Layers: 6, LR: 0.0001, batch_size: 128, Train Loss: 1.0986, Valid Loss: 1.0986, Train Acc: 0.7757, Valid Acc: 0.8000, Test Acc: 0.8000\n"
     ]
    },
    {
     "data": {
      "application/vnd.jupyter.widget-view+json": {
       "model_id": "241ab071488044088713bc3489fd2e96",
       "version_major": 2,
       "version_minor": 0
      },
      "text/plain": [
       "  0%|          | 0/50 [00:00<?, ?it/s]"
      ]
     },
     "metadata": {},
     "output_type": "display_data"
    },
    {
     "name": "stdout",
     "output_type": "stream",
     "text": [
      "Hidden: 500, Layers: 2, LR: 0.01, batch_size: 2, Train Loss: 1.0986, Valid Loss: 1.0986, Train Acc: 0.4886, Valid Acc: 0.5300, Test Acc: 0.5300\n"
     ]
    },
    {
     "data": {
      "application/vnd.jupyter.widget-view+json": {
       "model_id": "1ac4ef7d78254868adb9359ae5bc8fd9",
       "version_major": 2,
       "version_minor": 0
      },
      "text/plain": [
       "  0%|          | 0/50 [00:00<?, ?it/s]"
      ]
     },
     "metadata": {},
     "output_type": "display_data"
    },
    {
     "name": "stdout",
     "output_type": "stream",
     "text": [
      "Hidden: 500, Layers: 2, LR: 0.01, batch_size: 8, Train Loss: 1.0986, Valid Loss: 1.0986, Train Acc: 0.4843, Valid Acc: 0.5300, Test Acc: 0.5300\n"
     ]
    },
    {
     "data": {
      "application/vnd.jupyter.widget-view+json": {
       "model_id": "33edf7d79f034cee89c8ef6b32003c3e",
       "version_major": 2,
       "version_minor": 0
      },
      "text/plain": [
       "  0%|          | 0/50 [00:00<?, ?it/s]"
      ]
     },
     "metadata": {},
     "output_type": "display_data"
    },
    {
     "name": "stdout",
     "output_type": "stream",
     "text": [
      "Hidden: 500, Layers: 2, LR: 0.01, batch_size: 32, Train Loss: 1.0676, Valid Loss: 1.0213, Train Acc: 0.7643, Valid Acc: 0.8200, Test Acc: 0.8200\n"
     ]
    },
    {
     "data": {
      "application/vnd.jupyter.widget-view+json": {
       "model_id": "3849935c1ebd49a8a42e58b4d2a36004",
       "version_major": 2,
       "version_minor": 0
      },
      "text/plain": [
       "  0%|          | 0/50 [00:00<?, ?it/s]"
      ]
     },
     "metadata": {},
     "output_type": "display_data"
    },
    {
     "name": "stdout",
     "output_type": "stream",
     "text": [
      "Hidden: 500, Layers: 2, LR: 0.01, batch_size: 128, Train Loss: 1.0894, Valid Loss: 1.0890, Train Acc: 0.5014, Valid Acc: 0.5700, Test Acc: 0.5700\n"
     ]
    },
    {
     "data": {
      "application/vnd.jupyter.widget-view+json": {
       "model_id": "7552d9bdb8114f0680b828ea196c0b34",
       "version_major": 2,
       "version_minor": 0
      },
      "text/plain": [
       "  0%|          | 0/50 [00:00<?, ?it/s]"
      ]
     },
     "metadata": {},
     "output_type": "display_data"
    },
    {
     "name": "stdout",
     "output_type": "stream",
     "text": [
      "Hidden: 500, Layers: 2, LR: 0.001, batch_size: 2, Train Loss: 0.8782, Valid Loss: 0.9111, Train Acc: 0.7743, Valid Acc: 0.7300, Test Acc: 0.7300\n"
     ]
    },
    {
     "data": {
      "application/vnd.jupyter.widget-view+json": {
       "model_id": "5b4f52f3485e4f57b292c79c4ba6b08a",
       "version_major": 2,
       "version_minor": 0
      },
      "text/plain": [
       "  0%|          | 0/50 [00:00<?, ?it/s]"
      ]
     },
     "metadata": {},
     "output_type": "display_data"
    },
    {
     "name": "stdout",
     "output_type": "stream",
     "text": [
      "Hidden: 500, Layers: 2, LR: 0.001, batch_size: 8, Train Loss: 0.9838, Valid Loss: 0.9769, Train Acc: 0.8186, Valid Acc: 0.8200, Test Acc: 0.8200\n"
     ]
    },
    {
     "data": {
      "application/vnd.jupyter.widget-view+json": {
       "model_id": "653492ce30d34eaf85f6cb85f048d3e5",
       "version_major": 2,
       "version_minor": 0
      },
      "text/plain": [
       "  0%|          | 0/50 [00:00<?, ?it/s]"
      ]
     },
     "metadata": {},
     "output_type": "display_data"
    },
    {
     "name": "stdout",
     "output_type": "stream",
     "text": [
      "Hidden: 500, Layers: 2, LR: 0.001, batch_size: 32, Train Loss: 1.0676, Valid Loss: 1.0184, Train Acc: 0.8357, Valid Acc: 0.8600, Test Acc: 0.8600\n"
     ]
    },
    {
     "data": {
      "application/vnd.jupyter.widget-view+json": {
       "model_id": "448be68679c44bd4940c399ba8361de4",
       "version_major": 2,
       "version_minor": 0
      },
      "text/plain": [
       "  0%|          | 0/50 [00:00<?, ?it/s]"
      ]
     },
     "metadata": {},
     "output_type": "display_data"
    },
    {
     "name": "stdout",
     "output_type": "stream",
     "text": [
      "Hidden: 500, Layers: 2, LR: 0.001, batch_size: 128, Train Loss: 1.0894, Valid Loss: 1.0887, Train Acc: 0.5914, Valid Acc: 0.6500, Test Acc: 0.6500\n"
     ]
    },
    {
     "data": {
      "application/vnd.jupyter.widget-view+json": {
       "model_id": "f69d3128bdb144ba81fb27bcb6d1532e",
       "version_major": 2,
       "version_minor": 0
      },
      "text/plain": [
       "  0%|          | 0/50 [00:00<?, ?it/s]"
      ]
     },
     "metadata": {},
     "output_type": "display_data"
    },
    {
     "name": "stdout",
     "output_type": "stream",
     "text": [
      "Hidden: 500, Layers: 2, LR: 0.0001, batch_size: 2, Train Loss: 0.8725, Valid Loss: 0.9137, Train Acc: 0.7843, Valid Acc: 0.7500, Test Acc: 0.7500\n"
     ]
    },
    {
     "data": {
      "application/vnd.jupyter.widget-view+json": {
       "model_id": "4c6440c090d34a09ab68ab282b6fe313",
       "version_major": 2,
       "version_minor": 0
      },
      "text/plain": [
       "  0%|          | 0/50 [00:00<?, ?it/s]"
      ]
     },
     "metadata": {},
     "output_type": "display_data"
    },
    {
     "name": "stdout",
     "output_type": "stream",
     "text": [
      "Hidden: 500, Layers: 2, LR: 0.0001, batch_size: 8, Train Loss: 0.9815, Valid Loss: 0.9755, Train Acc: 0.8229, Valid Acc: 0.7800, Test Acc: 0.7800\n"
     ]
    },
    {
     "data": {
      "application/vnd.jupyter.widget-view+json": {
       "model_id": "3740bef4659f4a74bb2ef947c7cfdc43",
       "version_major": 2,
       "version_minor": 0
      },
      "text/plain": [
       "  0%|          | 0/50 [00:00<?, ?it/s]"
      ]
     },
     "metadata": {},
     "output_type": "display_data"
    },
    {
     "name": "stdout",
     "output_type": "stream",
     "text": [
      "Hidden: 500, Layers: 2, LR: 0.0001, batch_size: 32, Train Loss: 1.0681, Valid Loss: 1.0232, Train Acc: 0.5729, Valid Acc: 0.6400, Test Acc: 0.6400\n"
     ]
    },
    {
     "data": {
      "application/vnd.jupyter.widget-view+json": {
       "model_id": "f08085f583724426ad8ed209d3a47f2b",
       "version_major": 2,
       "version_minor": 0
      },
      "text/plain": [
       "  0%|          | 0/50 [00:00<?, ?it/s]"
      ]
     },
     "metadata": {},
     "output_type": "display_data"
    },
    {
     "name": "stdout",
     "output_type": "stream",
     "text": [
      "Hidden: 500, Layers: 2, LR: 0.0001, batch_size: 128, Train Loss: 1.0896, Valid Loss: 1.0889, Train Acc: 0.4171, Valid Acc: 0.4700, Test Acc: 0.4700\n"
     ]
    },
    {
     "data": {
      "application/vnd.jupyter.widget-view+json": {
       "model_id": "1dc652ecef834f9c91bb6d2ae3831f8c",
       "version_major": 2,
       "version_minor": 0
      },
      "text/plain": [
       "  0%|          | 0/50 [00:00<?, ?it/s]"
      ]
     },
     "metadata": {},
     "output_type": "display_data"
    },
    {
     "name": "stdout",
     "output_type": "stream",
     "text": [
      "Hidden: 500, Layers: 4, LR: 0.01, batch_size: 2, Train Loss: 1.0986, Valid Loss: 1.0986, Train Acc: 0.4886, Valid Acc: 0.5300, Test Acc: 0.5300\n"
     ]
    },
    {
     "data": {
      "application/vnd.jupyter.widget-view+json": {
       "model_id": "bb7f10b02a154ab2ba9ee953c3208dd1",
       "version_major": 2,
       "version_minor": 0
      },
      "text/plain": [
       "  0%|          | 0/50 [00:00<?, ?it/s]"
      ]
     },
     "metadata": {},
     "output_type": "display_data"
    },
    {
     "name": "stdout",
     "output_type": "stream",
     "text": [
      "Hidden: 500, Layers: 4, LR: 0.01, batch_size: 8, Train Loss: 0.9924, Valid Loss: 0.9839, Train Acc: 0.9257, Valid Acc: 0.9300, Test Acc: 0.9300\n"
     ]
    },
    {
     "data": {
      "application/vnd.jupyter.widget-view+json": {
       "model_id": "a004347bc64241259dd9427abfcb25b8",
       "version_major": 2,
       "version_minor": 0
      },
      "text/plain": [
       "  0%|          | 0/50 [00:00<?, ?it/s]"
      ]
     },
     "metadata": {},
     "output_type": "display_data"
    },
    {
     "name": "stdout",
     "output_type": "stream",
     "text": [
      "Hidden: 500, Layers: 4, LR: 0.01, batch_size: 32, Train Loss: 1.0692, Valid Loss: 1.0304, Train Acc: 0.9100, Valid Acc: 0.9200, Test Acc: 0.9200\n"
     ]
    },
    {
     "data": {
      "application/vnd.jupyter.widget-view+json": {
       "model_id": "9c7e86a8edb9487eb889cc45ed9a1352",
       "version_major": 2,
       "version_minor": 0
      },
      "text/plain": [
       "  0%|          | 0/50 [00:00<?, ?it/s]"
      ]
     },
     "metadata": {},
     "output_type": "display_data"
    },
    {
     "name": "stdout",
     "output_type": "stream",
     "text": [
      "Hidden: 500, Layers: 4, LR: 0.01, batch_size: 128, Train Loss: 1.0895, Valid Loss: 1.0894, Train Acc: 0.3171, Valid Acc: 0.4400, Test Acc: 0.4400\n"
     ]
    },
    {
     "data": {
      "application/vnd.jupyter.widget-view+json": {
       "model_id": "40fab506920c4b6bb71663aa258c0655",
       "version_major": 2,
       "version_minor": 0
      },
      "text/plain": [
       "  0%|          | 0/50 [00:00<?, ?it/s]"
      ]
     },
     "metadata": {},
     "output_type": "display_data"
    },
    {
     "name": "stdout",
     "output_type": "stream",
     "text": [
      "Hidden: 500, Layers: 4, LR: 0.001, batch_size: 2, Train Loss: 0.8982, Valid Loss: 0.9815, Train Acc: 0.7514, Valid Acc: 0.6500, Test Acc: 0.6500\n"
     ]
    },
    {
     "data": {
      "application/vnd.jupyter.widget-view+json": {
       "model_id": "0f5299fd19a145249de3b534ce09b226",
       "version_major": 2,
       "version_minor": 0
      },
      "text/plain": [
       "  0%|          | 0/50 [00:00<?, ?it/s]"
      ]
     },
     "metadata": {},
     "output_type": "display_data"
    },
    {
     "name": "stdout",
     "output_type": "stream",
     "text": [
      "Hidden: 500, Layers: 4, LR: 0.001, batch_size: 8, Train Loss: 0.9832, Valid Loss: 0.9746, Train Acc: 0.8086, Valid Acc: 0.8200, Test Acc: 0.8200\n"
     ]
    },
    {
     "data": {
      "application/vnd.jupyter.widget-view+json": {
       "model_id": "dd0a193f32134696af7bb749d56ff426",
       "version_major": 2,
       "version_minor": 0
      },
      "text/plain": [
       "  0%|          | 0/50 [00:00<?, ?it/s]"
      ]
     },
     "metadata": {},
     "output_type": "display_data"
    },
    {
     "name": "stdout",
     "output_type": "stream",
     "text": [
      "Hidden: 500, Layers: 4, LR: 0.001, batch_size: 32, Train Loss: 1.0676, Valid Loss: 1.0216, Train Acc: 0.8543, Valid Acc: 0.8600, Test Acc: 0.8600\n"
     ]
    },
    {
     "data": {
      "application/vnd.jupyter.widget-view+json": {
       "model_id": "41a7102989604b16a835b35a91edf886",
       "version_major": 2,
       "version_minor": 0
      },
      "text/plain": [
       "  0%|          | 0/50 [00:00<?, ?it/s]"
      ]
     },
     "metadata": {},
     "output_type": "display_data"
    },
    {
     "name": "stdout",
     "output_type": "stream",
     "text": [
      "Hidden: 500, Layers: 4, LR: 0.001, batch_size: 128, Train Loss: 1.0894, Valid Loss: 1.0887, Train Acc: 0.7786, Valid Acc: 0.8000, Test Acc: 0.8000\n"
     ]
    },
    {
     "data": {
      "application/vnd.jupyter.widget-view+json": {
       "model_id": "6a3822f5b87b46c7b14545a767e6db02",
       "version_major": 2,
       "version_minor": 0
      },
      "text/plain": [
       "  0%|          | 0/50 [00:00<?, ?it/s]"
      ]
     },
     "metadata": {},
     "output_type": "display_data"
    },
    {
     "name": "stdout",
     "output_type": "stream",
     "text": [
      "Hidden: 500, Layers: 4, LR: 0.0001, batch_size: 2, Train Loss: 0.9067, Valid Loss: 0.9061, Train Acc: 0.7286, Valid Acc: 0.7500, Test Acc: 0.7500\n"
     ]
    },
    {
     "data": {
      "application/vnd.jupyter.widget-view+json": {
       "model_id": "52114b8f399b4d5a89a84ddce023850c",
       "version_major": 2,
       "version_minor": 0
      },
      "text/plain": [
       "  0%|          | 0/50 [00:00<?, ?it/s]"
      ]
     },
     "metadata": {},
     "output_type": "display_data"
    },
    {
     "name": "stdout",
     "output_type": "stream",
     "text": [
      "Hidden: 500, Layers: 4, LR: 0.0001, batch_size: 8, Train Loss: 0.9794, Valid Loss: 0.9804, Train Acc: 0.9500, Valid Acc: 0.9100, Test Acc: 0.9100\n"
     ]
    },
    {
     "data": {
      "application/vnd.jupyter.widget-view+json": {
       "model_id": "6ac3c076e3bb41c795a02ba12bb04a6f",
       "version_major": 2,
       "version_minor": 0
      },
      "text/plain": [
       "  0%|          | 0/50 [00:00<?, ?it/s]"
      ]
     },
     "metadata": {},
     "output_type": "display_data"
    },
    {
     "name": "stdout",
     "output_type": "stream",
     "text": [
      "Hidden: 500, Layers: 4, LR: 0.0001, batch_size: 32, Train Loss: 1.0676, Valid Loss: 1.0184, Train Acc: 0.8286, Valid Acc: 0.8600, Test Acc: 0.8600\n"
     ]
    },
    {
     "data": {
      "application/vnd.jupyter.widget-view+json": {
       "model_id": "aca49f370e5f45d8a1bbf0918a6a9dcd",
       "version_major": 2,
       "version_minor": 0
      },
      "text/plain": [
       "  0%|          | 0/50 [00:00<?, ?it/s]"
      ]
     },
     "metadata": {},
     "output_type": "display_data"
    },
    {
     "name": "stdout",
     "output_type": "stream",
     "text": [
      "Hidden: 500, Layers: 4, LR: 0.0001, batch_size: 128, Train Loss: 1.0894, Valid Loss: 1.0887, Train Acc: 0.5814, Valid Acc: 0.6100, Test Acc: 0.6100\n"
     ]
    },
    {
     "data": {
      "application/vnd.jupyter.widget-view+json": {
       "model_id": "f00f941694654cb2b90a21d075ead553",
       "version_major": 2,
       "version_minor": 0
      },
      "text/plain": [
       "  0%|          | 0/50 [00:00<?, ?it/s]"
      ]
     },
     "metadata": {},
     "output_type": "display_data"
    },
    {
     "name": "stdout",
     "output_type": "stream",
     "text": [
      "Hidden: 500, Layers: 6, LR: 0.01, batch_size: 2, Train Loss: 1.0986, Valid Loss: 1.0986, Train Acc: 0.4886, Valid Acc: 0.5300, Test Acc: 0.5300\n"
     ]
    },
    {
     "data": {
      "application/vnd.jupyter.widget-view+json": {
       "model_id": "07fb6d42e63f4d19884775c33de8d59e",
       "version_major": 2,
       "version_minor": 0
      },
      "text/plain": [
       "  0%|          | 0/50 [00:00<?, ?it/s]"
      ]
     },
     "metadata": {},
     "output_type": "display_data"
    },
    {
     "name": "stdout",
     "output_type": "stream",
     "text": [
      "Hidden: 500, Layers: 6, LR: 0.01, batch_size: 8, Train Loss: 1.0986, Valid Loss: 1.0986, Train Acc: 0.4914, Valid Acc: 0.5300, Test Acc: 0.5300\n"
     ]
    },
    {
     "data": {
      "application/vnd.jupyter.widget-view+json": {
       "model_id": "f6df502810464f7f9440a69259c15e3c",
       "version_major": 2,
       "version_minor": 0
      },
      "text/plain": [
       "  0%|          | 0/50 [00:00<?, ?it/s]"
      ]
     },
     "metadata": {},
     "output_type": "display_data"
    },
    {
     "name": "stdout",
     "output_type": "stream",
     "text": [
      "Hidden: 500, Layers: 6, LR: 0.01, batch_size: 32, Train Loss: 1.0986, Valid Loss: 1.0986, Train Acc: 0.4886, Valid Acc: 0.5300, Test Acc: 0.5300\n"
     ]
    },
    {
     "data": {
      "application/vnd.jupyter.widget-view+json": {
       "model_id": "6d69f5bccb4142a2a452418ef15f532c",
       "version_major": 2,
       "version_minor": 0
      },
      "text/plain": [
       "  0%|          | 0/50 [00:00<?, ?it/s]"
      ]
     },
     "metadata": {},
     "output_type": "display_data"
    },
    {
     "name": "stdout",
     "output_type": "stream",
     "text": [
      "Hidden: 500, Layers: 6, LR: 0.01, batch_size: 128, Train Loss: 1.0894, Valid Loss: 1.0887, Train Acc: 0.7443, Valid Acc: 0.7700, Test Acc: 0.7700\n"
     ]
    },
    {
     "data": {
      "application/vnd.jupyter.widget-view+json": {
       "model_id": "4aa50b46c1e449d4a6cc8cc947dea65c",
       "version_major": 2,
       "version_minor": 0
      },
      "text/plain": [
       "  0%|          | 0/50 [00:00<?, ?it/s]"
      ]
     },
     "metadata": {},
     "output_type": "display_data"
    },
    {
     "name": "stdout",
     "output_type": "stream",
     "text": [
      "Hidden: 500, Layers: 6, LR: 0.001, batch_size: 2, Train Loss: 0.9100, Valid Loss: 0.9359, Train Acc: 0.7414, Valid Acc: 0.7100, Test Acc: 0.7100\n"
     ]
    },
    {
     "data": {
      "application/vnd.jupyter.widget-view+json": {
       "model_id": "d49c8d595d954da8b9f204caf53c1026",
       "version_major": 2,
       "version_minor": 0
      },
      "text/plain": [
       "  0%|          | 0/50 [00:00<?, ?it/s]"
      ]
     },
     "metadata": {},
     "output_type": "display_data"
    },
    {
     "name": "stdout",
     "output_type": "stream",
     "text": [
      "Hidden: 500, Layers: 6, LR: 0.001, batch_size: 8, Train Loss: 0.9874, Valid Loss: 0.9741, Train Acc: 0.7643, Valid Acc: 0.8100, Test Acc: 0.8100\n"
     ]
    },
    {
     "data": {
      "application/vnd.jupyter.widget-view+json": {
       "model_id": "93030f6887c447f881648d5efc7b1262",
       "version_major": 2,
       "version_minor": 0
      },
      "text/plain": [
       "  0%|          | 0/50 [00:00<?, ?it/s]"
      ]
     },
     "metadata": {},
     "output_type": "display_data"
    },
    {
     "name": "stdout",
     "output_type": "stream",
     "text": [
      "Hidden: 500, Layers: 6, LR: 0.001, batch_size: 32, Train Loss: 1.0676, Valid Loss: 1.0222, Train Acc: 0.8600, Valid Acc: 0.8900, Test Acc: 0.8900\n"
     ]
    },
    {
     "data": {
      "application/vnd.jupyter.widget-view+json": {
       "model_id": "70753b4fb93e4303bdbd09c7b9dbfc30",
       "version_major": 2,
       "version_minor": 0
      },
      "text/plain": [
       "  0%|          | 0/50 [00:00<?, ?it/s]"
      ]
     },
     "metadata": {},
     "output_type": "display_data"
    },
    {
     "name": "stdout",
     "output_type": "stream",
     "text": [
      "Hidden: 500, Layers: 6, LR: 0.001, batch_size: 128, Train Loss: 1.0894, Valid Loss: 1.0888, Train Acc: 0.7800, Valid Acc: 0.7900, Test Acc: 0.7900\n"
     ]
    },
    {
     "data": {
      "application/vnd.jupyter.widget-view+json": {
       "model_id": "a3ec0c8d91f7459586b8919ba4e2a5b1",
       "version_major": 2,
       "version_minor": 0
      },
      "text/plain": [
       "  0%|          | 0/50 [00:00<?, ?it/s]"
      ]
     },
     "metadata": {},
     "output_type": "display_data"
    },
    {
     "name": "stdout",
     "output_type": "stream",
     "text": [
      "Hidden: 500, Layers: 6, LR: 0.0001, batch_size: 2, Train Loss: 0.8883, Valid Loss: 0.9520, Train Acc: 0.7543, Valid Acc: 0.6900, Test Acc: 0.6900\n"
     ]
    },
    {
     "data": {
      "application/vnd.jupyter.widget-view+json": {
       "model_id": "d50d450280d04d09949a62ee22291138",
       "version_major": 2,
       "version_minor": 0
      },
      "text/plain": [
       "  0%|          | 0/50 [00:00<?, ?it/s]"
      ]
     },
     "metadata": {},
     "output_type": "display_data"
    },
    {
     "name": "stdout",
     "output_type": "stream",
     "text": [
      "Hidden: 500, Layers: 6, LR: 0.0001, batch_size: 8, Train Loss: 0.9800, Valid Loss: 0.9758, Train Acc: 0.9357, Valid Acc: 0.8700, Test Acc: 0.8700\n"
     ]
    },
    {
     "data": {
      "application/vnd.jupyter.widget-view+json": {
       "model_id": "2b674f12cd834911b96900ec886ca958",
       "version_major": 2,
       "version_minor": 0
      },
      "text/plain": [
       "  0%|          | 0/50 [00:00<?, ?it/s]"
      ]
     },
     "metadata": {},
     "output_type": "display_data"
    },
    {
     "name": "stdout",
     "output_type": "stream",
     "text": [
      "Hidden: 500, Layers: 6, LR: 0.0001, batch_size: 32, Train Loss: 1.0676, Valid Loss: 1.0233, Train Acc: 0.8414, Valid Acc: 0.8300, Test Acc: 0.8300\n"
     ]
    },
    {
     "data": {
      "application/vnd.jupyter.widget-view+json": {
       "model_id": "6ce26fe98d1248b9aadad72988604b67",
       "version_major": 2,
       "version_minor": 0
      },
      "text/plain": [
       "  0%|          | 0/50 [00:00<?, ?it/s]"
      ]
     },
     "metadata": {},
     "output_type": "display_data"
    },
    {
     "name": "stdout",
     "output_type": "stream",
     "text": [
      "Hidden: 500, Layers: 6, LR: 0.0001, batch_size: 128, Train Loss: 1.0897, Valid Loss: 1.0888, Train Acc: 0.6929, Valid Acc: 0.7200, Test Acc: 0.7200\n"
     ]
    },
    {
     "data": {
      "application/vnd.jupyter.widget-view+json": {
       "model_id": "2ba519aaf62a4f00a34ee36035229c33",
       "version_major": 2,
       "version_minor": 0
      },
      "text/plain": [
       "  0%|          | 0/50 [00:00<?, ?it/s]"
      ]
     },
     "metadata": {},
     "output_type": "display_data"
    },
    {
     "name": "stdout",
     "output_type": "stream",
     "text": [
      "Hidden: 1000, Layers: 2, LR: 0.01, batch_size: 2, Train Loss: 1.0986, Valid Loss: 1.0986, Train Acc: 0.4871, Valid Acc: 0.5300, Test Acc: 0.5300\n"
     ]
    },
    {
     "data": {
      "application/vnd.jupyter.widget-view+json": {
       "model_id": "4e53ae4ae52b4b54856b7a3afc49f48d",
       "version_major": 2,
       "version_minor": 0
      },
      "text/plain": [
       "  0%|          | 0/50 [00:00<?, ?it/s]"
      ]
     },
     "metadata": {},
     "output_type": "display_data"
    },
    {
     "name": "stdout",
     "output_type": "stream",
     "text": [
      "Hidden: 1000, Layers: 2, LR: 0.01, batch_size: 8, Train Loss: 0.9969, Valid Loss: 0.9956, Train Acc: 0.6229, Valid Acc: 0.6800, Test Acc: 0.6800\n"
     ]
    },
    {
     "data": {
      "application/vnd.jupyter.widget-view+json": {
       "model_id": "91692ec8a01d4780883f6cc95b4b63c4",
       "version_major": 2,
       "version_minor": 0
      },
      "text/plain": [
       "  0%|          | 0/50 [00:00<?, ?it/s]"
      ]
     },
     "metadata": {},
     "output_type": "display_data"
    },
    {
     "name": "stdout",
     "output_type": "stream",
     "text": [
      "Hidden: 1000, Layers: 2, LR: 0.01, batch_size: 32, Train Loss: 1.0679, Valid Loss: 1.0213, Train Acc: 0.6314, Valid Acc: 0.6300, Test Acc: 0.6300\n"
     ]
    },
    {
     "data": {
      "application/vnd.jupyter.widget-view+json": {
       "model_id": "b7cc04f0f0004a9bbb084565fd175ad4",
       "version_major": 2,
       "version_minor": 0
      },
      "text/plain": [
       "  0%|          | 0/50 [00:00<?, ?it/s]"
      ]
     },
     "metadata": {},
     "output_type": "display_data"
    },
    {
     "name": "stdout",
     "output_type": "stream",
     "text": [
      "Hidden: 1000, Layers: 2, LR: 0.01, batch_size: 128, Train Loss: 1.0894, Valid Loss: 1.0888, Train Acc: 0.7114, Valid Acc: 0.7900, Test Acc: 0.7900\n"
     ]
    },
    {
     "data": {
      "application/vnd.jupyter.widget-view+json": {
       "model_id": "c5aaf9d4445745c59c5cdcc803f01899",
       "version_major": 2,
       "version_minor": 0
      },
      "text/plain": [
       "  0%|          | 0/50 [00:00<?, ?it/s]"
      ]
     },
     "metadata": {},
     "output_type": "display_data"
    },
    {
     "name": "stdout",
     "output_type": "stream",
     "text": [
      "Hidden: 1000, Layers: 2, LR: 0.001, batch_size: 2, Train Loss: 0.9250, Valid Loss: 0.8658, Train Acc: 0.7229, Valid Acc: 0.7900, Test Acc: 0.7900\n"
     ]
    },
    {
     "data": {
      "application/vnd.jupyter.widget-view+json": {
       "model_id": "0f94ee87855242eb8684b9b4693ea6eb",
       "version_major": 2,
       "version_minor": 0
      },
      "text/plain": [
       "  0%|          | 0/50 [00:00<?, ?it/s]"
      ]
     },
     "metadata": {},
     "output_type": "display_data"
    },
    {
     "name": "stdout",
     "output_type": "stream",
     "text": [
      "Hidden: 1000, Layers: 2, LR: 0.001, batch_size: 8, Train Loss: 0.9839, Valid Loss: 0.9756, Train Acc: 0.7786, Valid Acc: 0.8100, Test Acc: 0.8100\n"
     ]
    },
    {
     "data": {
      "application/vnd.jupyter.widget-view+json": {
       "model_id": "d1300540b7684793a875f5ab8eb8f0f0",
       "version_major": 2,
       "version_minor": 0
      },
      "text/plain": [
       "  0%|          | 0/50 [00:00<?, ?it/s]"
      ]
     },
     "metadata": {},
     "output_type": "display_data"
    },
    {
     "name": "stdout",
     "output_type": "stream",
     "text": [
      "Hidden: 1000, Layers: 2, LR: 0.001, batch_size: 32, Train Loss: 1.0676, Valid Loss: 1.0209, Train Acc: 0.8186, Valid Acc: 0.8300, Test Acc: 0.8300\n"
     ]
    },
    {
     "data": {
      "application/vnd.jupyter.widget-view+json": {
       "model_id": "67d391b6076d4739a6cb26424f6ac444",
       "version_major": 2,
       "version_minor": 0
      },
      "text/plain": [
       "  0%|          | 0/50 [00:00<?, ?it/s]"
      ]
     },
     "metadata": {},
     "output_type": "display_data"
    },
    {
     "name": "stdout",
     "output_type": "stream",
     "text": [
      "Hidden: 1000, Layers: 2, LR: 0.001, batch_size: 128, Train Loss: 1.0894, Valid Loss: 1.0887, Train Acc: 0.6100, Valid Acc: 0.7000, Test Acc: 0.7000\n"
     ]
    },
    {
     "data": {
      "application/vnd.jupyter.widget-view+json": {
       "model_id": "30922c6694ad4e42a3022a8245f04ad6",
       "version_major": 2,
       "version_minor": 0
      },
      "text/plain": [
       "  0%|          | 0/50 [00:00<?, ?it/s]"
      ]
     },
     "metadata": {},
     "output_type": "display_data"
    },
    {
     "name": "stdout",
     "output_type": "stream",
     "text": [
      "Hidden: 1000, Layers: 2, LR: 0.0001, batch_size: 2, Train Loss: 0.8877, Valid Loss: 0.9118, Train Acc: 0.7671, Valid Acc: 0.7500, Test Acc: 0.7500\n"
     ]
    },
    {
     "data": {
      "application/vnd.jupyter.widget-view+json": {
       "model_id": "fc730f7376144d8d96646df2bc243921",
       "version_major": 2,
       "version_minor": 0
      },
      "text/plain": [
       "  0%|          | 0/50 [00:00<?, ?it/s]"
      ]
     },
     "metadata": {},
     "output_type": "display_data"
    },
    {
     "name": "stdout",
     "output_type": "stream",
     "text": [
      "Hidden: 1000, Layers: 2, LR: 0.0001, batch_size: 8, Train Loss: 0.9821, Valid Loss: 0.9751, Train Acc: 0.8629, Valid Acc: 0.8400, Test Acc: 0.8400\n"
     ]
    },
    {
     "data": {
      "application/vnd.jupyter.widget-view+json": {
       "model_id": "27023f05105d492094571be49d553c3c",
       "version_major": 2,
       "version_minor": 0
      },
      "text/plain": [
       "  0%|          | 0/50 [00:00<?, ?it/s]"
      ]
     },
     "metadata": {},
     "output_type": "display_data"
    },
    {
     "name": "stdout",
     "output_type": "stream",
     "text": [
      "Hidden: 1000, Layers: 2, LR: 0.0001, batch_size: 32, Train Loss: 1.0679, Valid Loss: 1.0209, Train Acc: 0.6857, Valid Acc: 0.7600, Test Acc: 0.7600\n"
     ]
    },
    {
     "data": {
      "application/vnd.jupyter.widget-view+json": {
       "model_id": "2dba12df446f495a98e607d0ca1a4ff0",
       "version_major": 2,
       "version_minor": 0
      },
      "text/plain": [
       "  0%|          | 0/50 [00:00<?, ?it/s]"
      ]
     },
     "metadata": {},
     "output_type": "display_data"
    },
    {
     "name": "stdout",
     "output_type": "stream",
     "text": [
      "Hidden: 1000, Layers: 2, LR: 0.0001, batch_size: 128, Train Loss: 1.0895, Valid Loss: 1.0888, Train Acc: 0.4486, Valid Acc: 0.4800, Test Acc: 0.4800\n"
     ]
    },
    {
     "data": {
      "application/vnd.jupyter.widget-view+json": {
       "model_id": "f6e19d4fb8754e789169dbf52ce86826",
       "version_major": 2,
       "version_minor": 0
      },
      "text/plain": [
       "  0%|          | 0/50 [00:00<?, ?it/s]"
      ]
     },
     "metadata": {},
     "output_type": "display_data"
    },
    {
     "name": "stdout",
     "output_type": "stream",
     "text": [
      "Hidden: 1000, Layers: 4, LR: 0.01, batch_size: 2, Train Loss: 1.0986, Valid Loss: 1.0986, Train Acc: 0.4886, Valid Acc: 0.5300, Test Acc: 0.5300\n"
     ]
    },
    {
     "data": {
      "application/vnd.jupyter.widget-view+json": {
       "model_id": "23c1b0437eed40daa3d1f4f87bb51647",
       "version_major": 2,
       "version_minor": 0
      },
      "text/plain": [
       "  0%|          | 0/50 [00:00<?, ?it/s]"
      ]
     },
     "metadata": {},
     "output_type": "display_data"
    },
    {
     "name": "stdout",
     "output_type": "stream",
     "text": [
      "Hidden: 1000, Layers: 4, LR: 0.01, batch_size: 8, Train Loss: 1.0986, Valid Loss: 1.0986, Train Acc: 0.4886, Valid Acc: 0.5300, Test Acc: 0.5300\n"
     ]
    },
    {
     "data": {
      "application/vnd.jupyter.widget-view+json": {
       "model_id": "ed448f41618240388c1c80d1a322bdd4",
       "version_major": 2,
       "version_minor": 0
      },
      "text/plain": [
       "  0%|          | 0/50 [00:00<?, ?it/s]"
      ]
     },
     "metadata": {},
     "output_type": "display_data"
    },
    {
     "name": "stdout",
     "output_type": "stream",
     "text": [
      "Hidden: 1000, Layers: 4, LR: 0.01, batch_size: 32, Train Loss: 1.0689, Valid Loss: 1.0224, Train Acc: 0.8900, Valid Acc: 0.9000, Test Acc: 0.9000\n"
     ]
    },
    {
     "data": {
      "application/vnd.jupyter.widget-view+json": {
       "model_id": "9b1f7be47d724eee9f1cd1d39e6c0ab1",
       "version_major": 2,
       "version_minor": 0
      },
      "text/plain": [
       "  0%|          | 0/50 [00:00<?, ?it/s]"
      ]
     },
     "metadata": {},
     "output_type": "display_data"
    },
    {
     "name": "stdout",
     "output_type": "stream",
     "text": [
      "Hidden: 1000, Layers: 4, LR: 0.01, batch_size: 128, Train Loss: 1.0894, Valid Loss: 1.0889, Train Acc: 0.5343, Valid Acc: 0.6300, Test Acc: 0.6300\n"
     ]
    },
    {
     "data": {
      "application/vnd.jupyter.widget-view+json": {
       "model_id": "38df8e1d9c964bf19b1d480a28aa3252",
       "version_major": 2,
       "version_minor": 0
      },
      "text/plain": [
       "  0%|          | 0/50 [00:00<?, ?it/s]"
      ]
     },
     "metadata": {},
     "output_type": "display_data"
    },
    {
     "name": "stdout",
     "output_type": "stream",
     "text": [
      "Hidden: 1000, Layers: 4, LR: 0.001, batch_size: 2, Train Loss: 0.9109, Valid Loss: 0.8697, Train Acc: 0.7371, Valid Acc: 0.7900, Test Acc: 0.7900\n"
     ]
    },
    {
     "data": {
      "application/vnd.jupyter.widget-view+json": {
       "model_id": "b14120417deb46d5bd6084f06c7f3991",
       "version_major": 2,
       "version_minor": 0
      },
      "text/plain": [
       "  0%|          | 0/50 [00:00<?, ?it/s]"
      ]
     },
     "metadata": {},
     "output_type": "display_data"
    },
    {
     "name": "stdout",
     "output_type": "stream",
     "text": [
      "Hidden: 1000, Layers: 4, LR: 0.001, batch_size: 8, Train Loss: 0.9863, Valid Loss: 0.9772, Train Acc: 0.7643, Valid Acc: 0.7900, Test Acc: 0.7900\n"
     ]
    },
    {
     "data": {
      "application/vnd.jupyter.widget-view+json": {
       "model_id": "0a23b66ca1844e0583ad4f6ac7493a11",
       "version_major": 2,
       "version_minor": 0
      },
      "text/plain": [
       "  0%|          | 0/50 [00:00<?, ?it/s]"
      ]
     },
     "metadata": {},
     "output_type": "display_data"
    },
    {
     "name": "stdout",
     "output_type": "stream",
     "text": [
      "Hidden: 1000, Layers: 4, LR: 0.001, batch_size: 32, Train Loss: 1.0676, Valid Loss: 1.0222, Train Acc: 0.8514, Valid Acc: 0.9000, Test Acc: 0.9000\n"
     ]
    },
    {
     "data": {
      "application/vnd.jupyter.widget-view+json": {
       "model_id": "53c6c5007355404f8701cf1ad60c0fcf",
       "version_major": 2,
       "version_minor": 0
      },
      "text/plain": [
       "  0%|          | 0/50 [00:00<?, ?it/s]"
      ]
     },
     "metadata": {},
     "output_type": "display_data"
    },
    {
     "name": "stdout",
     "output_type": "stream",
     "text": [
      "Hidden: 1000, Layers: 4, LR: 0.001, batch_size: 128, Train Loss: 1.0894, Valid Loss: 1.0887, Train Acc: 0.7271, Valid Acc: 0.7700, Test Acc: 0.7700\n"
     ]
    },
    {
     "data": {
      "application/vnd.jupyter.widget-view+json": {
       "model_id": "f4f27404c7ab44e1b919bc42c1f78d85",
       "version_major": 2,
       "version_minor": 0
      },
      "text/plain": [
       "  0%|          | 0/50 [00:00<?, ?it/s]"
      ]
     },
     "metadata": {},
     "output_type": "display_data"
    },
    {
     "name": "stdout",
     "output_type": "stream",
     "text": [
      "Hidden: 1000, Layers: 4, LR: 0.0001, batch_size: 2, Train Loss: 0.8968, Valid Loss: 0.8708, Train Acc: 0.7414, Valid Acc: 0.7900, Test Acc: 0.7900\n"
     ]
    },
    {
     "data": {
      "application/vnd.jupyter.widget-view+json": {
       "model_id": "36492f8becef4507bf256e9a3eace119",
       "version_major": 2,
       "version_minor": 0
      },
      "text/plain": [
       "  0%|          | 0/50 [00:00<?, ?it/s]"
      ]
     },
     "metadata": {},
     "output_type": "display_data"
    },
    {
     "name": "stdout",
     "output_type": "stream",
     "text": [
      "Hidden: 1000, Layers: 4, LR: 0.0001, batch_size: 8, Train Loss: 0.9800, Valid Loss: 0.9760, Train Acc: 0.9500, Valid Acc: 0.9500, Test Acc: 0.9500\n"
     ]
    },
    {
     "data": {
      "application/vnd.jupyter.widget-view+json": {
       "model_id": "79518c48613b4c9fa26a02824c68c813",
       "version_major": 2,
       "version_minor": 0
      },
      "text/plain": [
       "  0%|          | 0/50 [00:00<?, ?it/s]"
      ]
     },
     "metadata": {},
     "output_type": "display_data"
    },
    {
     "name": "stdout",
     "output_type": "stream",
     "text": [
      "Hidden: 1000, Layers: 4, LR: 0.0001, batch_size: 32, Train Loss: 1.0676, Valid Loss: 1.0215, Train Acc: 0.8443, Valid Acc: 0.8800, Test Acc: 0.8800\n"
     ]
    },
    {
     "data": {
      "application/vnd.jupyter.widget-view+json": {
       "model_id": "3f755c2554874bc0a7ef1452bfa9ecf6",
       "version_major": 2,
       "version_minor": 0
      },
      "text/plain": [
       "  0%|          | 0/50 [00:00<?, ?it/s]"
      ]
     },
     "metadata": {},
     "output_type": "display_data"
    },
    {
     "name": "stdout",
     "output_type": "stream",
     "text": [
      "Hidden: 1000, Layers: 4, LR: 0.0001, batch_size: 128, Train Loss: 1.0894, Valid Loss: 1.0887, Train Acc: 0.5386, Valid Acc: 0.6100, Test Acc: 0.6100\n"
     ]
    },
    {
     "data": {
      "application/vnd.jupyter.widget-view+json": {
       "model_id": "1c4c55d0481b43afa11e8c93bef47a56",
       "version_major": 2,
       "version_minor": 0
      },
      "text/plain": [
       "  0%|          | 0/50 [00:00<?, ?it/s]"
      ]
     },
     "metadata": {},
     "output_type": "display_data"
    },
    {
     "name": "stdout",
     "output_type": "stream",
     "text": [
      "Hidden: 1000, Layers: 6, LR: 0.01, batch_size: 2, Train Loss: 1.0986, Valid Loss: 1.0986, Train Acc: 0.4886, Valid Acc: 0.5300, Test Acc: 0.5300\n"
     ]
    },
    {
     "data": {
      "application/vnd.jupyter.widget-view+json": {
       "model_id": "7a4a2932d85941639b1a1b51fceea114",
       "version_major": 2,
       "version_minor": 0
      },
      "text/plain": [
       "  0%|          | 0/50 [00:00<?, ?it/s]"
      ]
     },
     "metadata": {},
     "output_type": "display_data"
    },
    {
     "name": "stdout",
     "output_type": "stream",
     "text": [
      "Hidden: 1000, Layers: 6, LR: 0.01, batch_size: 8, Train Loss: 1.0986, Valid Loss: 1.0986, Train Acc: 0.4829, Valid Acc: 0.5300, Test Acc: 0.5300\n"
     ]
    },
    {
     "data": {
      "application/vnd.jupyter.widget-view+json": {
       "model_id": "b03d3898a60649f7a7fb0bd0f7ebd669",
       "version_major": 2,
       "version_minor": 0
      },
      "text/plain": [
       "  0%|          | 0/50 [00:00<?, ?it/s]"
      ]
     },
     "metadata": {},
     "output_type": "display_data"
    },
    {
     "name": "stdout",
     "output_type": "stream",
     "text": [
      "Hidden: 1000, Layers: 6, LR: 0.01, batch_size: 32, Train Loss: 1.0986, Valid Loss: 1.0986, Train Acc: 0.4886, Valid Acc: 0.5300, Test Acc: 0.5300\n"
     ]
    },
    {
     "data": {
      "application/vnd.jupyter.widget-view+json": {
       "model_id": "5481cc41366d4ca2885c108c63dacb25",
       "version_major": 2,
       "version_minor": 0
      },
      "text/plain": [
       "  0%|          | 0/50 [00:00<?, ?it/s]"
      ]
     },
     "metadata": {},
     "output_type": "display_data"
    },
    {
     "name": "stdout",
     "output_type": "stream",
     "text": [
      "Hidden: 1000, Layers: 6, LR: 0.01, batch_size: 128, Train Loss: 1.0986, Valid Loss: 1.0986, Train Acc: 0.4886, Valid Acc: 0.5300, Test Acc: 0.5300\n"
     ]
    },
    {
     "data": {
      "application/vnd.jupyter.widget-view+json": {
       "model_id": "bb37df09381f4d499ab7d6c38a01ff22",
       "version_major": 2,
       "version_minor": 0
      },
      "text/plain": [
       "  0%|          | 0/50 [00:00<?, ?it/s]"
      ]
     },
     "metadata": {},
     "output_type": "display_data"
    },
    {
     "name": "stdout",
     "output_type": "stream",
     "text": [
      "Hidden: 1000, Layers: 6, LR: 0.001, batch_size: 2, Train Loss: 0.9217, Valid Loss: 0.9626, Train Acc: 0.7343, Valid Acc: 0.6900, Test Acc: 0.6900\n"
     ]
    },
    {
     "data": {
      "application/vnd.jupyter.widget-view+json": {
       "model_id": "f477c86b7eb04ee693e9d861715a11e3",
       "version_major": 2,
       "version_minor": 0
      },
      "text/plain": [
       "  0%|          | 0/50 [00:00<?, ?it/s]"
      ]
     },
     "metadata": {},
     "output_type": "display_data"
    },
    {
     "name": "stdout",
     "output_type": "stream",
     "text": [
      "Hidden: 1000, Layers: 6, LR: 0.001, batch_size: 8, Train Loss: 0.9833, Valid Loss: 0.9747, Train Acc: 0.7643, Valid Acc: 0.8000, Test Acc: 0.8000\n"
     ]
    },
    {
     "data": {
      "application/vnd.jupyter.widget-view+json": {
       "model_id": "e74e30e492394ab1959cd060b32de47d",
       "version_major": 2,
       "version_minor": 0
      },
      "text/plain": [
       "  0%|          | 0/50 [00:00<?, ?it/s]"
      ]
     },
     "metadata": {},
     "output_type": "display_data"
    },
    {
     "name": "stdout",
     "output_type": "stream",
     "text": [
      "Hidden: 1000, Layers: 6, LR: 0.001, batch_size: 32, Train Loss: 1.0676, Valid Loss: 1.0763, Train Acc: 0.8614, Valid Acc: 0.8500, Test Acc: 0.8500\n"
     ]
    },
    {
     "data": {
      "application/vnd.jupyter.widget-view+json": {
       "model_id": "63c89e0f9d3e46de9b4b7b5d616fce51",
       "version_major": 2,
       "version_minor": 0
      },
      "text/plain": [
       "  0%|          | 0/50 [00:00<?, ?it/s]"
      ]
     },
     "metadata": {},
     "output_type": "display_data"
    },
    {
     "name": "stdout",
     "output_type": "stream",
     "text": [
      "Hidden: 1000, Layers: 6, LR: 0.001, batch_size: 128, Train Loss: 1.0894, Valid Loss: 1.0887, Train Acc: 0.7500, Valid Acc: 0.8400, Test Acc: 0.8400\n"
     ]
    },
    {
     "data": {
      "application/vnd.jupyter.widget-view+json": {
       "model_id": "55a511594ef24c9f854ae5616f4236be",
       "version_major": 2,
       "version_minor": 0
      },
      "text/plain": [
       "  0%|          | 0/50 [00:00<?, ?it/s]"
      ]
     },
     "metadata": {},
     "output_type": "display_data"
    },
    {
     "name": "stdout",
     "output_type": "stream",
     "text": [
      "Hidden: 1000, Layers: 6, LR: 0.0001, batch_size: 2, Train Loss: 0.9051, Valid Loss: 0.9120, Train Acc: 0.7371, Valid Acc: 0.7500, Test Acc: 0.7500\n"
     ]
    },
    {
     "data": {
      "application/vnd.jupyter.widget-view+json": {
       "model_id": "5f5667b2b010435bafd919c43396be41",
       "version_major": 2,
       "version_minor": 0
      },
      "text/plain": [
       "  0%|          | 0/50 [00:00<?, ?it/s]"
      ]
     },
     "metadata": {},
     "output_type": "display_data"
    },
    {
     "name": "stdout",
     "output_type": "stream",
     "text": [
      "Hidden: 1000, Layers: 6, LR: 0.0001, batch_size: 8, Train Loss: 0.9798, Valid Loss: 0.9802, Train Acc: 0.9486, Valid Acc: 0.9000, Test Acc: 0.9000\n"
     ]
    },
    {
     "data": {
      "application/vnd.jupyter.widget-view+json": {
       "model_id": "fc1d6b70e76e4c0cabd5e001d35dae78",
       "version_major": 2,
       "version_minor": 0
      },
      "text/plain": [
       "  0%|          | 0/50 [00:00<?, ?it/s]"
      ]
     },
     "metadata": {},
     "output_type": "display_data"
    },
    {
     "name": "stdout",
     "output_type": "stream",
     "text": [
      "Hidden: 1000, Layers: 6, LR: 0.0001, batch_size: 32, Train Loss: 1.0676, Valid Loss: 1.0217, Train Acc: 0.8629, Valid Acc: 0.8500, Test Acc: 0.8500\n"
     ]
    },
    {
     "data": {
      "application/vnd.jupyter.widget-view+json": {
       "model_id": "9c93de2d08f14d5697684131b7258ca9",
       "version_major": 2,
       "version_minor": 0
      },
      "text/plain": [
       "  0%|          | 0/50 [00:00<?, ?it/s]"
      ]
     },
     "metadata": {},
     "output_type": "display_data"
    },
    {
     "name": "stdout",
     "output_type": "stream",
     "text": [
      "Hidden: 1000, Layers: 6, LR: 0.0001, batch_size: 128, Train Loss: 1.0894, Valid Loss: 1.0887, Train Acc: 0.5343, Valid Acc: 0.5800, Test Acc: 0.5800\n"
     ]
    }
   ],
   "source": [
    "# LIST OF HYPER PARAMETERS THAT WE WANT TO CHANGE\n",
    "hidden_neurons = [10, 100, 500, 1000]\n",
    "learning_rates = [0.01, 0.001, 0.0001]\n",
    "batch_sizes = [2, 8, 32, 128]\n",
    "n_layers = [2, 4, 6]\n",
    "\n",
    "device = torch.device('cuda')\n",
    "num_classes = 3\n",
    "with open('../output/results_short_hyp_LSTM.txt', \"w\") as f:\n",
    "  audio_dataset.normalize = False\n",
    "  audio_dataset.active = \"mfcc\"\n",
    "  for n_hidden_neurons in hidden_neurons:\n",
    "    for layers in n_layers:\n",
    "      for lr in learning_rates:\n",
    "        for batch_size in batch_sizes:\n",
    "            kwargs = {'batch_size': batch_size, 'num_workers': 8}\n",
    "            loader_train = torch.utils.data.DataLoader(dataset_train, **kwargs, shuffle=True)\n",
    "            loader_test = torch.utils.data.DataLoader(dataset_test, **kwargs, shuffle=True)\n",
    "            loader_valid = torch.utils.data.DataLoader(dataset_valid, **kwargs, shuffle=True)\n",
    "            model = voiceClassifier(int(audio_dataset[0][0].shape[0]), n_hidden_neurons, layers, num_classes)\n",
    "            opt = torch.optim.Adam(model.parameters(), lr)\n",
    "            sched = torch.optim.lr_scheduler.MultiStepLR(opt, (30,))\n",
    "            train_losses, train_accuracies = [], []\n",
    "            valid_losses, valid_accuracies = [], []\n",
    "            lrs = []\n",
    "        \n",
    "            for epoch in tqdm(range(50)):\n",
    "# Train\n",
    "                model.train()\n",
    "                losses=[]\n",
    "                #train_losses = []\n",
    "                train_correct = 0\n",
    "                train_total = 0\n",
    "                for x, y in loader_train:\n",
    "                    opt.zero_grad()\n",
    "                    x = x.unsqueeze(0)\n",
    "                    logits = model(x)\n",
    "                    logits = logits.squeeze()\n",
    "                    #print(\"logits: \", logits.shape)\n",
    "                    # make target out of vector\n",
    "                    one_hot_targets = torch.zeros(logits.size(0), num_classes) # empty tensor to hold the one-hot encoded targets\n",
    "                    for idx, target in enumerate(y): # Fill one-hot encoded values based on the target values\n",
    "                        one_hot_targets[idx, target] = 1\n",
    "\n",
    "                    loss_func = nn.CrossEntropyLoss()  # Define the loss function\n",
    "                    loss = loss_func(logits, one_hot_targets)  # Calculate the loss directly\n",
    "                \n",
    "                    # Backpropagation and parameter updates\n",
    "                    loss.backward()\n",
    "                    opt.step()\n",
    "                    losses.append(loss.item())\n",
    "                    train_total += y.size(0)\n",
    "                    train_correct += (torch.argmax(logits, dim=1) == y.view(-1)).sum().item()\n",
    "                    \n",
    "                avg_train_loss = np.mean(losses) #added from old\n",
    "                train_accuracy = train_correct / train_total\n",
    "\n",
    "                # History - Saved for plotting \n",
    "                train_losses.append(avg_train_loss)\n",
    "                train_accuracies.append(train_accuracy)\n",
    "                \n",
    "# Validation\n",
    "                model.eval()\n",
    "                losses = []\n",
    "                valid_correct = 0\n",
    "                valid_total = 0\n",
    "                \n",
    "                for x, y in loader_valid:\n",
    "                    x = x.unsqueeze(0)  # Add a batch dimension assuming it's a single sequence\n",
    "                    with torch.no_grad():\n",
    "                        logits = model(x)\n",
    "                    logits = logits.squeeze()\n",
    "                    one_hot_targets = torch.zeros(logits.size(0), num_classes) # empty tensor to hold the one-hot encoded targets\n",
    "                    for idx, target in enumerate(y): # Fill one-hot encoded values based on the target values\n",
    "                        one_hot_targets[idx, target] = 1\n",
    "            \n",
    "                    loss_func = nn.CrossEntropyLoss()  # Define the loss function\n",
    "                    loss = loss_func(logits, one_hot_targets)  # Calculate the loss directly\n",
    "            \n",
    "                    losses.append(loss.item())\n",
    "                    valid_total += y.size(0)\n",
    "                    valid_correct += (torch.argmax(logits, dim=1) == y.view(-1)).sum().item()\n",
    "            \n",
    "                        \n",
    "                avg_valid_loss = np.mean(losses) # added from old\n",
    "                valid_accuracy = valid_correct / valid_total\n",
    "                #avg_valid_loss = sum(losses) / len(losses)\n",
    "                \n",
    "               \n",
    "                \n",
    "                valid_losses.append(avg_valid_loss)\n",
    "                valid_accuracies.append(valid_accuracy)\n",
    "                \n",
    "\n",
    "# Test\n",
    "                model.eval()\n",
    "                losses = []\n",
    "                test_correct = 0\n",
    "                test_total = 0\n",
    "                \n",
    "                for x, y in loader_test:\n",
    "                    x = x.unsqueeze(0)  # Add a batch dimension assuming it's a single sequence\n",
    "                    with torch.no_grad():\n",
    "                        logits = model(x)\n",
    "                    logits = logits.squeeze()\n",
    "            \n",
    "                    #losses.append(loss.item())\n",
    "                    test_total += y.size(0)\n",
    "                    test_correct += (torch.argmax(logits, dim=1) == y.view(-1)).sum().item()\n",
    "                        \n",
    "                test_accuracy = valid_correct / valid_total\n",
    "    \n",
    "                # sched\n",
    "                sched.step()\n",
    "                # history - saved for plotting\n",
    "                lrs.append(next(iter(opt.param_groups))['lr'])\n",
    "# Print to File\n",
    "            f.writelines(f\"Norm: {audio_dataset.normalize}, Feature: {audio_dataset.active}\\n\")\n",
    "            f.writelines(f\"N_layers: {layers}, N_hidden_neurons: {n_hidden_neurons}, LR: {lr}, Batch_size: {batch_size}, Epochs: {50}\\n\")\n",
    "            f.writelines(f\"Train loss: {train_losses}\\nTrain accuracy: {train_accuracies}\\n\")\n",
    "            f.writelines(f\"Valid loss: {valid_losses}\\nValid accuracy: {valid_accuracies}\\n\")\n",
    "            f.writelines(f\"Test accuracy: {test_accuracy}\\n\")\n",
    "\n",
    "            print(f\"Hidden: {n_hidden_neurons}, Layers: {layers}, LR: {lr}, batch_size: {batch_size}, \"\n",
    "              f\"Train Loss: {avg_train_loss:.4f}, Valid Loss: {avg_valid_loss:.4f}, \"\n",
    "              f\"Train Acc: {train_accuracy:.4f}, Valid Acc: {valid_accuracy:.4f}, Test Acc: {test_accuracy:.4f}\")\n",
    "        #print(\"Done batch_size:\", batch_size)\n",
    "      #print(\"Done lr:\", lr)\n",
    "    #print(\"Done layers:\", layers)\n",
    "  #print(\"Done hidden_neurons:\", n_hidden_neurons)"
   ]
  },
  {
   "cell_type": "code",
   "execution_count": 20,
   "metadata": {},
   "outputs": [
    {
     "data": {
      "image/png": "[encoded data removed]",
      "text/plain": [
       "<Figure size 1000x300 with 3 Axes>"
      ]
     },
     "metadata": {},
     "output_type": "display_data"
    }
   ],
   "source": [
    "# plot history\n",
    "fig, axs = plt.subplots(1, 3, figsize=(10, 3))\n",
    "axs[0].plot(train_losses, label='train')\n",
    "axs[0].plot(valid_losses, label='valid')\n",
    "            \n",
    "axs[0].set_ylabel('loss')\n",
    "axs[0].legend()\n",
    "axs[1].plot(train_accuracies, label='train')\n",
    "axs[1].plot(valid_accuracies, label='valid')\n",
    "axs[1].set_ylabel('acc')\n",
    "axs[1].set_ylim(0, 1)\n",
    "axs[1].legend()\n",
    "axs[2].plot(lrs)\n",
    "axs[2].set_ylabel('lr')\n",
    "axs[2].set_yscale('log')\n",
    "plt.tight_layout()\n",
    "plt.show()"
   ]
  },
  {
   "cell_type": "code",
   "execution_count": null,
   "metadata": {},
   "outputs": [],
   "source": []
  }
 ],
 "metadata": {
  "kernelspec": {
   "display_name": "Python 3 (ipykernel)",
   "language": "python",
   "name": "python3"
  },
  "language_info": {
   "codemirror_mode": {
    "name": "ipython",
    "version": 3
   },
   "file_extension": ".py",
   "mimetype": "text/x-python",
   "name": "python",
   "nbconvert_exporter": "python",
   "pygments_lexer": "ipython3",
   "version": "3.10.12"
  }
 },
 "nbformat": 4,
 "nbformat_minor": 4
}
