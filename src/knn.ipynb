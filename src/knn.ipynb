{
 "cells": [
  {
   "cell_type": "code",
   "execution_count": 23,
   "metadata": {},
   "outputs": [],
   "source": [
    "import numpy as np\n",
    "import tensorflow as tf\n",
    "from scipy.io import wavfile\n",
    "import os\n",
    "import torch\n",
    "from torch.utils.data import Dataset, DataLoader"
   ]
  },
  {
   "cell_type": "code",
   "execution_count": 24,
   "metadata": {},
   "outputs": [],
   "source": [
    "class AudioDataset(Dataset):\n",
    "    def __init__(self, root_folder=\"../data/audio_dataset\", max_length=80249):        \n",
    "        self.class_map = {\"both\": 0, \"esben\" : 1, \"peter\": 2}\n",
    "        self.data = []\n",
    "        sample_rate = 0\n",
    "        for subdir, dirs, files in os.walk(root_folder):\n",
    "            for file_name in files:\n",
    "                file_path = os.path.join(subdir, file_name)\n",
    "                sample_rate, wav = wavfile.read(file_path)\n",
    "                if wav.shape[0] > max_length:\n",
    "                    print(\"Found wav with more length than specified max one, new max is:\", wav.shape[0])\n",
    "                wav = np.pad(wav, (0, max_length-wav.shape[0]))\n",
    "                label = file_path.split('/')[3][2:]\n",
    "                self.data.append([wav, label])\n",
    "        self.sample_rate = sample_rate\n",
    "\n",
    "    def __len__(self):\n",
    "        return len(self.data)\n",
    "    \n",
    "    def __getitem__(self, idx):\n",
    "        wav, label = self.data[idx]\n",
    "        class_id = self.class_map[label]\n",
    "        wav_tensor = torch.from_numpy(wav)\n",
    "        class_id = torch.tensor([class_id])\n",
    "        return wav_tensor, class_id"
   ]
  },
  {
   "cell_type": "code",
   "execution_count": 26,
   "metadata": {},
   "outputs": [],
   "source": [
    "dataset = AudioDataset()"
   ]
  },
  {
   "cell_type": "code",
   "execution_count": null,
   "metadata": {},
   "outputs": [],
   "source": []
  }
 ],
 "metadata": {
  "kernelspec": {
   "display_name": "Python 3",
   "language": "python",
   "name": "python3"
  },
  "language_info": {
   "codemirror_mode": {
    "name": "ipython",
    "version": 3
   },
   "file_extension": ".py",
   "mimetype": "text/x-python",
   "name": "python",
   "nbconvert_exporter": "python",
   "pygments_lexer": "ipython3",
   "version": "3.10.12"
  }
 },
 "nbformat": 4,
 "nbformat_minor": 2
}
