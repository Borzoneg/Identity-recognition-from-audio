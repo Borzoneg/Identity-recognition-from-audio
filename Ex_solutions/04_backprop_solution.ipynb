{
  "nbformat": 4,
  "nbformat_minor": 0,
  "metadata": {
    "kernelspec": {
      "display_name": "Python 3",
      "language": "python",
      "name": "python3"
    },
    "language_info": {
      "codemirror_mode": {
        "name": "ipython",
        "version": 3
      },
      "file_extension": ".py",
      "mimetype": "text/x-python",
      "name": "python",
      "nbconvert_exporter": "python",
      "pygments_lexer": "ipython3",
      "version": "3.8.2"
    },
    "colab": {
      "provenance": []
    },
    "widgets": {
      "application/vnd.jupyter.widget-state+json": {
        "c1d449c5aa5f432eb92d3d031f4c5a17": {
          "model_module": "@jupyter-widgets/controls",
          "model_name": "HBoxModel",
          "model_module_version": "1.5.0",
          "state": {
            "_view_name": "HBoxView",
            "_dom_classes": [],
            "_model_name": "HBoxModel",
            "_view_module": "@jupyter-widgets/controls",
            "_model_module_version": "1.5.0",
            "_view_count": null,
            "_view_module_version": "1.5.0",
            "box_style": "",
            "layout": "IPY_MODEL_7fd540acba2b44be96d630b54b22637c",
            "_model_module": "@jupyter-widgets/controls",
            "children": [
              "IPY_MODEL_f8e7877e16284551af5d404584c669dc",
              "IPY_MODEL_a19eb4a3d87641628c3017ad8a798f54",
              "IPY_MODEL_82cd2b04773241da9aea44a8868a9892"
            ]
          }
        },
        "7fd540acba2b44be96d630b54b22637c": {
          "model_module": "@jupyter-widgets/base",
          "model_name": "LayoutModel",
          "model_module_version": "1.2.0",
          "state": {
            "_view_name": "LayoutView",
            "grid_template_rows": null,
            "right": null,
            "justify_content": null,
            "_view_module": "@jupyter-widgets/base",
            "overflow": null,
            "_model_module_version": "1.2.0",
            "_view_count": null,
            "flex_flow": null,
            "width": null,
            "min_width": null,
            "border": null,
            "align_items": null,
            "bottom": null,
            "_model_module": "@jupyter-widgets/base",
            "top": null,
            "grid_column": null,
            "overflow_y": null,
            "overflow_x": null,
            "grid_auto_flow": null,
            "grid_area": null,
            "grid_template_columns": null,
            "flex": null,
            "_model_name": "LayoutModel",
            "justify_items": null,
            "grid_row": null,
            "max_height": null,
            "align_content": null,
            "visibility": null,
            "align_self": null,
            "height": null,
            "min_height": null,
            "padding": null,
            "grid_auto_rows": null,
            "grid_gap": null,
            "max_width": null,
            "order": null,
            "_view_module_version": "1.2.0",
            "grid_template_areas": null,
            "object_position": null,
            "object_fit": null,
            "grid_auto_columns": null,
            "margin": null,
            "display": null,
            "left": null
          }
        },
        "f8e7877e16284551af5d404584c669dc": {
          "model_module": "@jupyter-widgets/controls",
          "model_name": "HTMLModel",
          "model_module_version": "1.5.0",
          "state": {
            "_view_name": "HTMLView",
            "style": "IPY_MODEL_5065f5390b99497c891f9ab7bd5f49eb",
            "_dom_classes": [],
            "description": "",
            "_model_name": "HTMLModel",
            "placeholder": "​",
            "_view_module": "@jupyter-widgets/controls",
            "_model_module_version": "1.5.0",
            "value": "acc: 0.76/0.50: 100%",
            "_view_count": null,
            "_view_module_version": "1.5.0",
            "description_tooltip": null,
            "_model_module": "@jupyter-widgets/controls",
            "layout": "IPY_MODEL_9df97f4082e248ab9c0e0c78cfe2e1c3"
          }
        },
        "a19eb4a3d87641628c3017ad8a798f54": {
          "model_module": "@jupyter-widgets/controls",
          "model_name": "FloatProgressModel",
          "model_module_version": "1.5.0",
          "state": {
            "_view_name": "ProgressView",
            "style": "IPY_MODEL_84e1336b89984055a9f5786c615d0278",
            "_dom_classes": [],
            "description": "",
            "_model_name": "FloatProgressModel",
            "bar_style": "success",
            "max": 50,
            "_view_module": "@jupyter-widgets/controls",
            "_model_module_version": "1.5.0",
            "value": 50,
            "_view_count": null,
            "_view_module_version": "1.5.0",
            "orientation": "horizontal",
            "min": 0,
            "description_tooltip": null,
            "_model_module": "@jupyter-widgets/controls",
            "layout": "IPY_MODEL_277aebe5e84645bfa77456eaebbfb736"
          }
        },
        "82cd2b04773241da9aea44a8868a9892": {
          "model_module": "@jupyter-widgets/controls",
          "model_name": "HTMLModel",
          "model_module_version": "1.5.0",
          "state": {
            "_view_name": "HTMLView",
            "style": "IPY_MODEL_5ece35a321e74a0fa1fc85b813d75edc",
            "_dom_classes": [],
            "description": "",
            "_model_name": "HTMLModel",
            "placeholder": "​",
            "_view_module": "@jupyter-widgets/controls",
            "_model_module_version": "1.5.0",
            "value": " 50/50 [02:24&lt;00:00,  2.89s/it]",
            "_view_count": null,
            "_view_module_version": "1.5.0",
            "description_tooltip": null,
            "_model_module": "@jupyter-widgets/controls",
            "layout": "IPY_MODEL_e028a20fb71a4c0bb49ae306fb5e39b6"
          }
        },
        "5065f5390b99497c891f9ab7bd5f49eb": {
          "model_module": "@jupyter-widgets/controls",
          "model_name": "DescriptionStyleModel",
          "model_module_version": "1.5.0",
          "state": {
            "_view_name": "StyleView",
            "_model_name": "DescriptionStyleModel",
            "description_width": "",
            "_view_module": "@jupyter-widgets/base",
            "_model_module_version": "1.5.0",
            "_view_count": null,
            "_view_module_version": "1.2.0",
            "_model_module": "@jupyter-widgets/controls"
          }
        },
        "9df97f4082e248ab9c0e0c78cfe2e1c3": {
          "model_module": "@jupyter-widgets/base",
          "model_name": "LayoutModel",
          "model_module_version": "1.2.0",
          "state": {
            "_view_name": "LayoutView",
            "grid_template_rows": null,
            "right": null,
            "justify_content": null,
            "_view_module": "@jupyter-widgets/base",
            "overflow": null,
            "_model_module_version": "1.2.0",
            "_view_count": null,
            "flex_flow": null,
            "width": null,
            "min_width": null,
            "border": null,
            "align_items": null,
            "bottom": null,
            "_model_module": "@jupyter-widgets/base",
            "top": null,
            "grid_column": null,
            "overflow_y": null,
            "overflow_x": null,
            "grid_auto_flow": null,
            "grid_area": null,
            "grid_template_columns": null,
            "flex": null,
            "_model_name": "LayoutModel",
            "justify_items": null,
            "grid_row": null,
            "max_height": null,
            "align_content": null,
            "visibility": null,
            "align_self": null,
            "height": null,
            "min_height": null,
            "padding": null,
            "grid_auto_rows": null,
            "grid_gap": null,
            "max_width": null,
            "order": null,
            "_view_module_version": "1.2.0",
            "grid_template_areas": null,
            "object_position": null,
            "object_fit": null,
            "grid_auto_columns": null,
            "margin": null,
            "display": null,
            "left": null
          }
        },
        "84e1336b89984055a9f5786c615d0278": {
          "model_module": "@jupyter-widgets/controls",
          "model_name": "ProgressStyleModel",
          "model_module_version": "1.5.0",
          "state": {
            "_view_name": "StyleView",
            "_model_name": "ProgressStyleModel",
            "description_width": "",
            "_view_module": "@jupyter-widgets/base",
            "_model_module_version": "1.5.0",
            "_view_count": null,
            "_view_module_version": "1.2.0",
            "bar_color": null,
            "_model_module": "@jupyter-widgets/controls"
          }
        },
        "277aebe5e84645bfa77456eaebbfb736": {
          "model_module": "@jupyter-widgets/base",
          "model_name": "LayoutModel",
          "model_module_version": "1.2.0",
          "state": {
            "_view_name": "LayoutView",
            "grid_template_rows": null,
            "right": null,
            "justify_content": null,
            "_view_module": "@jupyter-widgets/base",
            "overflow": null,
            "_model_module_version": "1.2.0",
            "_view_count": null,
            "flex_flow": null,
            "width": null,
            "min_width": null,
            "border": null,
            "align_items": null,
            "bottom": null,
            "_model_module": "@jupyter-widgets/base",
            "top": null,
            "grid_column": null,
            "overflow_y": null,
            "overflow_x": null,
            "grid_auto_flow": null,
            "grid_area": null,
            "grid_template_columns": null,
            "flex": null,
            "_model_name": "LayoutModel",
            "justify_items": null,
            "grid_row": null,
            "max_height": null,
            "align_content": null,
            "visibility": null,
            "align_self": null,
            "height": null,
            "min_height": null,
            "padding": null,
            "grid_auto_rows": null,
            "grid_gap": null,
            "max_width": null,
            "order": null,
            "_view_module_version": "1.2.0",
            "grid_template_areas": null,
            "object_position": null,
            "object_fit": null,
            "grid_auto_columns": null,
            "margin": null,
            "display": null,
            "left": null
          }
        },
        "5ece35a321e74a0fa1fc85b813d75edc": {
          "model_module": "@jupyter-widgets/controls",
          "model_name": "DescriptionStyleModel",
          "model_module_version": "1.5.0",
          "state": {
            "_view_name": "StyleView",
            "_model_name": "DescriptionStyleModel",
            "description_width": "",
            "_view_module": "@jupyter-widgets/base",
            "_model_module_version": "1.5.0",
            "_view_count": null,
            "_view_module_version": "1.2.0",
            "_model_module": "@jupyter-widgets/controls"
          }
        },
        "e028a20fb71a4c0bb49ae306fb5e39b6": {
          "model_module": "@jupyter-widgets/base",
          "model_name": "LayoutModel",
          "model_module_version": "1.2.0",
          "state": {
            "_view_name": "LayoutView",
            "grid_template_rows": null,
            "right": null,
            "justify_content": null,
            "_view_module": "@jupyter-widgets/base",
            "overflow": null,
            "_model_module_version": "1.2.0",
            "_view_count": null,
            "flex_flow": null,
            "width": null,
            "min_width": null,
            "border": null,
            "align_items": null,
            "bottom": null,
            "_model_module": "@jupyter-widgets/base",
            "top": null,
            "grid_column": null,
            "overflow_y": null,
            "overflow_x": null,
            "grid_auto_flow": null,
            "grid_area": null,
            "grid_template_columns": null,
            "flex": null,
            "_model_name": "LayoutModel",
            "justify_items": null,
            "grid_row": null,
            "max_height": null,
            "align_content": null,
            "visibility": null,
            "align_self": null,
            "height": null,
            "min_height": null,
            "padding": null,
            "grid_auto_rows": null,
            "grid_gap": null,
            "max_width": null,
            "order": null,
            "_view_module_version": "1.2.0",
            "grid_template_areas": null,
            "object_position": null,
            "object_fit": null,
            "grid_auto_columns": null,
            "margin": null,
            "display": null,
            "left": null
          }
        }
      }
    }
  },
  "cells": [
    {
      "cell_type": "markdown",
      "metadata": {
        "id": "PDciqgzRq4WS"
      },
      "source": [
        "# Backpropogation"
      ]
    },
    {
      "cell_type": "code",
      "metadata": {
        "id": "bgisEO6Z5GDq"
      },
      "source": [
        "import matplotlib.pyplot as plt\n",
        "import numpy as np\n",
        "import sklearn.preprocessing\n",
        "from tqdm.notebook import tqdm\n",
        "import torchvision\n",
        "from torchvision import transforms"
      ],
      "execution_count": null,
      "outputs": []
    },
    {
      "cell_type": "markdown",
      "metadata": {
        "id": "A9VfWxMU4r7X"
      },
      "source": [
        "### Load dataset"
      ]
    },
    {
      "cell_type": "code",
      "metadata": {
        "colab": {
          "base_uri": "https://localhost:8080/"
        },
        "id": "zGbsi1rPa9UO",
        "outputId": "b1840489-c45f-4227-92c5-4a1a5a20d8ad"
      },
      "source": [
        "class Cifar10(torchvision.datasets.CIFAR10):\n",
        "  def __init__(self, train: bool):\n",
        "    super().__init__(root='~/data', train=train, download=True)\n",
        "    self.data = self.data.astype(np.float32) / 255 - 0.5\n",
        "\n",
        "  def __getitem__(self, idx):\n",
        "    return self.data[idx], self.targets[idx]\n",
        "\n",
        "data_train = Cifar10(train=True)\n",
        "data_test = Cifar10(train=False)\n",
        "\n",
        "x_train = np.array(data_train.data)\n",
        "x_test = np.array(data_test.data)\n",
        "\n",
        "# Reshape\n",
        "d_data = np.prod(x_train.shape[1:])  # 32 * 32 * 3\n",
        "x_train = x_train.reshape((-1, d_data))  # (50000, d_data)\n",
        "x_test = x_test.reshape((-1, d_data))  # (10000, d_data)\n",
        "\n",
        "y_train = np.array(data_train.targets)\n",
        "y_test = np.array(data_test.targets)\n",
        "\n",
        "# Convert y indices to one-hot, 10 classes\n",
        "y_train = sklearn.preprocessing.label_binarize(y_train, classes=range(10))\n",
        "y_test = sklearn.preprocessing.label_binarize(y_test, classes=range(10))\n",
        "\n",
        "# Store samples in columns\n",
        "x_train = x_train.T\n",
        "y_train = y_train.T\n",
        "x_test = x_test.T\n",
        "y_test = y_test.T\n",
        "\n",
        "# Use single precision for speed\n",
        "x_train = x_train.astype(np.float32)\n",
        "y_train = y_train.astype(np.float32)\n",
        "x_test = x_test.astype(np.float32)\n",
        "y_test = y_test.astype(np.float32)\n",
        "\n",
        "# Report shapes\n",
        "print(f'x_train/y_train shape: {x_train.shape}/{y_train.shape}')\n",
        "print(f'x_test/y_test shape: {x_test.shape}/{y_test.shape}')"
      ],
      "execution_count": null,
      "outputs": [
        {
          "output_type": "stream",
          "name": "stdout",
          "text": [
            "Files already downloaded and verified\n",
            "Files already downloaded and verified\n",
            "x_train/y_train shape: (3072, 50000)/(10, 50000)\n",
            "x_test/y_test shape: (3072, 10000)/(10, 10000)\n"
          ]
        }
      ]
    },
    {
      "cell_type": "markdown",
      "metadata": {
        "id": "7FAN22M2gfuO"
      },
      "source": [
        "### Lets define some helper functions first"
      ]
    },
    {
      "cell_type": "code",
      "metadata": {
        "id": "4dIpbfm5gudS"
      },
      "source": [
        "def softmax(x):\n",
        "  x = x - np.max(x, axis=0, keepdims=True)\n",
        "  ex = np.exp(x)\n",
        "  return ex / np.sum(ex, axis=0, keepdims=True)\n",
        "\n",
        "\n",
        "def negative_log_likelihood(yhat, y, eps=1e-9):\n",
        "  return -np.sum(y * np.log(yhat + eps)) / y.shape[1]\n",
        "\n",
        "\n",
        "def classification_rate(logits, y):\n",
        "  return np.mean(np.argmax(logits, axis=0) == np.argmax(y, axis=0))"
      ],
      "execution_count": null,
      "outputs": []
    },
    {
      "cell_type": "markdown",
      "metadata": {
        "id": "xtMxx6oHi66Q"
      },
      "source": [
        "### Now, lets define Activation layer and Loss function"
      ]
    },
    {
      "cell_type": "code",
      "metadata": {
        "id": "ZqTlZfO4jDY_"
      },
      "source": [
        "class ReLU:\n",
        "  x = None\n",
        "\n",
        "  def forward(self, x):\n",
        "    self.x = x\n",
        "    y = np.maximum(x, 0)\n",
        "    return y\n",
        "\n",
        "  def backward(self, dldy):\n",
        "    # note that the jacobian is a diagonal matrix, since ReLU is applied elementwise\n",
        "    # we can thus simply express the jacobian as the diagonal vector\n",
        "    dydx = self.x > 0  # (one where x > 0, else 0)\n",
        "    dldx = dldy * dydx  # chain rule\n",
        "    return dldx\n",
        "\n",
        "\n",
        "class MultinomialCrossEntropyLoss:\n",
        "  y, yhat = None, None\n",
        "\n",
        "  def forward(self, logits, y):\n",
        "    self.y = y\n",
        "    self.yhat = softmax(logits)\n",
        "    return negative_log_likelihood(self.yhat, y)\n",
        "\n",
        "  def backward(self):\n",
        "    dldlogits = (self.yhat - self.y) / self.y.shape[1]\n",
        "    return dldlogits"
      ],
      "execution_count": null,
      "outputs": []
    },
    {
      "cell_type": "markdown",
      "metadata": {
        "id": "RWiMmK5qjlKA"
      },
      "source": [
        "## Exercise 1:\n",
        "Below you can find template for MLP class. Your task is to implement the missing forward and backward methods"
      ]
    },
    {
      "cell_type": "code",
      "metadata": {
        "id": "VmwUieNtj5wR"
      },
      "source": [
        "class MLP:\n",
        "\n",
        "  def __init__(self, n_hidden: int):\n",
        "\n",
        "    # Weights and biases to learn\n",
        "\n",
        "    b = np.sqrt(1 / d_data)\n",
        "    self.W1 = np.random.uniform(-b, b, size=(n_hidden, d_data)).astype(np.float32)\n",
        "    self.b1 = np.random.uniform(-b, b, size=(n_hidden, 1)).astype(np.float32)\n",
        "\n",
        "    b = np.sqrt(1 / n_hidden)\n",
        "    self.W2 = np.random.uniform(-b, b, size=(10, n_hidden)).astype(np.float32)\n",
        "    self.b2 = np.random.uniform(-b, b, size=(10, 1)).astype(np.float32)\n",
        "\n",
        "    # and placeholders for their gradients\n",
        "    self.dldW1, self.dldb1, self.dldW2, self.dldb2 = None, None, None, None\n",
        "\n",
        "    # Activations and hiddens/outputs to be computed in forward() and to be used in backward()\n",
        "    self.x, self.h = None, None\n",
        "\n",
        "    # Activation function for hidden layer\n",
        "    self.relu = ReLU()\n",
        "\n",
        "  '''\n",
        "  Tips!\n",
        "  Forward pass: given a (d_data, batch_size) data matrix in, return a (10, batch_size) output logits using weights and biases\n",
        "  Remember to store x and h to be used in backward() later\n",
        "  '''\n",
        "  def forward(self, x):\n",
        "    ##### YOUR CODE GOES HERE #####\n",
        "    self.x = x\n",
        "\n",
        "    a1 = self.W1 @ x + self.b1\n",
        "    self.h = self.relu.forward(a1)\n",
        "\n",
        "    a2 = self.W2 @ self.h + self.b2\n",
        "    logits = a2\n",
        "    ###############################\n",
        "    return logits\n",
        "\n",
        "  '''\n",
        "  Tips!\n",
        "  Backward pass: given dldlogits, backprop the gradient to all the weights and biases (dldb1, dldW1, dldb2, dldW2)\n",
        "  Remember to utilize the activations/hiddens stored in the forward() call and the self.relu.backward call\n",
        "  Pay attention to the shape of the gradients\n",
        "  '''\n",
        "  def backward(self, dldlogits):\n",
        "    ##### YOUR CODE GOES HERE #####\n",
        "    dlda2 = dldlogits\n",
        "    self.dldb2 = np.sum(dlda2, axis=1, keepdims=True)  # (10, m) -> (10, 1),\n",
        "    # we sum the gradient over the entire mini batch (we already divide by the batch size in the loss, -> we update the weights/bias with the average gradient over the mini batch)\n",
        "\n",
        "    self.dldW2 = dlda2 @ self.h.T  # (10, m) @ (num_hidden, m).T = (10, num_hidden), comes from tensor calculus\n",
        "\n",
        "    dldh = self.W2.T @ dlda2  # (10, num_hidden).T @ (10, m) = (num_hidden, m), see Eq 6.46 in deep learning book\n",
        "    dlda1 = self.relu.backward(dldh)  # (num_hidden, m)\n",
        "\n",
        "    self.dldb1 = np.sum(dlda1, axis=1, keepdims=True)  # (num_hidden, m).sum(axis=1) = (num_hidden,)\n",
        "    self.dldW1 = dlda1 @ self.x.T  # (num_hidden, m) @ (d_data, m).T = (num_hidden, d_data)\n",
        "    ###############################"
      ],
      "execution_count": null,
      "outputs": []
    },
    {
      "cell_type": "markdown",
      "metadata": {
        "id": "c1VpxR0BlQwQ"
      },
      "source": [
        "### Nows lets define dataloder function that will help us to easily load the data given the batch size"
      ]
    },
    {
      "cell_type": "code",
      "metadata": {
        "id": "gDLzQYSNlaHK"
      },
      "source": [
        "def dataloader(x, y, batch_size: int, shuffle=True):\n",
        "  idx = np.arange(x.shape[1])\n",
        "  if shuffle:\n",
        "    np.random.shuffle(idx)\n",
        "  n_batches = int(np.ceil(x.shape[1] / batch_size))\n",
        "  for i in range(n_batches):\n",
        "    idx_batch = idx[i * batch_size: (i + 1) * batch_size]\n",
        "    yield x_train[:, idx_batch], y_train[:, idx_batch]"
      ],
      "execution_count": null,
      "outputs": []
    },
    {
      "cell_type": "markdown",
      "metadata": {
        "id": "pk4NNYuYmTKT"
      },
      "source": [
        "## Exercise 2\n",
        "Below we have optimization loop for training out classifier. Your task is to implement missing forward and backward passes."
      ]
    },
    {
      "cell_type": "code",
      "metadata": {
        "colab": {
          "base_uri": "https://localhost:8080/",
          "height": 49,
          "referenced_widgets": [
            "c1d449c5aa5f432eb92d3d031f4c5a17",
            "7fd540acba2b44be96d630b54b22637c",
            "f8e7877e16284551af5d404584c669dc",
            "a19eb4a3d87641628c3017ad8a798f54",
            "82cd2b04773241da9aea44a8868a9892",
            "5065f5390b99497c891f9ab7bd5f49eb",
            "9df97f4082e248ab9c0e0c78cfe2e1c3",
            "84e1336b89984055a9f5786c615d0278",
            "277aebe5e84645bfa77456eaebbfb736",
            "5ece35a321e74a0fa1fc85b813d75edc",
            "e028a20fb71a4c0bb49ae306fb5e39b6"
          ]
        },
        "id": "WEJVWqOYmzHb",
        "outputId": "71c9777c-496f-411d-b37d-15c145022798"
      },
      "source": [
        "# initialization\n",
        "mlp = MLP(100)\n",
        "loss_fun = MultinomialCrossEntropyLoss()\n",
        "\n",
        "train_losses = []\n",
        "train_accuracies = []\n",
        "valid_losses = []\n",
        "valid_accuracies = []\n",
        "\n",
        "# mini batch gradient descent\n",
        "lr = 5e-2\n",
        "batch_size = 50\n",
        "\n",
        "pbar = tqdm(range(50))\n",
        "for epoch in pbar:\n",
        "  epoch_losses = []\n",
        "  correct = 0\n",
        "  for x, y in dataloader(x_train, y_train, batch_size):\n",
        "    ##### YOUR CODE GOES HERE #####\n",
        "\n",
        "    # forward pass: calculate logits and loss\n",
        "\n",
        "    logits = mlp.forward(x)\n",
        "    loss = loss_fun.forward(logits, y)\n",
        "\n",
        "    # backward pass: back propogate the loss gradient to your weights and update them with the learning rate\n",
        "\n",
        "    dldlogits = loss_fun.backward()\n",
        "    mlp.backward(dldlogits)\n",
        "\n",
        "    mlp.b1 -= lr * mlp.dldb1\n",
        "    mlp.W1 -= lr * mlp.dldW1\n",
        "    mlp.b2 -= lr * mlp.dldb2\n",
        "    mlp.W2 -= lr * mlp.dldW2\n",
        "    ###############################\n",
        "\n",
        "    # stats\n",
        "    epoch_losses.append(loss)\n",
        "    correct += np.sum(np.argmax(logits, 0) == np.argmax(y, 0))\n",
        "\n",
        "  train_losses.append(np.mean(epoch_losses))\n",
        "  train_accuracies.append(correct / x_train.shape[1])\n",
        "\n",
        "  # we're using the test set as a validation set here\n",
        "  logits = mlp.forward(x_test)\n",
        "  valid_losses.append(loss_fun.forward(logits, y_test))\n",
        "  valid_accuracies.append(np.mean(np.argmax(logits, 0) == np.argmax(y_test, 0)))\n",
        "\n",
        "  # update progress bar\n",
        "  pbar.set_description(f'acc: {train_accuracies[-1]:.2f}/{valid_accuracies[-1]:.2f}')"
      ],
      "execution_count": null,
      "outputs": [
        {
          "output_type": "display_data",
          "data": {
            "application/vnd.jupyter.widget-view+json": {
              "model_id": "c1d449c5aa5f432eb92d3d031f4c5a17",
              "version_minor": 0,
              "version_major": 2
            },
            "text/plain": [
              "  0%|          | 0/50 [00:00<?, ?it/s]"
            ]
          },
          "metadata": {}
        }
      ]
    },
    {
      "cell_type": "markdown",
      "metadata": {
        "id": "Wk9o2dj4nzCO"
      },
      "source": [
        "### Finally lets visualize your results!"
      ]
    },
    {
      "cell_type": "code",
      "metadata": {
        "colab": {
          "base_uri": "https://localhost:8080/",
          "height": 297
        },
        "id": "pesIm2oBn5kM",
        "outputId": "0fc120a6-6801-462e-b6dc-c1f09b2491f0"
      },
      "source": [
        "plt.figure(figsize=(10, 4))\n",
        "\n",
        "plt.subplot(1, 2, 1)\n",
        "plt.plot(train_losses, label='train')\n",
        "plt.plot(valid_losses, label='valid')\n",
        "plt.ylabel('loss')\n",
        "plt.xlabel('epoch')\n",
        "plt.legend()\n",
        "plt.grid()\n",
        "\n",
        "plt.subplot(1, 2, 2)\n",
        "plt.plot(train_accuracies, label='train')\n",
        "plt.plot(valid_accuracies, label='valid')\n",
        "plt.ylim(0, 1)\n",
        "plt.ylabel('accuracy')\n",
        "plt.xlabel('epoch')\n",
        "plt.legend()\n",
        "plt.grid()\n",
        "\n",
        "plt.tight_layout()\n",
        "plt.show()"
      ],
      "execution_count": null,
      "outputs": [
        {
          "output_type": "display_data",
          "data": {
            "image/png": "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\n",
            "text/plain": [
              "<Figure size 720x288 with 2 Axes>"
            ]
          },
          "metadata": {
            "needs_background": "light"
          }
        }
      ]
    },
    {
      "cell_type": "markdown",
      "metadata": {
        "id": "PqbnReXfoWgi"
      },
      "source": [
        "The results should be similar to last exercise"
      ]
    }
  ]
}
=======
{"nbformat":4,"nbformat_minor":0,"metadata":{"kernelspec":{"display_name":"Python 3","language":"python","name":"python3"},"language_info":{"codemirror_mode":{"name":"ipython","version":3},"file_extension":".py","mimetype":"text/x-python","name":"python","nbconvert_exporter":"python","pygments_lexer":"ipython3","version":"3.8.2"},"colab":{"provenance":[],"collapsed_sections":[]},"widgets":{"application/vnd.jupyter.widget-state+json":{"c1d449c5aa5f432eb92d3d031f4c5a17":{"model_module":"@jupyter-widgets/controls","model_name":"HBoxModel","model_module_version":"1.5.0","state":{"_view_name":"HBoxView","_dom_classes":[],"_model_name":"HBoxModel","_view_module":"@jupyter-widgets/controls","_model_module_version":"1.5.0","_view_count":null,"_view_module_version":"1.5.0","box_style":"","layout":"IPY_MODEL_7fd540acba2b44be96d630b54b22637c","_model_module":"@jupyter-widgets/controls","children":["IPY_MODEL_f8e7877e16284551af5d404584c669dc","IPY_MODEL_a19eb4a3d87641628c3017ad8a798f54","IPY_MODEL_82cd2b04773241da9aea44a8868a9892"]}},"7fd540acba2b44be96d630b54b22637c":{"model_module":"@jupyter-widgets/base","model_name":"LayoutModel","model_module_version":"1.2.0","state":{"_view_name":"LayoutView","grid_template_rows":null,"right":null,"justify_content":null,"_view_module":"@jupyter-widgets/base","overflow":null,"_model_module_version":"1.2.0","_view_count":null,"flex_flow":null,"width":null,"min_width":null,"border":null,"align_items":null,"bottom":null,"_model_module":"@jupyter-widgets/base","top":null,"grid_column":null,"overflow_y":null,"overflow_x":null,"grid_auto_flow":null,"grid_area":null,"grid_template_columns":null,"flex":null,"_model_name":"LayoutModel","justify_items":null,"grid_row":null,"max_height":null,"align_content":null,"visibility":null,"align_self":null,"height":null,"min_height":null,"padding":null,"grid_auto_rows":null,"grid_gap":null,"max_width":null,"order":null,"_view_module_version":"1.2.0","grid_template_areas":null,"object_position":null,"object_fit":null,"grid_auto_columns":null,"margin":null,"display":null,"left":null}},"f8e7877e16284551af5d404584c669dc":{"model_module":"@jupyter-widgets/controls","model_name":"HTMLModel","model_module_version":"1.5.0","state":{"_view_name":"HTMLView","style":"IPY_MODEL_5065f5390b99497c891f9ab7bd5f49eb","_dom_classes":[],"description":"","_model_name":"HTMLModel","placeholder":"​","_view_module":"@jupyter-widgets/controls","_model_module_version":"1.5.0","value":"acc: 0.76/0.50: 100%","_view_count":null,"_view_module_version":"1.5.0","description_tooltip":null,"_model_module":"@jupyter-widgets/controls","layout":"IPY_MODEL_9df97f4082e248ab9c0e0c78cfe2e1c3"}},"a19eb4a3d87641628c3017ad8a798f54":{"model_module":"@jupyter-widgets/controls","model_name":"FloatProgressModel","model_module_version":"1.5.0","state":{"_view_name":"ProgressView","style":"IPY_MODEL_84e1336b89984055a9f5786c615d0278","_dom_classes":[],"description":"","_model_name":"FloatProgressModel","bar_style":"success","max":50,"_view_module":"@jupyter-widgets/controls","_model_module_version":"1.5.0","value":50,"_view_count":null,"_view_module_version":"1.5.0","orientation":"horizontal","min":0,"description_tooltip":null,"_model_module":"@jupyter-widgets/controls","layout":"IPY_MODEL_277aebe5e84645bfa77456eaebbfb736"}},"82cd2b04773241da9aea44a8868a9892":{"model_module":"@jupyter-widgets/controls","model_name":"HTMLModel","model_module_version":"1.5.0","state":{"_view_name":"HTMLView","style":"IPY_MODEL_5ece35a321e74a0fa1fc85b813d75edc","_dom_classes":[],"description":"","_model_name":"HTMLModel","placeholder":"​","_view_module":"@jupyter-widgets/controls","_model_module_version":"1.5.0","value":" 50/50 [02:24&lt;00:00,  2.89s/it]","_view_count":null,"_view_module_version":"1.5.0","description_tooltip":null,"_model_module":"@jupyter-widgets/controls","layout":"IPY_MODEL_e028a20fb71a4c0bb49ae306fb5e39b6"}},"5065f5390b99497c891f9ab7bd5f49eb":{"model_module":"@jupyter-widgets/controls","model_name":"DescriptionStyleModel","model_module_version":"1.5.0","state":{"_view_name":"StyleView","_model_name":"DescriptionStyleModel","description_width":"","_view_module":"@jupyter-widgets/base","_model_module_version":"1.5.0","_view_count":null,"_view_module_version":"1.2.0","_model_module":"@jupyter-widgets/controls"}},"9df97f4082e248ab9c0e0c78cfe2e1c3":{"model_module":"@jupyter-widgets/base","model_name":"LayoutModel","model_module_version":"1.2.0","state":{"_view_name":"LayoutView","grid_template_rows":null,"right":null,"justify_content":null,"_view_module":"@jupyter-widgets/base","overflow":null,"_model_module_version":"1.2.0","_view_count":null,"flex_flow":null,"width":null,"min_width":null,"border":null,"align_items":null,"bottom":null,"_model_module":"@jupyter-widgets/base","top":null,"grid_column":null,"overflow_y":null,"overflow_x":null,"grid_auto_flow":null,"grid_area":null,"grid_template_columns":null,"flex":null,"_model_name":"LayoutModel","justify_items":null,"grid_row":null,"max_height":null,"align_content":null,"visibility":null,"align_self":null,"height":null,"min_height":null,"padding":null,"grid_auto_rows":null,"grid_gap":null,"max_width":null,"order":null,"_view_module_version":"1.2.0","grid_template_areas":null,"object_position":null,"object_fit":null,"grid_auto_columns":null,"margin":null,"display":null,"left":null}},"84e1336b89984055a9f5786c615d0278":{"model_module":"@jupyter-widgets/controls","model_name":"ProgressStyleModel","model_module_version":"1.5.0","state":{"_view_name":"StyleView","_model_name":"ProgressStyleModel","description_width":"","_view_module":"@jupyter-widgets/base","_model_module_version":"1.5.0","_view_count":null,"_view_module_version":"1.2.0","bar_color":null,"_model_module":"@jupyter-widgets/controls"}},"277aebe5e84645bfa77456eaebbfb736":{"model_module":"@jupyter-widgets/base","model_name":"LayoutModel","model_module_version":"1.2.0","state":{"_view_name":"LayoutView","grid_template_rows":null,"right":null,"justify_content":null,"_view_module":"@jupyter-widgets/base","overflow":null,"_model_module_version":"1.2.0","_view_count":null,"flex_flow":null,"width":null,"min_width":null,"border":null,"align_items":null,"bottom":null,"_model_module":"@jupyter-widgets/base","top":null,"grid_column":null,"overflow_y":null,"overflow_x":null,"grid_auto_flow":null,"grid_area":null,"grid_template_columns":null,"flex":null,"_model_name":"LayoutModel","justify_items":null,"grid_row":null,"max_height":null,"align_content":null,"visibility":null,"align_self":null,"height":null,"min_height":null,"padding":null,"grid_auto_rows":null,"grid_gap":null,"max_width":null,"order":null,"_view_module_version":"1.2.0","grid_template_areas":null,"object_position":null,"object_fit":null,"grid_auto_columns":null,"margin":null,"display":null,"left":null}},"5ece35a321e74a0fa1fc85b813d75edc":{"model_module":"@jupyter-widgets/controls","model_name":"DescriptionStyleModel","model_module_version":"1.5.0","state":{"_view_name":"StyleView","_model_name":"DescriptionStyleModel","description_width":"","_view_module":"@jupyter-widgets/base","_model_module_version":"1.5.0","_view_count":null,"_view_module_version":"1.2.0","_model_module":"@jupyter-widgets/controls"}},"e028a20fb71a4c0bb49ae306fb5e39b6":{"model_module":"@jupyter-widgets/base","model_name":"LayoutModel","model_module_version":"1.2.0","state":{"_view_name":"LayoutView","grid_template_rows":null,"right":null,"justify_content":null,"_view_module":"@jupyter-widgets/base","overflow":null,"_model_module_version":"1.2.0","_view_count":null,"flex_flow":null,"width":null,"min_width":null,"border":null,"align_items":null,"bottom":null,"_model_module":"@jupyter-widgets/base","top":null,"grid_column":null,"overflow_y":null,"overflow_x":null,"grid_auto_flow":null,"grid_area":null,"grid_template_columns":null,"flex":null,"_model_name":"LayoutModel","justify_items":null,"grid_row":null,"max_height":null,"align_content":null,"visibility":null,"align_self":null,"height":null,"min_height":null,"padding":null,"grid_auto_rows":null,"grid_gap":null,"max_width":null,"order":null,"_view_module_version":"1.2.0","grid_template_areas":null,"object_position":null,"object_fit":null,"grid_auto_columns":null,"margin":null,"display":null,"left":null}}}}},"cells":[{"cell_type":"markdown","metadata":{"id":"PDciqgzRq4WS"},"source":["# Backpropogation"]},{"cell_type":"code","metadata":{"id":"bgisEO6Z5GDq"},"source":["import matplotlib.pyplot as plt\n","import numpy as np\n","import sklearn.preprocessing\n","from tqdm.notebook import tqdm\n","import torchvision\n","from torchvision import transforms"],"execution_count":null,"outputs":[]},{"cell_type":"markdown","metadata":{"id":"A9VfWxMU4r7X"},"source":["### Load dataset"]},{"cell_type":"code","metadata":{"colab":{"base_uri":"https://localhost:8080/"},"id":"zGbsi1rPa9UO","executionInfo":{"status":"ok","timestamp":1632632908384,"user_tz":-120,"elapsed":3565,"user":{"displayName":"Lakshadeep Naik","photoUrl":"https://lh3.googleusercontent.com/a-/AOh14Gg7xPyq1Of3Qjm0s3WUB9WoH55Pj6TNJbIYA5Z4CqM=s64","userId":"02409272171751509969"}},"outputId":"b1840489-c45f-4227-92c5-4a1a5a20d8ad"},"source":["class Cifar10(torchvision.datasets.CIFAR10):\n","  def __init__(self, train: bool):\n","    super().__init__(root='~/data', train=train, download=True)\n","    self.data = self.data.astype(np.float32) / 255 - 0.5\n","\n","  def __getitem__(self, idx):\n","    return self.data[idx], self.targets[idx]\n","\n","data_train = Cifar10(train=True)\n","data_test = Cifar10(train=False)\n","\n","x_train = np.array(data_train.data)\n","x_test = np.array(data_test.data)\n","\n","# Reshape\n","d_data = np.prod(x_train.shape[1:])  # 32 * 32 * 3\n","x_train = x_train.reshape((-1, d_data))  # (50000, d_data)\n","x_test = x_test.reshape((-1, d_data))  # (10000, d_data)\n","\n","y_train = np.array(data_train.targets)\n","y_test = np.array(data_test.targets)\n","\n","# Convert y indices to one-hot, 10 classes\n","y_train = sklearn.preprocessing.label_binarize(y_train, classes=range(10))\n","y_test = sklearn.preprocessing.label_binarize(y_test, classes=range(10))\n","\n","# Store samples in columns\n","x_train = x_train.T\n","y_train = y_train.T\n","x_test = x_test.T\n","y_test = y_test.T\n","\n","# Use single precision for speed\n","x_train = x_train.astype(np.float32)\n","y_train = y_train.astype(np.float32)\n","x_test = x_test.astype(np.float32)\n","y_test = y_test.astype(np.float32)\n","\n","# Report shapes\n","print(f'x_train/y_train shape: {x_train.shape}/{y_train.shape}')\n","print(f'x_test/y_test shape: {x_test.shape}/{y_test.shape}')"],"execution_count":null,"outputs":[{"output_type":"stream","name":"stdout","text":["Files already downloaded and verified\n","Files already downloaded and verified\n","x_train/y_train shape: (3072, 50000)/(10, 50000)\n","x_test/y_test shape: (3072, 10000)/(10, 10000)\n"]}]},{"cell_type":"markdown","metadata":{"id":"7FAN22M2gfuO"},"source":["### Lets define some helper functions first"]},{"cell_type":"code","metadata":{"id":"4dIpbfm5gudS"},"source":["def softmax(x):\n","  x = x - np.max(x, axis=0, keepdims=True)\n","  ex = np.exp(x)\n","  return ex / np.sum(ex, axis=0, keepdims=True)\n","\n","\n","def negative_log_likelihood(yhat, y, eps=1e-9):\n","  return -np.sum(y * np.log(yhat + eps)) / y.shape[1]\n","\n","\n","def classification_rate(logits, y): \n","  return np.mean(np.argmax(logits, axis=0) == np.argmax(y, axis=0))"],"execution_count":null,"outputs":[]},{"cell_type":"markdown","metadata":{"id":"xtMxx6oHi66Q"},"source":["### Now, lets define Activation layer and Loss function"]},{"cell_type":"code","metadata":{"id":"ZqTlZfO4jDY_"},"source":["class ReLU:\n","  x = None\n","\n","  def forward(self, x):\n","    self.x = x\n","    y = np.maximum(x, 0)\n","    return y\n","\n","  def backward(self, dldy):\n","    # note that the jacobian is a diagonal matrix, since ReLU is applied elementwise\n","    # we can thus simply express the jacobian as the diagonal vector\n","    dydx = self.x > 0  # (one where x > 0, else 0)\n","    dldx = dldy * dydx  # chain rule\n","    return dldx\n","\n","\n","class MultinomialCrossEntropyLoss:\n","  y, yhat = None, None\n","\n","  def forward(self, logits, y):\n","    self.y = y\n","    self.yhat = softmax(logits)\n","    return negative_log_likelihood(self.yhat, y)\n","\n","  def backward(self):\n","    dldlogits = (self.yhat - self.y) / self.y.shape[1]\n","    return dldlogits"],"execution_count":null,"outputs":[]},{"cell_type":"markdown","metadata":{"id":"RWiMmK5qjlKA"},"source":["## Exercise 1: \n","Below you can find template for MLP class. Your task is to implement the missing forward and backward methods"]},{"cell_type":"code","metadata":{"id":"VmwUieNtj5wR"},"source":["class MLP:\n","  \n","  def __init__(self, n_hidden: int):\n","    \n","    # Weights and biases to learn\n","\n","    b = np.sqrt(1 / d_data)\n","    self.W1 = np.random.uniform(-b, b, size=(n_hidden, d_data)).astype(np.float32)\n","    self.b1 = np.random.uniform(-b, b, size=(n_hidden, 1)).astype(np.float32)\n","\n","    b = np.sqrt(1 / n_hidden)\n","    self.W2 = np.random.uniform(-b, b, size=(10, n_hidden)).astype(np.float32)\n","    self.b2 = np.random.uniform(-b, b, size=(10, 1)).astype(np.float32)\n","    \n","    # and placeholders for their gradients\n","    self.dldW1, self.dldb1, self.dldW2, self.dldb2 = None, None, None, None\n","    \n","    # Activations and hiddens/outputs to be computed in forward() and to be used in backward()\n","    self.x, self.h = None, None\n","\n","    # Activation function for hidden layer\n","    self.relu = ReLU()\n","\n","  '''\n","  Tips!\n","  Forward pass: given a (d_data, batch_size) data matrix in, return a (10, batch_size) output logits using weights and biases\n","  Remember to store x and h to be used in backward() later\n","  '''\n","  def forward(self, x):\n","    ##### YOUR CODE GOES HERE #####\n","    self.x = x\n","    \n","    a1 = self.W1 @ x + self.b1\n","    self.h = self.relu.forward(a1)\n","\n","    a2 = self.W2 @ self.h + self.b2\n","    logits = a2\n","    ###############################\n","    return logits\n","\n","  '''\n","  Tips!\n","  Backward pass: given dldlogits, backprop the gradient to all the weights and biases (dldb1, dldW1, dldb2, dldW2)\n","  Remember to utilize the activations/hiddens stored in the forward() call and the self.relu.backward call\n","  Pay attention to the shape of the gradients\n","  '''\n","  def backward(self, dldlogits):\n","    ##### YOUR CODE GOES HERE #####\n","    dlda2 = dldlogits\n","    self.dldb2 = np.sum(dlda2, axis=1, keepdims=True)  # (10, m) -> (10, 1), \n","    # we sum the gradient over the entire mini batch (we already divide by the batch size in the loss, -> we update the weights/bias with the average gradient over the mini batch)\n","    \n","    self.dldW2 = dlda2 @ self.h.T  # (10, m) @ (num_hidden, m).T = (10, num_hidden), comes from tensor calculus\n","    \n","    dldh = self.W2.T @ dlda2  # (10, num_hidden).T @ (10, m) = (num_hidden, m), see Eq 6.46 in deep learning book\n","    dlda1 = self.relu.backward(dldh)  # (num_hidden, m)\n","\n","    self.dldb1 = np.sum(dlda1, axis=1, keepdims=True)  # (num_hidden, m).sum(axis=1) = (num_hidden,)\n","    self.dldW1 = dlda1 @ self.x.T  # (num_hidden, m) @ (d_data, m).T = (num_hidden, d_data)\n","    ###############################"],"execution_count":null,"outputs":[]},{"cell_type":"markdown","metadata":{"id":"c1VpxR0BlQwQ"},"source":["### Nows lets define dataloder function that will help us to easily load the data given the batch size"]},{"cell_type":"code","metadata":{"id":"gDLzQYSNlaHK"},"source":["def dataloader(x, y, batch_size: int, shuffle=True):\n","  idx = np.arange(x.shape[1])\n","  if shuffle:\n","    np.random.shuffle(idx)\n","  n_batches = int(np.ceil(x.shape[1] / batch_size))\n","  for i in range(n_batches):\n","    idx_batch = idx[i * batch_size: (i + 1) * batch_size]\n","    yield x_train[:, idx_batch], y_train[:, idx_batch]"],"execution_count":null,"outputs":[]},{"cell_type":"markdown","metadata":{"id":"pk4NNYuYmTKT"},"source":["## Exercise 2\n","Below we have optimization loop for training out classifier. Your task is to implement missing forward and backward passes."]},{"cell_type":"code","metadata":{"colab":{"base_uri":"https://localhost:8080/","height":49,"referenced_widgets":["c1d449c5aa5f432eb92d3d031f4c5a17","7fd540acba2b44be96d630b54b22637c","f8e7877e16284551af5d404584c669dc","a19eb4a3d87641628c3017ad8a798f54","82cd2b04773241da9aea44a8868a9892","5065f5390b99497c891f9ab7bd5f49eb","9df97f4082e248ab9c0e0c78cfe2e1c3","84e1336b89984055a9f5786c615d0278","277aebe5e84645bfa77456eaebbfb736","5ece35a321e74a0fa1fc85b813d75edc","e028a20fb71a4c0bb49ae306fb5e39b6"]},"id":"WEJVWqOYmzHb","executionInfo":{"status":"ok","timestamp":1632634821139,"user_tz":-120,"elapsed":144313,"user":{"displayName":"Lakshadeep Naik","photoUrl":"https://lh3.googleusercontent.com/a-/AOh14Gg7xPyq1Of3Qjm0s3WUB9WoH55Pj6TNJbIYA5Z4CqM=s64","userId":"02409272171751509969"}},"outputId":"71c9777c-496f-411d-b37d-15c145022798"},"source":["# initialization\n","mlp = MLP(100)\n","loss_fun = MultinomialCrossEntropyLoss()\n","\n","train_losses = []\n","train_accuracies = []\n","valid_losses = []\n","valid_accuracies = []\n","\n","# mini batch gradient descent\n","lr = 5e-2\n","batch_size = 50\n","\n","pbar = tqdm(range(50))\n","for epoch in pbar:\n","  epoch_losses = []\n","  correct = 0\n","  for x, y in dataloader(x_train, y_train, batch_size):\n","    ##### YOUR CODE GOES HERE #####\n","    \n","    # forward pass: calculate logits and loss\n","    \n","    logits = mlp.forward(x)\n","    loss = loss_fun.forward(logits, y)\n","\n","    # backward pass: back propogate the loss gradient to your weights and update them with the learning rate\n","    \n","    dldlogits = loss_fun.backward()\n","    mlp.backward(dldlogits)\n","\n","    mlp.b1 -= lr * mlp.dldb1\n","    mlp.W1 -= lr * mlp.dldW1\n","    mlp.b2 -= lr * mlp.dldb2\n","    mlp.W2 -= lr * mlp.dldW2\n","    ###############################\n","\n","    # stats\n","    epoch_losses.append(loss)\n","    correct += np.sum(np.argmax(logits, 0) == np.argmax(y, 0))\n","\n","  train_losses.append(np.mean(epoch_losses))\n","  train_accuracies.append(correct / x_train.shape[1])\n","  \n","  # we're using the test set as a validation set here\n","  logits = mlp.forward(x_test)\n","  valid_losses.append(loss_fun.forward(logits, y_test))\n","  valid_accuracies.append(np.mean(np.argmax(logits, 0) == np.argmax(y_test, 0)))\n","  \n","  # update progress bar\n","  pbar.set_description(f'acc: {train_accuracies[-1]:.2f}/{valid_accuracies[-1]:.2f}')"],"execution_count":null,"outputs":[{"output_type":"display_data","data":{"application/vnd.jupyter.widget-view+json":{"model_id":"c1d449c5aa5f432eb92d3d031f4c5a17","version_minor":0,"version_major":2},"text/plain":["  0%|          | 0/50 [00:00<?, ?it/s]"]},"metadata":{}}]},{"cell_type":"markdown","metadata":{"id":"Wk9o2dj4nzCO"},"source":["### Finally lets visualize your results!"]},{"cell_type":"code","metadata":{"colab":{"base_uri":"https://localhost:8080/","height":297},"id":"pesIm2oBn5kM","executionInfo":{"status":"ok","timestamp":1632634907017,"user_tz":-120,"elapsed":704,"user":{"displayName":"Lakshadeep Naik","photoUrl":"https://lh3.googleusercontent.com/a-/AOh14Gg7xPyq1Of3Qjm0s3WUB9WoH55Pj6TNJbIYA5Z4CqM=s64","userId":"02409272171751509969"}},"outputId":"0fc120a6-6801-462e-b6dc-c1f09b2491f0"},"source":["plt.figure(figsize=(10, 4))\n","\n","plt.subplot(1, 2, 1)\n","plt.plot(train_losses, label='train')\n","plt.plot(valid_losses, label='valid')\n","plt.ylabel('loss')\n","plt.xlabel('epoch')\n","plt.legend()\n","plt.grid()\n","\n","plt.subplot(1, 2, 2)\n","plt.plot(train_accuracies, label='train')\n","plt.plot(valid_accuracies, label='valid')\n","plt.ylim(0, 1)\n","plt.ylabel('accuracy')\n","plt.xlabel('epoch')\n","plt.legend()\n","plt.grid()\n","\n","plt.tight_layout()\n","plt.show()"],"execution_count":null,"outputs":[{"output_type":"display_data","data":{"image/png":"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\n","text/plain":["<Figure size 720x288 with 2 Axes>"]},"metadata":{"needs_background":"light"}}]},{"cell_type":"markdown","metadata":{"id":"PqbnReXfoWgi"},"source":["The results should be similar to last exercise"]}]}
>>>>>>> 9350ee20ee24be3392f226ee633b5a8a5563b7a8
